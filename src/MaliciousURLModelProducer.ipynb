{
 "cells": [
  {
   "cell_type": "code",
   "execution_count": 54,
   "id": "d6720811-11ff-45a1-b343-b8783783a1ce",
   "metadata": {},
   "outputs": [],
   "source": [
    "import os\n",
    "from river import datasets\n",
    "from river import ensemble\n",
    "from confluent_kafka import Producer,Consumer\n",
    "import certifi\n",
    "import time\n",
    "import json"
   ]
  },
  {
   "cell_type": "code",
   "execution_count": 55,
   "id": "72712806-8483-4074-8583-b80c0f3e9a57",
   "metadata": {},
   "outputs": [],
   "source": [
    "user= os.environ['kafka_username']\n",
    "password= os.environ['kafka_password']\n",
    "bsts= os.environ['kafka_bootstrap_servers']"
   ]
  },
  {
   "cell_type": "code",
   "execution_count": 56,
   "id": "adf40c93-7d3a-4ccd-b1b4-3c77aa38b1da",
   "metadata": {},
   "outputs": [],
   "source": [
    "feature_topic = 't_8'"
   ]
  },
  {
   "cell_type": "code",
   "execution_count": 57,
   "id": "e73e2a4a-38b0-4461-80cf-0653dac59e7e",
   "metadata": {},
   "outputs": [],
   "source": [
    "conf = {'bootstrap.servers': bsts,\n",
    "            'sasl.mechanism': 'PLAIN',\n",
    "            'security.protocol': 'SASL_SSL',\n",
    "            'ssl.ca.location': certifi.where(),\n",
    "            'sasl.username': user,\n",
    "            'sasl.password': password,\n",
    "            'batch.num.messages': 2048,\n",
    "            #'queue.buffering.max.messages': 100,\n",
    "            'linger.ms': 100,\n",
    "            'client.id': 'producer-icde-2023'}\n",
    "producer = Producer(conf)    "
   ]
  },
  {
   "cell_type": "code",
   "execution_count": 58,
   "id": "7cb9c515-37e3-42f9-9582-2b135e8053d7",
   "metadata": {},
   "outputs": [],
   "source": [
    "max_size=101000\n",
    "dataset = datasets.MaliciousURL()\n",
    "data = dataset.take(max_size)"
   ]
  },
  {
   "cell_type": "code",
   "execution_count": 59,
   "id": "a5db38c6-4dbf-4c5a-8000-3c652e70f57e",
   "metadata": {},
   "outputs": [
    {
     "name": "stdout",
     "output_type": "stream",
     "text": [
      "Queue full, flushing 100001\n",
      "flushing count - 100001, time taken in seconds- 10.381866693496704 \n",
      "final flushing count - 101000, time taken in seconds- 10.659695386886597 \n"
     ]
    }
   ],
   "source": [
    "end=0\n",
    "cnt = 0\n",
    "st = time.time()\n",
    "abs_st = time.time()\n",
    "for f, y in data:\n",
    "    cnt = cnt + 1    \n",
    "    d = {}\n",
    "    d['f']=f\n",
    "    d['y']=str(y).lower()\n",
    "    d['st']=time.time()  \n",
    "            \n",
    "    v= json.dumps(d).encode('utf-8')\n",
    "    try:\n",
    "        producer.produce(feature_topic, value=v, key=str(cnt))\n",
    "    except:\n",
    "      print(f'Queue full, flushing {cnt}')\n",
    "      producer.flush()\n",
    "      end = time.time()\n",
    "      print(f'flushing count - {cnt}, time taken in seconds- {end-st} ')        \n",
    "        \n",
    "      producer.produce(feature_topic, value=v, key=str(cnt))\n",
    " \n",
    "producer.flush()\n",
    "end = time.time()\n",
    "print(f'final flushing count - {cnt}, time taken in seconds- {end-abs_st} ')        "
   ]
  },
  {
   "cell_type": "code",
   "execution_count": null,
   "id": "607cca7a-be6d-4b5b-b551-abe364eb3448",
   "metadata": {},
   "outputs": [],
   "source": []
  },
  {
   "cell_type": "code",
   "execution_count": null,
   "id": "06024b56-ec5f-4f70-ad89-79062db73f1c",
   "metadata": {},
   "outputs": [],
   "source": []
  }
 ],
 "metadata": {
  "kernelspec": {
   "display_name": "Python 3",
   "language": "python",
   "name": "python3"
  },
  "language_info": {
   "codemirror_mode": {
    "name": "ipython",
    "version": 3
   },
   "file_extension": ".py",
   "mimetype": "text/x-python",
   "name": "python",
   "nbconvert_exporter": "python",
   "pygments_lexer": "ipython3",
   "version": "3.9.15"
  }
 },
 "nbformat": 4,
 "nbformat_minor": 5
}
