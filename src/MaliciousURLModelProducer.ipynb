{
 "cells": [
  {
   "cell_type": "code",
   "execution_count": 55,
   "id": "d6720811-11ff-45a1-b343-b8783783a1ce",
   "metadata": {},
   "outputs": [],
   "source": [
    "import os\n",
    "from river import datasets\n",
    "from river import ensemble\n",
    "from confluent_kafka import Producer,Consumer\n",
    "import certifi\n",
    "import time\n",
    "import json"
   ]
  },
  {
   "cell_type": "code",
   "execution_count": 56,
   "id": "72712806-8483-4074-8583-b80c0f3e9a57",
   "metadata": {},
   "outputs": [],
   "source": [
    "user= os.environ['kafka_username']\n",
    "password= os.environ['kafka_password']\n",
    "bsts= os.environ['kafka_bootstrap_servers']"
   ]
  },
  {
   "cell_type": "code",
   "execution_count": null,
   "id": "adf40c93-7d3a-4ccd-b1b4-3c77aa38b1da",
   "metadata": {},
   "outputs": [],
   "source": []
  },
  {
   "cell_type": "code",
   "execution_count": 57,
   "id": "e73e2a4a-38b0-4461-80cf-0653dac59e7e",
   "metadata": {},
   "outputs": [],
   "source": [
    "conf = {'bootstrap.servers': bsts,\n",
    "            'sasl.mechanism': 'PLAIN',\n",
    "            'security.protocol': 'SASL_SSL',\n",
    "            'ssl.ca.location': certifi.where(),\n",
    "            'sasl.username': user,\n",
    "            'sasl.password': password,\n",
    "            'batch.num.messages': 4000,\n",
    "            'linger.ms': 100,\n",
    "            'client.id': 'producer-icde-2023'}\n",
    "producer = Producer(conf)    "
   ]
  },
  {
   "cell_type": "code",
   "execution_count": 78,
   "id": "7cb9c515-37e3-42f9-9582-2b135e8053d7",
   "metadata": {},
   "outputs": [],
   "source": [
    "max_size=5000\n",
    "dataset = datasets.MaliciousURL()\n",
    "data = dataset.take(max_size)"
   ]
  },
  {
   "cell_type": "code",
   "execution_count": 79,
   "id": "a5db38c6-4dbf-4c5a-8000-3c652e70f57e",
   "metadata": {},
   "outputs": [
    {
     "name": "stdout",
     "output_type": "stream",
     "text": [
      "Queue full, flushing 600\n",
      "Queue full, flushing 1200\n",
      "Queue full, flushing 1800\n",
      "Queue full, flushing 2400\n",
      "Queue full, flushing 3000\n",
      "Queue full, flushing 3600\n",
      "Queue full, flushing 4200\n",
      "Queue full, flushing 4800\n",
      "final flushing count - 5000, time taken in seconds- 11.601880550384521 \n"
     ]
    }
   ],
   "source": [
    "feature_topic = 'features_v4'\n",
    "flush_size=600\n",
    "end=0\n",
    "cnt = 0\n",
    "st = time.time()\n",
    "abs_st = time.time()\n",
    "for f, y in data:\n",
    "    cnt = cnt + 1    \n",
    "    d = {}\n",
    "    d['f']=f\n",
    "    d['y']=str(y).lower()\n",
    "    d['st']=time.time()  \n",
    "            \n",
    "    v= json.dumps(d).encode('utf-8')\n",
    "    try:\n",
    "        producer.produce(feature_topic, value=v, key=str(cnt))\n",
    "        if(cnt%flush_size==0):\n",
    "            print(f'Queue full, flushing {cnt}')\n",
    "            producer.flush()\n",
    "            time.sleep(1.2)\n",
    "    except:\n",
    "      print(f'Queue full, flushing {cnt}')\n",
    "      producer.flush()\n",
    "      end = time.time()\n",
    "      print(f'flushing count - {cnt}, time taken in seconds- {end-st} ')        \n",
    "        \n",
    "      producer.produce(feature_topic, value=v, key=str(cnt))\n",
    " \n",
    "producer.flush()\n",
    "end = time.time()\n",
    "print(f'final flushing count - {cnt}, time taken in seconds- {end-abs_st} ')        "
   ]
  },
  {
   "cell_type": "code",
   "execution_count": null,
   "id": "2d356c03-67a8-495e-bd45-6cb43c9d7571",
   "metadata": {},
   "outputs": [],
   "source": []
  },
  {
   "cell_type": "code",
   "execution_count": null,
   "id": "38fff1ee-abf2-4381-85e9-7015cb44daa5",
   "metadata": {},
   "outputs": [],
   "source": []
  },
  {
   "cell_type": "code",
   "execution_count": null,
   "id": "3727091e-7985-4ac7-9766-d6905e61deeb",
   "metadata": {},
   "outputs": [],
   "source": []
  },
  {
   "cell_type": "code",
   "execution_count": null,
   "id": "b56df583-d147-4a64-adc7-4b1d661c6fb8",
   "metadata": {},
   "outputs": [],
   "source": []
  }
 ],
 "metadata": {
  "kernelspec": {
   "display_name": "Python 3",
   "language": "python",
   "name": "python3"
  },
  "language_info": {
   "codemirror_mode": {
    "name": "ipython",
    "version": 3
   },
   "file_extension": ".py",
   "mimetype": "text/x-python",
   "name": "python",
   "nbconvert_exporter": "python",
   "pygments_lexer": "ipython3",
   "version": "3.9.15"
  }
 },
 "nbformat": 4,
 "nbformat_minor": 5
}
