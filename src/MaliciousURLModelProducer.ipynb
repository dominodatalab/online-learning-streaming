{
 "cells": [
  {
   "cell_type": "code",
   "execution_count": 11,
   "id": "d6720811-11ff-45a1-b343-b8783783a1ce",
   "metadata": {
    "tags": []
   },
   "outputs": [],
   "source": [
    "import os\n",
    "from river import datasets\n",
    "from river import ensemble\n",
    "from confluent_kafka import Producer,Consumer\n",
    "import certifi\n",
    "import time\n",
    "import json\n",
    "import uuid"
   ]
  },
  {
   "cell_type": "code",
   "execution_count": 12,
   "id": "696945f2-b31b-4dcb-a519-e46c32a030b1",
   "metadata": {
    "tags": []
   },
   "outputs": [],
   "source": [
    "#Feature Topic\n",
    "feature_topic = 'features'\n",
    "\n",
    "#flush_size and sleep_time throttle the number of feature records written to the feature topic per second\n",
    "flush_size=800\n",
    "sleep_time=1\n",
    "\n",
    "#Maximum number of records processed. We use a small number 5000. But a typical size would be 100000\n",
    "#In the practice, the features are arriving continuously.\n",
    "max_size=5000\n",
    "\n"
   ]
  },
  {
   "cell_type": "code",
   "execution_count": 13,
   "id": "72712806-8483-4074-8583-b80c0f3e9a57",
   "metadata": {
    "tags": []
   },
   "outputs": [],
   "source": [
    "user= os.environ['kafka_username']\n",
    "password= os.environ['kafka_password']\n",
    "bsts= os.environ['kafka_bootstrap_servers']"
   ]
  },
  {
   "cell_type": "code",
   "execution_count": 14,
   "id": "e73e2a4a-38b0-4461-80cf-0653dac59e7e",
   "metadata": {
    "tags": []
   },
   "outputs": [],
   "source": [
    "conf = {'bootstrap.servers': bsts,\n",
    "            'sasl.mechanism': 'PLAIN',\n",
    "            'security.protocol': 'SASL_SSL',\n",
    "            'ssl.ca.location': certifi.where(),\n",
    "            'sasl.username': user,\n",
    "            'sasl.password': password,\n",
    "            'batch.num.messages': 4000,\n",
    "            'linger.ms': 100,\n",
    "            'client.id': 'producer-icde-2023'}\n",
    "producer = Producer(conf)    "
   ]
  },
  {
   "cell_type": "code",
   "execution_count": 15,
   "id": "a5db38c6-4dbf-4c5a-8000-3c652e70f57e",
   "metadata": {
    "tags": []
   },
   "outputs": [
    {
     "name": "stdout",
     "output_type": "stream",
     "text": [
      "Queue full, flushing 800\n",
      "Queue full, flushing 1600\n",
      "Queue full, flushing 2400\n",
      "Queue full, flushing 3200\n",
      "Queue full, flushing 4000\n",
      "Queue full, flushing 4800\n",
      "final flushing count - 5000, time taken in seconds- 8.400670051574707 \n"
     ]
    }
   ],
   "source": [
    "#Dataset used\n",
    "dataset = datasets.MaliciousURL()\n",
    "data = dataset.take(max_size)\n",
    "end=0\n",
    "cnt = 0\n",
    "st = time.time()\n",
    "abs_st = time.time()\n",
    "for f, y in data:\n",
    "    cnt = cnt + 1    \n",
    "    d = {}\n",
    "    d['id'] = str(uuid.uuid4())\n",
    "    d['f']=f\n",
    "    d['y']=str(y).lower()\n",
    "    d['st']=time.time()  \n",
    "            \n",
    "    v= json.dumps(d).encode('utf-8')\n",
    "    try:\n",
    "        producer.produce(feature_topic, value=v, key=str(cnt))\n",
    "        if(cnt%flush_size==0):\n",
    "            print(f'Queue full, flushing {cnt}')\n",
    "            producer.flush()\n",
    "            time.sleep(sleep_time)\n",
    "    except:\n",
    "      print(f'Queue full, flushing {cnt}')\n",
    "      producer.flush()\n",
    "      end = time.time()\n",
    "      print(f'flushing count - {cnt}, time taken in seconds- {end-st} ')        \n",
    "        \n",
    "      producer.produce(feature_topic, value=v, key=str(cnt))\n",
    " \n",
    "producer.flush()\n",
    "end = time.time()\n",
    "print(f'final flushing count - {cnt}, time taken in seconds- {end-abs_st} ')        "
   ]
  },
  {
   "cell_type": "code",
   "execution_count": null,
   "id": "2d356c03-67a8-495e-bd45-6cb43c9d7571",
   "metadata": {},
   "outputs": [],
   "source": []
  },
  {
   "cell_type": "code",
   "execution_count": null,
   "id": "38fff1ee-abf2-4381-85e9-7015cb44daa5",
   "metadata": {},
   "outputs": [],
   "source": []
  },
  {
   "cell_type": "code",
   "execution_count": null,
   "id": "3727091e-7985-4ac7-9766-d6905e61deeb",
   "metadata": {},
   "outputs": [],
   "source": []
  },
  {
   "cell_type": "code",
   "execution_count": null,
   "id": "b56df583-d147-4a64-adc7-4b1d661c6fb8",
   "metadata": {},
   "outputs": [],
   "source": []
  }
 ],
 "metadata": {
  "kernelspec": {
   "display_name": "Python 3 (ipykernel)",
   "language": "python",
   "name": "python3"
  },
  "language_info": {
   "codemirror_mode": {
    "name": "ipython",
    "version": 3
   },
   "file_extension": ".py",
   "mimetype": "text/x-python",
   "name": "python",
   "nbconvert_exporter": "python",
   "pygments_lexer": "ipython3",
   "version": "3.9.16"
  }
 },
 "nbformat": 4,
 "nbformat_minor": 5
}
