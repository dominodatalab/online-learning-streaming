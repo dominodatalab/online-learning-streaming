{
 "cells": [
  {
   "cell_type": "code",
   "execution_count": 1,
   "id": "05363ff8-ee11-44e4-9547-93e575345e9e",
   "metadata": {},
   "outputs": [],
   "source": [
    "import os\n",
    "from river import datasets\n",
    "from confluent_kafka import Producer,Consumer\n",
    "import certifi\n",
    "import time\n",
    "import json"
   ]
  },
  {
   "cell_type": "code",
   "execution_count": 2,
   "id": "9c06d881-59ee-432a-a205-72d7f4c064e8",
   "metadata": {},
   "outputs": [],
   "source": [
    "user= os.environ['kafka_username']\n",
    "password= os.environ['kafka_password']\n",
    "bsts= os.environ['kafka_bootstrap_servers']"
   ]
  },
  {
   "cell_type": "code",
   "execution_count": 3,
   "id": "93333d02-5133-43a6-8ef2-17d25f3f0b69",
   "metadata": {},
   "outputs": [],
   "source": [
    "topic = 'malicious_url_events'"
   ]
  },
  {
   "cell_type": "code",
   "execution_count": 4,
   "id": "e4acf09b-509e-4e4c-a348-715e464e3857",
   "metadata": {},
   "outputs": [],
   "source": [
    "conf = {'bootstrap.servers': bsts,\n",
    "            'sasl.mechanism': 'PLAIN',\n",
    "            'security.protocol': 'SASL_SSL',\n",
    "            'ssl.ca.location': certifi.where(),\n",
    "            'sasl.username': user,\n",
    "            'sasl.password': password,\n",
    "            'batch.num.messages': 2048,\n",
    "            #'queue.buffering.max.messages': 100,\n",
    "            'linger.ms': 100,\n",
    "            'client.id': 'producer-icde-2023'}\n",
    "producer = Producer(conf)    "
   ]
  },
  {
   "cell_type": "code",
   "execution_count": 5,
   "id": "6781f351-b857-48e0-9bbb-9b222625d4f9",
   "metadata": {},
   "outputs": [],
   "source": [
    "max_size=10000\n",
    "dataset = datasets.MaliciousURL()\n",
    "data = dataset.take(max_size)\n"
   ]
  },
  {
   "cell_type": "code",
   "execution_count": 7,
   "id": "1be05c23-1ffc-4b27-b9ad-1be5078d7e4b",
   "metadata": {},
   "outputs": [
    {
     "name": "stdout",
     "output_type": "stream",
     "text": [
      "flushing count - 1024, time taken in seconds- -1679402607.623565 \n",
      "flushing count - 2048, time taken in seconds- -1679402608.959284 \n",
      "flushing count - 3072, time taken in seconds- -1679402610.2956533 \n",
      "flushing count - 4096, time taken in seconds- -1679402611.6653483 \n",
      "flushing count - 5120, time taken in seconds- -1679402613.0497224 \n",
      "flushing count - 6144, time taken in seconds- -1679402614.4050431 \n",
      "flushing count - 7168, time taken in seconds- -1679402615.796914 \n",
      "flushing count - 8192, time taken in seconds- -1679402617.153735 \n",
      "final flushing count - 8976, time taken in seconds- 11.249021530151367 \n"
     ]
    }
   ],
   "source": [
    "end=0\n",
    "cnt = 0\n",
    "st = time.time()\n",
    "abs_st = time.time()\n",
    "for f, y in data:\n",
    "    cnt = cnt + 1    \n",
    "    d = {}\n",
    "    d['f']=f\n",
    "    d['y']=str(y).lower()\n",
    "    d['st']=time.time()  \n",
    "            \n",
    "    v= json.dumps(d).encode('utf-8')\n",
    "    try:\n",
    "        producer.produce(topic, value=v, key=str(cnt))\n",
    "    except:\n",
    "      print(f'Queue full, flushing {cnt}')\n",
    "      producer.flush()\n",
    "      producer.produce(topic, value=v, key=str(cnt))\n",
    "    if cnt%1024==0:           \n",
    "        #end = time.time()\n",
    "        print(f'flushing count - {cnt}, time taken in seconds- {end-st} ')        \n",
    "        producer.flush()\n",
    "        time.sleep(1)\n",
    "        st = time.time()        \n",
    "        \n",
    "producer.flush()\n",
    "end = time.time()\n",
    "print(f'final flushing count - {cnt}, time taken in seconds- {end-abs_st} ')        "
   ]
  },
  {
   "cell_type": "code",
   "execution_count": 18,
   "id": "640586a5-a806-4266-be34-479bd254c49a",
   "metadata": {},
   "outputs": [],
   "source": [
    "os.environ['PREDICTION_TOPIC_PREFIX']='malicious_url_predictions'\n",
    "os.environ['PREDICTION_TOPIC_SUFFIX']='_16'\n",
    "prediction_topic_prefix = os.environ['PREDICTION_TOPIC_PREFIX']\n",
    "prediction_topic_suffix=os.environ['PREDICTION_TOPIC_SUFFIX']\n",
    "PREDICTION_TOPIC=f'{prediction_topic_prefix}{prediction_topic_suffix}'"
   ]
  },
  {
   "cell_type": "code",
   "execution_count": null,
   "id": "dc41a926-636e-4772-80fb-d19df75e1c11",
   "metadata": {},
   "outputs": [],
   "source": []
  },
  {
   "cell_type": "code",
   "execution_count": 21,
   "id": "cce7366f-5d4c-48c4-a0fd-e8358da9cb78",
   "metadata": {},
   "outputs": [],
   "source": [
    "from river import metrics\n",
    "auc = metrics.ROCAUC()\n",
    "f1 = metrics.F1()\n",
    "recall = metrics.MicroRecall()\n",
    "predictions_consumer_conf = {'bootstrap.servers': bsts,\n",
    "                     'sasl.username': user,\n",
    "                     'sasl.password': password,\n",
    "                     'sasl.mechanism': 'PLAIN',\n",
    "                     'security.protocol': 'SASL_SSL',\n",
    "                     'ssl.ca.location': certifi.where(),\n",
    "                     'group.id': 'prediction-grp',\n",
    "                     'enable.auto.commit': True,\n",
    "                     'auto.offset.reset': 'earliest'}\n",
    "predictions_consumer = Consumer(predictions_consumer_conf)    \n",
    "predictions_consumer.subscribe([PREDICTION_TOPIC])"
   ]
  },
  {
   "cell_type": "code",
   "execution_count": 22,
   "id": "30613b73-7440-4d2d-bfdf-792563642547",
   "metadata": {},
   "outputs": [
    {
     "data": {
      "text/plain": [
       "{'bootstrap.servers': 'pkc-6ojv2.us-west4.gcp.confluent.cloud:9092',\n",
       " 'sasl.username': '3LZS4LPMJGHPXAOE',\n",
       " 'sasl.password': '8sekIsdlanX6wuK+FQhZwHFvxVD/mQhfHS3Vi+pi7JqAOttktzucH2KZRy+Ip9gI',\n",
       " 'sasl.mechanism': 'PLAIN',\n",
       " 'security.protocol': 'SASL_SSL',\n",
       " 'ssl.ca.location': '/opt/conda/lib/python3.9/site-packages/certifi/cacert.pem',\n",
       " 'group.id': 'prediction-grp',\n",
       " 'enable.auto.commit': True,\n",
       " 'auto.offset.reset': 'latest'}"
      ]
     },
     "execution_count": 22,
     "metadata": {},
     "output_type": "execute_result"
    }
   ],
   "source": [
    "{'bootstrap.servers': bsts,\n",
    "                     'sasl.username': user,\n",
    "                     'sasl.password': password,\n",
    "                     'sasl.mechanism': 'PLAIN',\n",
    "                     'security.protocol': 'SASL_SSL',\n",
    "                     'ssl.ca.location': certifi.where(),\n",
    "                     'group.id': 'prediction-grp',\n",
    "                     'enable.auto.commit': True,\n",
    "                     'auto.offset.reset': 'latest'}"
   ]
  },
  {
   "cell_type": "code",
   "execution_count": 23,
   "id": "6444fa65-9fe2-4c14-9134-0974a3c3e1be",
   "metadata": {},
   "outputs": [
    {
     "name": "stdout",
     "output_type": "stream",
     "text": [
      "{'y': False, 'score': None, 'duration': 1.2357680797576904, 'learn_ds': 0.006380319595336914, 'mem_usage': 530772}\n"
     ]
    },
    {
     "ename": "TypeError",
     "evalue": "'>' not supported between instances of 'NoneType' and 'float'",
     "output_type": "error",
     "traceback": [
      "\u001b[0;31m---------------------------------------------------------------------------\u001b[0m",
      "\u001b[0;31mTypeError\u001b[0m                                 Traceback (most recent call last)",
      "Cell \u001b[0;32mIn [23], line 22\u001b[0m\n\u001b[1;32m     20\u001b[0m durs\u001b[38;5;241m.\u001b[39mappend(message[\u001b[38;5;124m'\u001b[39m\u001b[38;5;124mduration\u001b[39m\u001b[38;5;124m'\u001b[39m])\n\u001b[1;32m     21\u001b[0m mem_usage\u001b[38;5;241m.\u001b[39mappend(message[\u001b[38;5;124m'\u001b[39m\u001b[38;5;124mmem_usage\u001b[39m\u001b[38;5;124m'\u001b[39m])\n\u001b[0;32m---> 22\u001b[0m auc \u001b[38;5;241m=\u001b[39m \u001b[43mauc\u001b[49m\u001b[38;5;241;43m.\u001b[39;49m\u001b[43mupdate\u001b[49m\u001b[43m(\u001b[49m\u001b[43my\u001b[49m\u001b[43m,\u001b[49m\u001b[43m \u001b[49m\u001b[43mscore\u001b[49m\u001b[43m)\u001b[49m\n\u001b[1;32m     23\u001b[0m f1 \u001b[38;5;241m=\u001b[39m f1\u001b[38;5;241m.\u001b[39mupdate(y, score)\n\u001b[1;32m     24\u001b[0m recall \u001b[38;5;241m=\u001b[39m recall\u001b[38;5;241m.\u001b[39mupdate(y, score)\n",
      "File \u001b[0;32m/opt/conda/lib/python3.9/site-packages/river/metrics/roc_auc.py:67\u001b[0m, in \u001b[0;36mROCAUC.update\u001b[0;34m(self, y_true, y_pred, sample_weight)\u001b[0m\n\u001b[1;32m     65\u001b[0m p_true \u001b[38;5;241m=\u001b[39m y_pred\u001b[38;5;241m.\u001b[39mget(\u001b[38;5;28;01mTrue\u001b[39;00m, \u001b[38;5;241m0.0\u001b[39m) \u001b[38;5;28;01mif\u001b[39;00m \u001b[38;5;28misinstance\u001b[39m(y_pred, \u001b[38;5;28mdict\u001b[39m) \u001b[38;5;28;01melse\u001b[39;00m y_pred\n\u001b[1;32m     66\u001b[0m \u001b[38;5;28;01mfor\u001b[39;00m t, cm \u001b[38;5;129;01min\u001b[39;00m \u001b[38;5;28mzip\u001b[39m(\u001b[38;5;28mself\u001b[39m\u001b[38;5;241m.\u001b[39mthresholds, \u001b[38;5;28mself\u001b[39m\u001b[38;5;241m.\u001b[39mcms):\n\u001b[0;32m---> 67\u001b[0m     cm\u001b[38;5;241m.\u001b[39mupdate(y_true \u001b[38;5;241m==\u001b[39m \u001b[38;5;28mself\u001b[39m\u001b[38;5;241m.\u001b[39mpos_val, \u001b[43mp_true\u001b[49m\u001b[43m \u001b[49m\u001b[38;5;241;43m>\u001b[39;49m\u001b[43m \u001b[49m\u001b[43mt\u001b[49m, sample_weight)\n\u001b[1;32m     68\u001b[0m \u001b[38;5;28;01mreturn\u001b[39;00m \u001b[38;5;28mself\u001b[39m\n",
      "\u001b[0;31mTypeError\u001b[0m: '>' not supported between instances of 'NoneType' and 'float'"
     ]
    }
   ],
   "source": [
    "\n",
    "durs = []\n",
    "mem_usage = []\n",
    "cnt = 0\n",
    "while(cnt<10000):\n",
    "    msg = predictions_consumer.poll(timeout=0.1)\n",
    "    \n",
    "    if msg is None: continue\n",
    "    if msg.error():\n",
    "        if msg.error().code() == KafkaError._PARTITION_EOF:\n",
    "                sys.stderr.write('%% %s [%d] reached end at offset %d\\n' %\n",
    "                                         (msg.topic(), msg.partition(), msg.offset()))\n",
    "    else:            \n",
    "        message = json.loads(msg.value().decode(\"utf-8\"))\n",
    "        if(cnt%1000==0):\n",
    "            print(message)\n",
    "            \n",
    "        cnt = cnt + 1\n",
    "        score = message['score']\n",
    "        y = message['y']\n",
    "        durs.append(message['duration'])\n",
    "        mem_usage.append(message['mem_usage'])\n",
    "        auc = auc.update(y, score)\n",
    "        f1 = f1.update(y, score)\n",
    "        recall = recall.update(y, score)\n",
    "            "
   ]
  },
  {
   "cell_type": "code",
   "execution_count": null,
   "id": "a5be61a1-7435-4767-a9d3-203a1d6ca15c",
   "metadata": {},
   "outputs": [],
   "source": [
    "import statistics\n",
    "mean = statistics.mean(durs)\n",
    "median = statistics.median(durs)\n",
    "max_dur = max(durs)\n",
    "min_dur = min(durs)\n",
    "avg_dur = min(durs)\n",
    "total_records = len(durs)\n",
    "memory_usage = statistics.mean(mem_usage)\n",
    "print(max_dur)\n",
    "print(min_dur)\n",
    "print(avg_dur)\n",
    "print(auc)\n",
    "print(f1)\n",
    "print(recall)\n",
    "print(memory_usage)"
   ]
  },
  {
   "cell_type": "code",
   "execution_count": null,
   "id": "0ac820c2-3fd3-4e5c-9401-7e3c35223bde",
   "metadata": {},
   "outputs": [],
   "source": [
    "from river import datasets\n",
    "from river import metrics\n",
    "from river import tree\n",
    "from river import ensemble\n",
    "from river import evaluate\n",
    "from river import compose\n",
    "from river import naive_bayes\n",
    "from time import time\n",
    "\n",
    "from river import anomaly\n",
    "from river import compose\n",
    "from river import datasets\n",
    "from river import metrics\n",
    "from river import preprocessing"
   ]
  },
  {
   "cell_type": "code",
   "execution_count": null,
   "id": "9c0ad095-42df-4782-9975-af596bc7bd2f",
   "metadata": {},
   "outputs": [],
   "source": [
    "model = ensemble.AdaptiveRandomForestClassifier(seed=8, leaf_prediction=\"mc\")"
   ]
  },
  {
   "cell_type": "code",
   "execution_count": null,
   "id": "e4b6c3a1-07d2-4ce0-88cb-b8928d782618",
   "metadata": {},
   "outputs": [],
   "source": [
    "dir(ensemble)"
   ]
  },
  {
   "cell_type": "code",
   "execution_count": null,
   "id": "23449d1e-a779-4b1a-b2bb-04e4814b7eee",
   "metadata": {},
   "outputs": [],
   "source": []
  }
 ],
 "metadata": {
  "kernelspec": {
   "display_name": "Python 3",
   "language": "python",
   "name": "python3"
  },
  "language_info": {
   "codemirror_mode": {
    "name": "ipython",
    "version": 3
   },
   "file_extension": ".py",
   "mimetype": "text/x-python",
   "name": "python",
   "nbconvert_exporter": "python",
   "pygments_lexer": "ipython3",
   "version": "3.9.15"
  }
 },
 "nbformat": 4,
 "nbformat_minor": 5
}
