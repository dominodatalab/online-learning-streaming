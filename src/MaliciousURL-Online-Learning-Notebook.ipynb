{
 "cells": [
  {
   "cell_type": "code",
   "execution_count": 1,
   "id": "05363ff8-ee11-44e4-9547-93e575345e9e",
   "metadata": {},
   "outputs": [],
   "source": [
    "import os\n",
    "from river import datasets\n",
    "from confluent_kafka import Producer,Consumer\n",
    "import certifi\n",
    "import time\n",
    "import json"
   ]
  },
  {
   "cell_type": "code",
   "execution_count": 2,
   "id": "9c06d881-59ee-432a-a205-72d7f4c064e8",
   "metadata": {},
   "outputs": [],
   "source": [
    "user= os.environ['kafka_username']\n",
    "password= os.environ['kafka_password']\n",
    "bsts= os.environ['kafka_bootstrap_servers']"
   ]
  },
  {
   "cell_type": "code",
   "execution_count": 3,
   "id": "93333d02-5133-43a6-8ef2-17d25f3f0b69",
   "metadata": {},
   "outputs": [],
   "source": [
    "topic = 'malicious_url_events'"
   ]
  },
  {
   "cell_type": "code",
   "execution_count": 4,
   "id": "e4acf09b-509e-4e4c-a348-715e464e3857",
   "metadata": {},
   "outputs": [],
   "source": [
    "conf = {'bootstrap.servers': bsts,\n",
    "            'sasl.mechanism': 'PLAIN',\n",
    "            'security.protocol': 'SASL_SSL',\n",
    "            'ssl.ca.location': certifi.where(),\n",
    "            'sasl.username': user,\n",
    "            'sasl.password': password,\n",
    "            'batch.num.messages': 2048,\n",
    "            #'queue.buffering.max.messages': 100,\n",
    "            'linger.ms': 100,\n",
    "            'client.id': 'producer-icde-2023'}\n",
    "producer = Producer(conf)    "
   ]
  },
  {
   "cell_type": "code",
   "execution_count": 5,
   "id": "6781f351-b857-48e0-9bbb-9b222625d4f9",
   "metadata": {},
   "outputs": [],
   "source": [
    "max_size=10000\n",
    "dataset = datasets.MaliciousURL()\n",
    "data = dataset.take(max_size)\n"
   ]
  },
  {
   "cell_type": "code",
   "execution_count": 6,
   "id": "1be05c23-1ffc-4b27-b9ad-1be5078d7e4b",
   "metadata": {},
   "outputs": [
    {
     "name": "stdout",
     "output_type": "stream",
     "text": [
      "final flushing count - 10000, time taken in seconds- 13.317464590072632 \n"
     ]
    }
   ],
   "source": [
    "cnt = 0\n",
    "st = time.time()\n",
    "abs_st = time.time()\n",
    "for f, y in data:\n",
    "    cnt = cnt + 1    \n",
    "    d = {}\n",
    "    d['f']=f\n",
    "    d['y']=str(y).lower()\n",
    "    d['st']=time.time()  \n",
    "            \n",
    "    v= json.dumps(d).encode('utf-8')\n",
    "    try:\n",
    "        producer.produce(topic, value=v, key=str(cnt))\n",
    "    except:\n",
    "      print(f'Queue full, flushing {cnt}')\n",
    "      producer.flush()\n",
    "      producer.produce(topic, value=v, key=str(cnt))\n",
    "    if cnt%1024==0:           \n",
    "        #end = time.time()\n",
    "        print(f'flushing count - {cnt}, time taken in seconds- {end-st} ')        \n",
    "        producer.flush()\n",
    "        time.sleep(1)\n",
    "        st = time.time()        \n",
    "        \n",
    "producer.flush()\n",
    "end = time.time()\n",
    "print(f'final flushing count - {cnt}, time taken in seconds- {end-abs_st} ')        "
   ]
  },
  {
   "cell_type": "code",
   "execution_count": null,
   "id": "640586a5-a806-4266-be34-479bd254c49a",
   "metadata": {},
   "outputs": [],
   "source": [
    "os.environ['PREDICTION_TOPIC_PREFIX']='malicious_url_predictions'\n",
    "os.environ['PREDICTION_TOPIC_SUFFIX']='_8'\n",
    "prediction_topic_prefix = os.environ['PREDICTION_TOPIC_PREFIX']\n",
    "prediction_topic_suffix=os.environ['PREDICTION_TOPIC_SUFFIX']\n",
    "PREDICTION_TOPIC=f'{prediction_topic_prefix}{prediction_topic_suffix}'"
   ]
  },
  {
   "cell_type": "code",
   "execution_count": null,
   "id": "cce7366f-5d4c-48c4-a0fd-e8358da9cb78",
   "metadata": {},
   "outputs": [],
   "source": [
    "from river import metrics\n",
    "auc = metrics.ROCAUC()\n",
    "f1 = metrics.F1()\n",
    "recall = metrics.MicroRecall()\n",
    "predictions_consumer_conf = {'bootstrap.servers': bsts,\n",
    "                     'sasl.username': user,\n",
    "                     'sasl.password': password,\n",
    "                     'sasl.mechanism': 'PLAIN',\n",
    "                     'security.protocol': 'SASL_SSL',\n",
    "                     'ssl.ca.location': certifi.where(),\n",
    "                     'group.id': 'prediction-grp',\n",
    "                     'enable.auto.commit': True,\n",
    "                     'auto.offset.reset': 'latest'}\n",
    "predictions_consumer = Consumer(predictions_consumer_conf)    \n",
    "predictions_consumer.subscribe([PREDICTION_TOPIC])"
   ]
  },
  {
   "cell_type": "code",
   "execution_count": null,
   "id": "30613b73-7440-4d2d-bfdf-792563642547",
   "metadata": {},
   "outputs": [],
   "source": [
    "{'bootstrap.servers': bsts,\n",
    "                     'sasl.username': user,\n",
    "                     'sasl.password': password,\n",
    "                     'sasl.mechanism': 'PLAIN',\n",
    "                     'security.protocol': 'SASL_SSL',\n",
    "                     'ssl.ca.location': certifi.where(),\n",
    "                     'group.id': 'prediction-grp',\n",
    "                     'enable.auto.commit': True,\n",
    "                     'auto.offset.reset': 'latest'}"
   ]
  },
  {
   "cell_type": "code",
   "execution_count": null,
   "id": "6444fa65-9fe2-4c14-9134-0974a3c3e1be",
   "metadata": {},
   "outputs": [],
   "source": [
    "\n",
    "durs = []\n",
    "mem_usage = []\n",
    "cnt = 0\n",
    "while(cnt<10000):\n",
    "    msg = predictions_consumer.poll(timeout=0.1)\n",
    "    \n",
    "    if msg is None: continue\n",
    "    if msg.error():\n",
    "        if msg.error().code() == KafkaError._PARTITION_EOF:\n",
    "                sys.stderr.write('%% %s [%d] reached end at offset %d\\n' %\n",
    "                                         (msg.topic(), msg.partition(), msg.offset()))\n",
    "    else:            \n",
    "        message = json.loads(msg.value().decode(\"utf-8\"))\n",
    "        if(cnt%1000==0):\n",
    "            print(message)\n",
    "            \n",
    "        cnt = cnt + 1\n",
    "        score = message['score']\n",
    "        y = message['y']\n",
    "        durs.append(message['duration'])\n",
    "        mem_usage.append(message['mem_usage'])\n",
    "        auc = auc.update(y, score)\n",
    "        f1 = f1.update(y, score)\n",
    "        recall = recall.update(y, score)\n",
    "            "
   ]
  },
  {
   "cell_type": "code",
   "execution_count": null,
   "id": "a5be61a1-7435-4767-a9d3-203a1d6ca15c",
   "metadata": {},
   "outputs": [],
   "source": [
    "import statistics\n",
    "mean = statistics.mean(durs)\n",
    "median = statistics.median(durs)\n",
    "max_dur = max(durs)\n",
    "min_dur = min(durs)\n",
    "avg_dur = min(durs)\n",
    "total_records = len(durs)\n",
    "memory_usage = statistics.mean(mem_usage)\n",
    "print(max_dur)\n",
    "print(min_dur)\n",
    "print(avg_dur)\n",
    "print(auc)\n",
    "print(f1)\n",
    "print(recall)\n",
    "print(memory_usage)"
   ]
  },
  {
   "cell_type": "code",
   "execution_count": null,
   "id": "0ac820c2-3fd3-4e5c-9401-7e3c35223bde",
   "metadata": {},
   "outputs": [],
   "source": [
    "from river import datasets\n",
    "from river import metrics\n",
    "from river import tree\n",
    "from river import ensemble\n",
    "from river import evaluate\n",
    "from river import compose\n",
    "from river import naive_bayes\n",
    "from time import time\n",
    "\n",
    "from river import anomaly\n",
    "from river import compose\n",
    "from river import datasets\n",
    "from river import metrics\n",
    "from river import preprocessing"
   ]
  },
  {
   "cell_type": "code",
   "execution_count": null,
   "id": "9c0ad095-42df-4782-9975-af596bc7bd2f",
   "metadata": {},
   "outputs": [],
   "source": [
    "model = ensemble.AdaptiveRandomForestClassifier(seed=8, leaf_prediction=\"mc\")"
   ]
  },
  {
   "cell_type": "code",
   "execution_count": null,
   "id": "e4b6c3a1-07d2-4ce0-88cb-b8928d782618",
   "metadata": {},
   "outputs": [],
   "source": [
    "dir(ensemble)"
   ]
  },
  {
   "cell_type": "code",
   "execution_count": null,
   "id": "23449d1e-a779-4b1a-b2bb-04e4814b7eee",
   "metadata": {},
   "outputs": [],
   "source": []
  }
 ],
 "metadata": {
  "kernelspec": {
   "display_name": "Python 3",
   "language": "python",
   "name": "python3"
  },
  "language_info": {
   "codemirror_mode": {
    "name": "ipython",
    "version": 3
   },
   "file_extension": ".py",
   "mimetype": "text/x-python",
   "name": "python",
   "nbconvert_exporter": "python",
   "pygments_lexer": "ipython3",
   "version": "3.9.15"
  }
 },
 "nbformat": 4,
 "nbformat_minor": 5
}
