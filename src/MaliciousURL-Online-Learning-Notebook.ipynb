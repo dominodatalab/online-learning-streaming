{
 "cells": [
  {
   "cell_type": "code",
   "execution_count": 1,
   "id": "05363ff8-ee11-44e4-9547-93e575345e9e",
   "metadata": {},
   "outputs": [],
   "source": [
    "import os\n",
    "from river import datasets\n",
    "from confluent_kafka import Producer,Consumer\n",
    "import certifi\n",
    "import time\n",
    "import json"
   ]
  },
  {
   "cell_type": "code",
   "execution_count": 2,
   "id": "9c06d881-59ee-432a-a205-72d7f4c064e8",
   "metadata": {},
   "outputs": [],
   "source": [
    "user= os.environ['kafka_username']\n",
    "password= os.environ['kafka_password']\n",
    "bsts= os.environ['kafka_bootstrap_servers']"
   ]
  },
  {
   "cell_type": "code",
   "execution_count": 3,
   "id": "93333d02-5133-43a6-8ef2-17d25f3f0b69",
   "metadata": {},
   "outputs": [],
   "source": [
    "topic = 'malicious_url_events'"
   ]
  },
  {
   "cell_type": "code",
   "execution_count": 7,
   "id": "e4acf09b-509e-4e4c-a348-715e464e3857",
   "metadata": {},
   "outputs": [],
   "source": [
    "conf = {'bootstrap.servers': bsts,\n",
    "            'sasl.mechanism': 'PLAIN',\n",
    "            'security.protocol': 'SASL_SSL',\n",
    "            'ssl.ca.location': certifi.where(),\n",
    "            'sasl.username': user,\n",
    "            'sasl.password': password,\n",
    "            'batch.num.messages': 2048,\n",
    "            #'queue.buffering.max.messages': 100,\n",
    "            'linger.ms': 100,\n",
    "            'client.id': 'producer-icde-2023'}\n",
    "producer = Producer(conf)    "
   ]
  },
  {
   "cell_type": "code",
   "execution_count": 8,
   "id": "6781f351-b857-48e0-9bbb-9b222625d4f9",
   "metadata": {},
   "outputs": [],
   "source": [
    "max_size=1000000\n",
    "dataset = datasets.MaliciousURL()\n",
    "data = dataset.take(max_size)\n"
   ]
  },
  {
   "cell_type": "code",
   "execution_count": 9,
   "id": "1be05c23-1ffc-4b27-b9ad-1be5078d7e4b",
   "metadata": {},
   "outputs": [
    {
     "name": "stdout",
     "output_type": "stream",
     "text": [
      "flushing count - 10000, time taken in seconds- 1.5729355812072754 \n",
      "flushing count - 20000, time taken in seconds- 1.577406406402588 \n",
      "flushing count - 30000, time taken in seconds- 1.582676887512207 \n",
      "flushing count - 40000, time taken in seconds- 1.6417350769042969 \n",
      "flushing count - 50000, time taken in seconds- 1.6600840091705322 \n",
      "flushing count - 60000, time taken in seconds- 1.691756010055542 \n",
      "flushing count - 70000, time taken in seconds- 1.6265254020690918 \n",
      "flushing count - 80000, time taken in seconds- 1.68703293800354 \n",
      "flushing count - 90000, time taken in seconds- 1.6566026210784912 \n",
      "flushing count - 100000, time taken in seconds- 1.6125907897949219 \n",
      "flushing count - 110000, time taken in seconds- 1.662442922592163 \n",
      "flushing count - 120000, time taken in seconds- 1.6044433116912842 \n",
      "flushing count - 130000, time taken in seconds- 1.6466152667999268 \n",
      "flushing count - 140000, time taken in seconds- 1.6557090282440186 \n",
      "flushing count - 150000, time taken in seconds- 1.6640396118164062 \n",
      "flushing count - 160000, time taken in seconds- 1.6128289699554443 \n",
      "flushing count - 170000, time taken in seconds- 1.6335654258728027 \n",
      "flushing count - 180000, time taken in seconds- 1.7565679550170898 \n",
      "flushing count - 190000, time taken in seconds- 1.7408342361450195 \n",
      "flushing count - 200000, time taken in seconds- 1.6971125602722168 \n",
      "flushing count - 210000, time taken in seconds- 1.6340608596801758 \n",
      "flushing count - 220000, time taken in seconds- 1.680732011795044 \n",
      "flushing count - 230000, time taken in seconds- 1.6776695251464844 \n",
      "flushing count - 240000, time taken in seconds- 1.6681702136993408 \n",
      "flushing count - 250000, time taken in seconds- 1.6044836044311523 \n",
      "flushing count - 260000, time taken in seconds- 1.6091735363006592 \n",
      "flushing count - 270000, time taken in seconds- 1.5781538486480713 \n",
      "flushing count - 280000, time taken in seconds- 1.6998445987701416 \n",
      "flushing count - 290000, time taken in seconds- 1.659024715423584 \n",
      "flushing count - 300000, time taken in seconds- 1.7067508697509766 \n",
      "flushing count - 310000, time taken in seconds- 1.6859097480773926 \n",
      "flushing count - 320000, time taken in seconds- 1.7356419563293457 \n",
      "flushing count - 330000, time taken in seconds- 1.7041542530059814 \n",
      "flushing count - 340000, time taken in seconds- 1.6308608055114746 \n",
      "flushing count - 350000, time taken in seconds- 1.6473758220672607 \n",
      "flushing count - 360000, time taken in seconds- 1.5815799236297607 \n",
      "flushing count - 370000, time taken in seconds- 1.638794183731079 \n",
      "flushing count - 380000, time taken in seconds- 1.6650848388671875 \n",
      "flushing count - 390000, time taken in seconds- 1.5745887756347656 \n",
      "flushing count - 400000, time taken in seconds- 1.5877211093902588 \n",
      "flushing count - 410000, time taken in seconds- 1.8699705600738525 \n",
      "flushing count - 420000, time taken in seconds- 1.7439215183258057 \n",
      "flushing count - 430000, time taken in seconds- 1.6604347229003906 \n",
      "flushing count - 440000, time taken in seconds- 1.7701945304870605 \n",
      "flushing count - 450000, time taken in seconds- 1.8757646083831787 \n",
      "flushing count - 460000, time taken in seconds- 1.7545251846313477 \n",
      "flushing count - 470000, time taken in seconds- 1.8419506549835205 \n",
      "flushing count - 480000, time taken in seconds- 1.7265911102294922 \n",
      "flushing count - 490000, time taken in seconds- 1.6115729808807373 \n",
      "flushing count - 500000, time taken in seconds- 1.6829679012298584 \n",
      "flushing count - 510000, time taken in seconds- 1.5999033451080322 \n",
      "flushing count - 520000, time taken in seconds- 1.6932239532470703 \n",
      "flushing count - 530000, time taken in seconds- 1.5399386882781982 \n",
      "flushing count - 540000, time taken in seconds- 1.581376075744629 \n",
      "flushing count - 550000, time taken in seconds- 1.5843863487243652 \n",
      "flushing count - 560000, time taken in seconds- 1.6999080181121826 \n",
      "flushing count - 570000, time taken in seconds- 1.7487902641296387 \n",
      "flushing count - 580000, time taken in seconds- 1.5906052589416504 \n",
      "flushing count - 590000, time taken in seconds- 1.6760220527648926 \n",
      "flushing count - 600000, time taken in seconds- 1.7362821102142334 \n",
      "flushing count - 610000, time taken in seconds- 1.7301440238952637 \n",
      "flushing count - 620000, time taken in seconds- 1.7392525672912598 \n",
      "flushing count - 630000, time taken in seconds- 1.7588748931884766 \n",
      "flushing count - 640000, time taken in seconds- 1.6717193126678467 \n",
      "flushing count - 650000, time taken in seconds- 1.6373624801635742 \n",
      "flushing count - 660000, time taken in seconds- 1.68717360496521 \n",
      "flushing count - 670000, time taken in seconds- 1.645817518234253 \n",
      "flushing count - 680000, time taken in seconds- 1.6981213092803955 \n",
      "flushing count - 690000, time taken in seconds- 1.760725736618042 \n",
      "flushing count - 700000, time taken in seconds- 1.6592719554901123 \n",
      "flushing count - 710000, time taken in seconds- 1.6646308898925781 \n",
      "flushing count - 720000, time taken in seconds- 1.5996742248535156 \n",
      "flushing count - 730000, time taken in seconds- 1.7426488399505615 \n",
      "flushing count - 740000, time taken in seconds- 1.6683306694030762 \n",
      "flushing count - 750000, time taken in seconds- 1.615600824356079 \n",
      "flushing count - 760000, time taken in seconds- 1.7621574401855469 \n",
      "flushing count - 770000, time taken in seconds- 1.7796127796173096 \n",
      "flushing count - 780000, time taken in seconds- 1.7057304382324219 \n",
      "flushing count - 790000, time taken in seconds- 1.678091287612915 \n",
      "flushing count - 800000, time taken in seconds- 1.6316554546356201 \n",
      "flushing count - 810000, time taken in seconds- 1.7505338191986084 \n",
      "flushing count - 820000, time taken in seconds- 1.6040594577789307 \n",
      "flushing count - 830000, time taken in seconds- 1.6312928199768066 \n",
      "flushing count - 840000, time taken in seconds- 1.5923821926116943 \n",
      "flushing count - 850000, time taken in seconds- 1.6507010459899902 \n",
      "flushing count - 860000, time taken in seconds- 1.7722654342651367 \n",
      "flushing count - 870000, time taken in seconds- 1.647986888885498 \n",
      "flushing count - 880000, time taken in seconds- 1.6613893508911133 \n",
      "flushing count - 890000, time taken in seconds- 1.790174961090088 \n",
      "flushing count - 900000, time taken in seconds- 1.6361274719238281 \n",
      "flushing count - 910000, time taken in seconds- 1.8456025123596191 \n",
      "flushing count - 920000, time taken in seconds- 1.5853142738342285 \n",
      "flushing count - 930000, time taken in seconds- 1.7734043598175049 \n",
      "flushing count - 940000, time taken in seconds- 1.6848928928375244 \n",
      "flushing count - 950000, time taken in seconds- 1.764143943786621 \n",
      "flushing count - 960000, time taken in seconds- 1.7165544033050537 \n",
      "flushing count - 970000, time taken in seconds- 1.6345291137695312 \n",
      "flushing count - 980000, time taken in seconds- 1.6859309673309326 \n",
      "flushing count - 990000, time taken in seconds- 1.7312662601470947 \n",
      "flushing count - 1000000, time taken in seconds- 1.6533973217010498 \n",
      "final flushing count - 1000000, time taken in seconds- 180.75153756141663 \n"
     ]
    }
   ],
   "source": [
    "cnt = 0\n",
    "st = time.time()\n",
    "abs_st = time.time()\n",
    "for f, y in data:\n",
    "    cnt = cnt + 1    \n",
    "    d = {}\n",
    "    d['f']=f\n",
    "    d['y']=str(y).lower()\n",
    "    d['st']=time.time()  \n",
    "            \n",
    "    v= json.dumps(d).encode('utf-8')\n",
    "    try:\n",
    "        producer.produce(topic, value=v, key=str(cnt))\n",
    "    except:\n",
    "      print(f'Queue full, flushing {cnt}')\n",
    "      producer.flush()\n",
    "      producer.produce(topic, value=v, key=str(cnt))\n",
    "    if cnt%10000==0:           \n",
    "        end = time.time()\n",
    "        print(f'flushing count - {cnt}, time taken in seconds- {end-st} ')        \n",
    "        producer.flush()\n",
    "        st = time.time()        \n",
    "producer.flush()\n",
    "end = time.time()\n",
    "print(f'final flushing count - {cnt}, time taken in seconds- {end-abs_st} ')        "
   ]
  },
  {
   "cell_type": "code",
   "execution_count": 31,
   "id": "640586a5-a806-4266-be34-479bd254c49a",
   "metadata": {},
   "outputs": [],
   "source": [
    "os.environ['PREDICTION_TOPIC_PREFIX']='malicious_url_predictions'\n",
    "os.environ['PREDICTION_TOPIC_SUFFIX']='_8'\n",
    "prediction_topic_prefix = os.environ['PREDICTION_TOPIC_PREFIX']\n",
    "prediction_topic_suffix=os.environ['PREDICTION_TOPIC_SUFFIX']\n",
    "PREDICTION_TOPIC=f'{prediction_topic_prefix}{prediction_topic_suffix}'"
   ]
  },
  {
   "cell_type": "code",
   "execution_count": 26,
   "id": "cce7366f-5d4c-48c4-a0fd-e8358da9cb78",
   "metadata": {},
   "outputs": [],
   "source": [
    "from river import metrics\n",
    "auc = metrics.ROCAUC()\n",
    "f1 = metrics.F1()\n",
    "recall = metrics.MicroRecall()\n",
    "predictions_consumer_conf = {'bootstrap.servers': bsts,\n",
    "                     'sasl.username': user,\n",
    "                     'sasl.password': password,\n",
    "                     'sasl.mechanism': 'PLAIN',\n",
    "                     'security.protocol': 'SASL_SSL',\n",
    "                     'ssl.ca.location': certifi.where(),\n",
    "                     'group.id': 'prediction-grp',\n",
    "                     'enable.auto.commit': True,\n",
    "                     'auto.offset.reset': 'latest'}\n",
    "predictions_consumer = Consumer(predictions_consumer_conf)    \n",
    "predictions_consumer.subscribe([PREDICTION_TOPIC])"
   ]
  },
  {
   "cell_type": "code",
   "execution_count": null,
   "id": "30613b73-7440-4d2d-bfdf-792563642547",
   "metadata": {},
   "outputs": [],
   "source": [
    "{'bootstrap.servers': bsts,\n",
    "                     'sasl.username': user,\n",
    "                     'sasl.password': password,\n",
    "                     'sasl.mechanism': 'PLAIN',\n",
    "                     'security.protocol': 'SASL_SSL',\n",
    "                     'ssl.ca.location': certifi.where(),\n",
    "                     'group.id': 'prediction-grp',\n",
    "                     'enable.auto.commit': True,\n",
    "                     'auto.offset.reset': 'latest'}"
   ]
  },
  {
   "cell_type": "code",
   "execution_count": 15,
   "id": "6444fa65-9fe2-4c14-9134-0974a3c3e1be",
   "metadata": {},
   "outputs": [
    {
     "name": "stdout",
     "output_type": "stream",
     "text": [
      "{'y': True, 'score': True, 'duration': 180.6090109348297, 'mem_usage': 38928296}\n"
     ]
    },
    {
     "ename": "KeyboardInterrupt",
     "evalue": "",
     "output_type": "error",
     "traceback": [
      "\u001b[0;31m---------------------------------------------------------------------------\u001b[0m",
      "\u001b[0;31mKeyboardInterrupt\u001b[0m                         Traceback (most recent call last)",
      "Cell \u001b[0;32mIn [15], line 5\u001b[0m\n\u001b[1;32m      3\u001b[0m cnt \u001b[38;5;241m=\u001b[39m \u001b[38;5;241m0\u001b[39m\n\u001b[1;32m      4\u001b[0m \u001b[38;5;28;01mwhile\u001b[39;00m(cnt\u001b[38;5;241m<\u001b[39m\u001b[38;5;241m1000000\u001b[39m):\n\u001b[0;32m----> 5\u001b[0m     msg \u001b[38;5;241m=\u001b[39m \u001b[43mpredictions_consumer\u001b[49m\u001b[38;5;241;43m.\u001b[39;49m\u001b[43mpoll\u001b[49m\u001b[43m(\u001b[49m\u001b[43mtimeout\u001b[49m\u001b[38;5;241;43m=\u001b[39;49m\u001b[38;5;241;43m0.1\u001b[39;49m\u001b[43m)\u001b[49m\n\u001b[1;32m      7\u001b[0m     \u001b[38;5;28;01mif\u001b[39;00m msg \u001b[38;5;129;01mis\u001b[39;00m \u001b[38;5;28;01mNone\u001b[39;00m: \u001b[38;5;28;01mcontinue\u001b[39;00m\n\u001b[1;32m      8\u001b[0m     \u001b[38;5;28;01mif\u001b[39;00m msg\u001b[38;5;241m.\u001b[39merror():\n",
      "\u001b[0;31mKeyboardInterrupt\u001b[0m: "
     ]
    }
   ],
   "source": [
    "\n",
    "durs = []\n",
    "mem_usage = []\n",
    "cnt = 0\n",
    "while(cnt<10000:\n",
    "    msg = predictions_consumer.poll(timeout=0.1)\n",
    "    \n",
    "    if msg is None: continue\n",
    "    if msg.error():\n",
    "        if msg.error().code() == KafkaError._PARTITION_EOF:\n",
    "                sys.stderr.write('%% %s [%d] reached end at offset %d\\n' %\n",
    "                                         (msg.topic(), msg.partition(), msg.offset()))\n",
    "    else:            \n",
    "        message = json.loads(msg.value().decode(\"utf-8\"))\n",
    "        if(cnt%10000==0):\n",
    "            print(message)\n",
    "            \n",
    "        cnt = cnt + 1\n",
    "        score = message['score']\n",
    "        y = message['y']\n",
    "        durs.append(message['duration'])\n",
    "        mem_usage.append(message['mem_usage'])\n",
    "        auc = auc.update(y, score)\n",
    "        f1 = f1.update(y, score)\n",
    "        recall = recall.update(y, score)\n",
    "            "
   ]
  },
  {
   "cell_type": "code",
   "execution_count": 18,
   "id": "a5be61a1-7435-4767-a9d3-203a1d6ca15c",
   "metadata": {},
   "outputs": [
    {
     "name": "stdout",
     "output_type": "stream",
     "text": [
      "306.9113175868988\n",
      "180.6090109348297\n",
      "180.6090109348297\n",
      "ROCAUC: 86.20%\n",
      "F1: 86.39%\n",
      "MicroRecall: 86.20%\n",
      "48231842.27287319\n"
     ]
    }
   ],
   "source": [
    "import statistics\n",
    "mean = statistics.mean(durs)\n",
    "median = statistics.median(durs)\n",
    "max_dur = max(durs)\n",
    "min_dur = min(durs)\n",
    "avg_dur = min(durs)\n",
    "total_records = len(durs)\n",
    "memory_usage = statistics.mean(mem_usage)\n",
    "print(max_dur)\n",
    "print(min_dur)\n",
    "print(avg_dur)\n",
    "print(auc)\n",
    "print(f1)\n",
    "print(recall)\n",
    "print(memory_usage)"
   ]
  },
  {
   "cell_type": "code",
   "execution_count": null,
   "id": "0ac820c2-3fd3-4e5c-9401-7e3c35223bde",
   "metadata": {},
   "outputs": [],
   "source": []
  }
 ],
 "metadata": {
  "kernelspec": {
   "display_name": "Python 3",
   "language": "python",
   "name": "python3"
  },
  "language_info": {
   "codemirror_mode": {
    "name": "ipython",
    "version": 3
   },
   "file_extension": ".py",
   "mimetype": "text/x-python",
   "name": "python",
   "nbconvert_exporter": "python",
   "pygments_lexer": "ipython3",
   "version": "3.9.15"
  }
 },
 "nbformat": 4,
 "nbformat_minor": 5
}
