{
 "cells": [
  {
   "cell_type": "code",
   "execution_count": 7,
   "id": "05363ff8-ee11-44e4-9547-93e575345e9e",
   "metadata": {},
   "outputs": [],
   "source": [
    "import os\n",
    "from river import datasets\n",
    "from confluent_kafka import Producer,Consumer\n",
    "import certifi\n",
    "import time\n",
    "import json"
   ]
  },
  {
   "cell_type": "code",
   "execution_count": 19,
   "id": "9c06d881-59ee-432a-a205-72d7f4c064e8",
   "metadata": {},
   "outputs": [],
   "source": [
    "user= os.environ['kafka_username']\n",
    "password= os.environ['kafka_password']\n",
    "bsts= os.environ['kafka_bootstrap_servers']"
   ]
  },
  {
   "cell_type": "code",
   "execution_count": 20,
   "id": "93333d02-5133-43a6-8ef2-17d25f3f0b69",
   "metadata": {},
   "outputs": [],
   "source": [
    "topic = 'malicious_url_events'"
   ]
  },
  {
   "cell_type": "code",
   "execution_count": 21,
   "id": "e4acf09b-509e-4e4c-a348-715e464e3857",
   "metadata": {},
   "outputs": [],
   "source": [
    "conf = {'bootstrap.servers': bsts,\n",
    "            'sasl.mechanism': 'PLAIN',\n",
    "            'security.protocol': 'SASL_SSL',\n",
    "            'ssl.ca.location': certifi.where(),\n",
    "            'sasl.username': user,\n",
    "            'sasl.password': password,\n",
    "            'batch.num.messages': 2048,\n",
    "            #'queue.buffering.max.messages': 100,\n",
    "            'linger.ms': 100,\n",
    "            'client.id': 'producer-icde-2023'}\n",
    "producer = Producer(conf)    "
   ]
  },
  {
   "cell_type": "code",
   "execution_count": 29,
   "id": "6781f351-b857-48e0-9bbb-9b222625d4f9",
   "metadata": {},
   "outputs": [],
   "source": [
    "max_size=1000000\n",
    "dataset = datasets.MaliciousURL()\n",
    "data = dataset.take(max_size)\n"
   ]
  },
  {
   "cell_type": "code",
   "execution_count": 30,
   "id": "1be05c23-1ffc-4b27-b9ad-1be5078d7e4b",
   "metadata": {},
   "outputs": [
    {
     "name": "stdout",
     "output_type": "stream",
     "text": [
      "flushing count - 10000, time taken in seconds- 1.6444752216339111 \n",
      "flushing count - 20000, time taken in seconds- 1.5919137001037598 \n",
      "flushing count - 30000, time taken in seconds- 1.6054317951202393 \n",
      "flushing count - 40000, time taken in seconds- 1.5896944999694824 \n",
      "flushing count - 50000, time taken in seconds- 1.576538324356079 \n",
      "flushing count - 60000, time taken in seconds- 1.6794867515563965 \n",
      "flushing count - 70000, time taken in seconds- 1.6720309257507324 \n",
      "flushing count - 80000, time taken in seconds- 1.6829123497009277 \n",
      "flushing count - 90000, time taken in seconds- 1.598083734512329 \n",
      "flushing count - 100000, time taken in seconds- 1.5724234580993652 \n",
      "flushing count - 110000, time taken in seconds- 1.7231109142303467 \n",
      "flushing count - 120000, time taken in seconds- 1.6440880298614502 \n",
      "flushing count - 130000, time taken in seconds- 1.6821281909942627 \n",
      "flushing count - 140000, time taken in seconds- 1.6320946216583252 \n",
      "flushing count - 150000, time taken in seconds- 1.765151023864746 \n",
      "flushing count - 160000, time taken in seconds- 1.8362188339233398 \n",
      "flushing count - 170000, time taken in seconds- 1.6784756183624268 \n",
      "flushing count - 180000, time taken in seconds- 1.6731054782867432 \n",
      "flushing count - 190000, time taken in seconds- 1.7980411052703857 \n",
      "flushing count - 200000, time taken in seconds- 1.8084449768066406 \n",
      "flushing count - 210000, time taken in seconds- 1.6776506900787354 \n",
      "flushing count - 220000, time taken in seconds- 1.6620867252349854 \n",
      "flushing count - 230000, time taken in seconds- 1.7392168045043945 \n",
      "flushing count - 240000, time taken in seconds- 1.6717958450317383 \n",
      "flushing count - 250000, time taken in seconds- 1.785313606262207 \n",
      "flushing count - 260000, time taken in seconds- 1.7310702800750732 \n",
      "flushing count - 270000, time taken in seconds- 1.589792251586914 \n",
      "flushing count - 280000, time taken in seconds- 1.682494878768921 \n",
      "flushing count - 290000, time taken in seconds- 1.8113398551940918 \n",
      "flushing count - 300000, time taken in seconds- 1.7366628646850586 \n",
      "flushing count - 310000, time taken in seconds- 1.596985101699829 \n",
      "flushing count - 320000, time taken in seconds- 1.5992493629455566 \n",
      "flushing count - 330000, time taken in seconds- 1.6257803440093994 \n",
      "flushing count - 340000, time taken in seconds- 1.673393726348877 \n",
      "flushing count - 350000, time taken in seconds- 1.6992268562316895 \n",
      "flushing count - 360000, time taken in seconds- 1.5879604816436768 \n",
      "flushing count - 370000, time taken in seconds- 1.6310813426971436 \n",
      "flushing count - 380000, time taken in seconds- 1.5882928371429443 \n",
      "flushing count - 390000, time taken in seconds- 1.8874163627624512 \n",
      "flushing count - 400000, time taken in seconds- 1.7648720741271973 \n",
      "flushing count - 410000, time taken in seconds- 1.6933884620666504 \n",
      "flushing count - 420000, time taken in seconds- 1.6497724056243896 \n",
      "flushing count - 430000, time taken in seconds- 1.8266289234161377 \n",
      "flushing count - 440000, time taken in seconds- 1.777712106704712 \n",
      "flushing count - 450000, time taken in seconds- 1.6969106197357178 \n",
      "flushing count - 460000, time taken in seconds- 1.7841253280639648 \n",
      "flushing count - 470000, time taken in seconds- 1.6952893733978271 \n",
      "flushing count - 480000, time taken in seconds- 1.6169874668121338 \n",
      "flushing count - 490000, time taken in seconds- 1.936427354812622 \n",
      "flushing count - 500000, time taken in seconds- 1.8170499801635742 \n",
      "flushing count - 510000, time taken in seconds- 1.8064000606536865 \n",
      "flushing count - 520000, time taken in seconds- 1.6668145656585693 \n",
      "flushing count - 530000, time taken in seconds- 1.505439043045044 \n",
      "flushing count - 540000, time taken in seconds- 1.4926986694335938 \n",
      "flushing count - 550000, time taken in seconds- 1.62174654006958 \n",
      "flushing count - 560000, time taken in seconds- 1.6780920028686523 \n",
      "flushing count - 570000, time taken in seconds- 1.6931955814361572 \n",
      "flushing count - 580000, time taken in seconds- 1.6976699829101562 \n",
      "flushing count - 590000, time taken in seconds- 1.6750378608703613 \n",
      "flushing count - 600000, time taken in seconds- 1.7043437957763672 \n",
      "flushing count - 610000, time taken in seconds- 1.7338850498199463 \n",
      "flushing count - 620000, time taken in seconds- 1.8709008693695068 \n",
      "flushing count - 630000, time taken in seconds- 1.6635456085205078 \n",
      "flushing count - 640000, time taken in seconds- 1.5969054698944092 \n",
      "flushing count - 650000, time taken in seconds- 1.7003881931304932 \n",
      "flushing count - 660000, time taken in seconds- 1.6456620693206787 \n",
      "flushing count - 670000, time taken in seconds- 1.5955686569213867 \n",
      "flushing count - 680000, time taken in seconds- 1.6385033130645752 \n",
      "flushing count - 690000, time taken in seconds- 1.6435365676879883 \n",
      "flushing count - 700000, time taken in seconds- 1.6207003593444824 \n",
      "flushing count - 710000, time taken in seconds- 1.6485817432403564 \n",
      "flushing count - 720000, time taken in seconds- 1.7965738773345947 \n",
      "flushing count - 730000, time taken in seconds- 1.7715609073638916 \n",
      "flushing count - 740000, time taken in seconds- 1.7865378856658936 \n",
      "flushing count - 750000, time taken in seconds- 1.7918202877044678 \n",
      "flushing count - 760000, time taken in seconds- 1.7412543296813965 \n",
      "flushing count - 770000, time taken in seconds- 1.6992125511169434 \n",
      "flushing count - 780000, time taken in seconds- 1.847172737121582 \n",
      "flushing count - 790000, time taken in seconds- 1.6829805374145508 \n",
      "flushing count - 800000, time taken in seconds- 1.691457986831665 \n",
      "flushing count - 810000, time taken in seconds- 1.605478286743164 \n",
      "flushing count - 820000, time taken in seconds- 1.6221506595611572 \n",
      "flushing count - 830000, time taken in seconds- 1.782393455505371 \n",
      "flushing count - 840000, time taken in seconds- 1.785372257232666 \n",
      "flushing count - 850000, time taken in seconds- 1.632958173751831 \n",
      "flushing count - 860000, time taken in seconds- 1.672424554824829 \n",
      "flushing count - 870000, time taken in seconds- 1.6859018802642822 \n",
      "flushing count - 880000, time taken in seconds- 1.6069574356079102 \n",
      "flushing count - 890000, time taken in seconds- 1.6695687770843506 \n",
      "flushing count - 900000, time taken in seconds- 1.6450390815734863 \n",
      "flushing count - 910000, time taken in seconds- 1.873826026916504 \n",
      "flushing count - 920000, time taken in seconds- 1.7724621295928955 \n",
      "flushing count - 930000, time taken in seconds- 1.3477530479431152 \n",
      "flushing count - 940000, time taken in seconds- 0.8597948551177979 \n",
      "flushing count - 950000, time taken in seconds- 0.8367481231689453 \n",
      "flushing count - 960000, time taken in seconds- 0.8527095317840576 \n",
      "flushing count - 970000, time taken in seconds- 0.8450148105621338 \n",
      "flushing count - 980000, time taken in seconds- 0.8374650478363037 \n",
      "flushing count - 990000, time taken in seconds- 0.8417084217071533 \n",
      "flushing count - 1000000, time taken in seconds- 0.8558609485626221 \n",
      "final flushing count - 1000000, time taken in seconds- 176.55671977996826 \n"
     ]
    }
   ],
   "source": [
    "cnt = 0\n",
    "st = time.time()\n",
    "abs_st = time.time()\n",
    "for f, y in data:\n",
    "    cnt = cnt + 1    \n",
    "    d = {}\n",
    "    d['f']=f\n",
    "    d['y']=str(y).lower()\n",
    "    d['st']=time.time()  \n",
    "            \n",
    "    v= json.dumps(d).encode('utf-8')\n",
    "    try:\n",
    "        producer.produce(topic, value=v, key=str(cnt))\n",
    "    except:\n",
    "      print(f'Queue full, flushing {cnt}')\n",
    "      producer.flush()\n",
    "      producer.produce(topic, value=v, key=str(cnt))\n",
    "    if cnt%10000==0:           \n",
    "        end = time.time()\n",
    "        print(f'flushing count - {cnt}, time taken in seconds- {end-st} ')        \n",
    "        producer.flush()\n",
    "        st = time.time()        \n",
    "producer.flush()\n",
    "end = time.time()\n",
    "print(f'final flushing count - {cnt}, time taken in seconds- {end-abs_st} ')        "
   ]
  },
  {
   "cell_type": "code",
   "execution_count": 31,
   "id": "640586a5-a806-4266-be34-479bd254c49a",
   "metadata": {},
   "outputs": [],
   "source": [
    "os.environ['PREDICTION_TOPIC_PREFIX']='malicious_url_predictions'\n",
    "os.environ['PREDICTION_TOPIC_SUFFIX']='_8'\n",
    "prediction_topic_prefix = os.environ['PREDICTION_TOPIC_PREFIX']\n",
    "prediction_topic_suffix=os.environ['PREDICTION_TOPIC_SUFFIX']\n",
    "PREDICTION_TOPIC=f'{prediction_topic_prefix}{prediction_topic_suffix}'"
   ]
  },
  {
   "cell_type": "code",
   "execution_count": 26,
   "id": "cce7366f-5d4c-48c4-a0fd-e8358da9cb78",
   "metadata": {},
   "outputs": [],
   "source": [
    "from river import metrics\n",
    "auc = metrics.ROCAUC()\n",
    "f1 = metrics.F1()\n",
    "recall = metrics.MicroRecall()\n",
    "predictions_consumer_conf = {'bootstrap.servers': bsts,\n",
    "                     'sasl.username': user,\n",
    "                     'sasl.password': password,\n",
    "                     'sasl.mechanism': 'PLAIN',\n",
    "                     'security.protocol': 'SASL_SSL',\n",
    "                     'ssl.ca.location': certifi.where(),\n",
    "                     'group.id': 'prediction-grp',\n",
    "                     'enable.auto.commit': True,\n",
    "                     'auto.offset.reset': 'latest'}\n",
    "predictions_consumer = Consumer(predictions_consumer_conf)    \n",
    "predictions_consumer.subscribe([PREDICTION_TOPIC])"
   ]
  },
  {
   "cell_type": "code",
   "execution_count": null,
   "id": "30613b73-7440-4d2d-bfdf-792563642547",
   "metadata": {},
   "outputs": [],
   "source": [
    "{'bootstrap.servers': bsts,\n",
    "                     'sasl.username': user,\n",
    "                     'sasl.password': password,\n",
    "                     'sasl.mechanism': 'PLAIN',\n",
    "                     'security.protocol': 'SASL_SSL',\n",
    "                     'ssl.ca.location': certifi.where(),\n",
    "                     'group.id': 'prediction-grp',\n",
    "                     'enable.auto.commit': True,\n",
    "                     'auto.offset.reset': 'latest'}"
   ]
  },
  {
   "cell_type": "code",
   "execution_count": 15,
   "id": "6444fa65-9fe2-4c14-9134-0974a3c3e1be",
   "metadata": {},
   "outputs": [
    {
     "name": "stdout",
     "output_type": "stream",
     "text": [
      "{'y': True, 'score': True, 'duration': 180.6090109348297, 'mem_usage': 38928296}\n"
     ]
    },
    {
     "ename": "KeyboardInterrupt",
     "evalue": "",
     "output_type": "error",
     "traceback": [
      "\u001b[0;31m---------------------------------------------------------------------------\u001b[0m",
      "\u001b[0;31mKeyboardInterrupt\u001b[0m                         Traceback (most recent call last)",
      "Cell \u001b[0;32mIn [15], line 5\u001b[0m\n\u001b[1;32m      3\u001b[0m cnt \u001b[38;5;241m=\u001b[39m \u001b[38;5;241m0\u001b[39m\n\u001b[1;32m      4\u001b[0m \u001b[38;5;28;01mwhile\u001b[39;00m(cnt\u001b[38;5;241m<\u001b[39m\u001b[38;5;241m1000000\u001b[39m):\n\u001b[0;32m----> 5\u001b[0m     msg \u001b[38;5;241m=\u001b[39m \u001b[43mpredictions_consumer\u001b[49m\u001b[38;5;241;43m.\u001b[39;49m\u001b[43mpoll\u001b[49m\u001b[43m(\u001b[49m\u001b[43mtimeout\u001b[49m\u001b[38;5;241;43m=\u001b[39;49m\u001b[38;5;241;43m0.1\u001b[39;49m\u001b[43m)\u001b[49m\n\u001b[1;32m      7\u001b[0m     \u001b[38;5;28;01mif\u001b[39;00m msg \u001b[38;5;129;01mis\u001b[39;00m \u001b[38;5;28;01mNone\u001b[39;00m: \u001b[38;5;28;01mcontinue\u001b[39;00m\n\u001b[1;32m      8\u001b[0m     \u001b[38;5;28;01mif\u001b[39;00m msg\u001b[38;5;241m.\u001b[39merror():\n",
      "\u001b[0;31mKeyboardInterrupt\u001b[0m: "
     ]
    }
   ],
   "source": [
    "\n",
    "durs = []\n",
    "mem_usage = []\n",
    "cnt = 0\n",
    "while(cnt<10000:\n",
    "    msg = predictions_consumer.poll(timeout=0.1)\n",
    "    \n",
    "    if msg is None: continue\n",
    "    if msg.error():\n",
    "        if msg.error().code() == KafkaError._PARTITION_EOF:\n",
    "                sys.stderr.write('%% %s [%d] reached end at offset %d\\n' %\n",
    "                                         (msg.topic(), msg.partition(), msg.offset()))\n",
    "    else:            \n",
    "        message = json.loads(msg.value().decode(\"utf-8\"))\n",
    "        if(cnt%10000==0):\n",
    "            print(message)\n",
    "            \n",
    "        cnt = cnt + 1\n",
    "        score = message['score']\n",
    "        y = message['y']\n",
    "        durs.append(message['duration'])\n",
    "        mem_usage.append(message['mem_usage'])\n",
    "        auc = auc.update(y, score)\n",
    "        f1 = f1.update(y, score)\n",
    "        recall = recall.update(y, score)\n",
    "            "
   ]
  },
  {
   "cell_type": "code",
   "execution_count": 18,
   "id": "a5be61a1-7435-4767-a9d3-203a1d6ca15c",
   "metadata": {},
   "outputs": [
    {
     "name": "stdout",
     "output_type": "stream",
     "text": [
      "306.9113175868988\n",
      "180.6090109348297\n",
      "180.6090109348297\n",
      "ROCAUC: 86.20%\n",
      "F1: 86.39%\n",
      "MicroRecall: 86.20%\n",
      "48231842.27287319\n"
     ]
    }
   ],
   "source": [
    "import statistics\n",
    "mean = statistics.mean(durs)\n",
    "median = statistics.median(durs)\n",
    "max_dur = max(durs)\n",
    "min_dur = min(durs)\n",
    "avg_dur = min(durs)\n",
    "total_records = len(durs)\n",
    "memory_usage = statistics.mean(mem_usage)\n",
    "print(max_dur)\n",
    "print(min_dur)\n",
    "print(avg_dur)\n",
    "print(auc)\n",
    "print(f1)\n",
    "print(recall)\n",
    "print(memory_usage)"
   ]
  },
  {
   "cell_type": "code",
   "execution_count": null,
   "id": "0ac820c2-3fd3-4e5c-9401-7e3c35223bde",
   "metadata": {},
   "outputs": [],
   "source": []
  }
 ],
 "metadata": {
  "kernelspec": {
   "display_name": "Python 3",
   "language": "python",
   "name": "python3"
  },
  "language_info": {
   "codemirror_mode": {
    "name": "ipython",
    "version": 3
   },
   "file_extension": ".py",
   "mimetype": "text/x-python",
   "name": "python",
   "nbconvert_exporter": "python",
   "pygments_lexer": "ipython3",
   "version": "3.9.15"
  }
 },
 "nbformat": 4,
 "nbformat_minor": 5
}
