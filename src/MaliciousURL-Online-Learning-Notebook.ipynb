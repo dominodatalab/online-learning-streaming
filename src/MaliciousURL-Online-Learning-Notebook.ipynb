{
 "cells": [
  {
   "cell_type": "code",
   "execution_count": 7,
   "id": "05363ff8-ee11-44e4-9547-93e575345e9e",
   "metadata": {},
   "outputs": [],
   "source": [
    "import os\n",
    "from river import datasets\n",
    "from confluent_kafka import Producer,Consumer\n",
    "import certifi\n",
    "import time\n",
    "import json"
   ]
  },
  {
   "cell_type": "code",
   "execution_count": 19,
   "id": "9c06d881-59ee-432a-a205-72d7f4c064e8",
   "metadata": {},
   "outputs": [],
   "source": [
    "user= os.environ['kafka_username']\n",
    "password= os.environ['kafka_password']\n",
    "bsts= os.environ['kafka_bootstrap_servers']"
   ]
  },
  {
   "cell_type": "code",
   "execution_count": 20,
   "id": "93333d02-5133-43a6-8ef2-17d25f3f0b69",
   "metadata": {},
   "outputs": [],
   "source": [
    "topic = 'malicious_url_events'"
   ]
  },
  {
   "cell_type": "code",
   "execution_count": 21,
   "id": "e4acf09b-509e-4e4c-a348-715e464e3857",
   "metadata": {},
   "outputs": [],
   "source": [
    "conf = {'bootstrap.servers': bsts,\n",
    "            'sasl.mechanism': 'PLAIN',\n",
    "            'security.protocol': 'SASL_SSL',\n",
    "            'ssl.ca.location': certifi.where(),\n",
    "            'sasl.username': user,\n",
    "            'sasl.password': password,\n",
    "            'batch.num.messages': 2048,\n",
    "            #'queue.buffering.max.messages': 100,\n",
    "            'linger.ms': 100,\n",
    "            'client.id': 'producer-icde-2023'}\n",
    "producer = Producer(conf)    "
   ]
  },
  {
   "cell_type": "code",
   "execution_count": 24,
   "id": "6781f351-b857-48e0-9bbb-9b222625d4f9",
   "metadata": {},
   "outputs": [],
   "source": [
    "max_size=1000000\n",
    "dataset = datasets.MaliciousURL()\n",
    "data = dataset.take(max_size)\n"
   ]
  },
  {
   "cell_type": "code",
   "execution_count": 25,
   "id": "1be05c23-1ffc-4b27-b9ad-1be5078d7e4b",
   "metadata": {},
   "outputs": [
    {
     "name": "stdout",
     "output_type": "stream",
     "text": [
      "flushing count - 10000, time taken in seconds- 1.6225769519805908 \n",
      "flushing count - 20000, time taken in seconds- 1.686279058456421 \n",
      "flushing count - 30000, time taken in seconds- 1.7036168575286865 \n",
      "flushing count - 40000, time taken in seconds- 1.6246473789215088 \n",
      "flushing count - 50000, time taken in seconds- 1.5869128704071045 \n",
      "flushing count - 60000, time taken in seconds- 1.7810301780700684 \n",
      "flushing count - 70000, time taken in seconds- 1.765925645828247 \n",
      "flushing count - 80000, time taken in seconds- 1.6110048294067383 \n",
      "flushing count - 90000, time taken in seconds- 1.5942564010620117 \n",
      "flushing count - 100000, time taken in seconds- 1.8152120113372803 \n",
      "flushing count - 110000, time taken in seconds- 1.6281814575195312 \n",
      "flushing count - 120000, time taken in seconds- 1.6472282409667969 \n",
      "flushing count - 130000, time taken in seconds- 1.6127564907073975 \n",
      "flushing count - 140000, time taken in seconds- 1.6852648258209229 \n",
      "flushing count - 150000, time taken in seconds- 1.9783244132995605 \n",
      "flushing count - 160000, time taken in seconds- 1.7607946395874023 \n",
      "flushing count - 170000, time taken in seconds- 1.6453092098236084 \n",
      "flushing count - 180000, time taken in seconds- 1.670215129852295 \n",
      "flushing count - 190000, time taken in seconds- 1.6854569911956787 \n",
      "flushing count - 200000, time taken in seconds- 1.6781952381134033 \n",
      "flushing count - 210000, time taken in seconds- 1.6635308265686035 \n",
      "flushing count - 220000, time taken in seconds- 1.677081823348999 \n",
      "flushing count - 230000, time taken in seconds- 1.8157098293304443 \n",
      "flushing count - 240000, time taken in seconds- 1.7704613208770752 \n",
      "flushing count - 250000, time taken in seconds- 1.698983907699585 \n",
      "flushing count - 260000, time taken in seconds- 1.7606639862060547 \n",
      "flushing count - 270000, time taken in seconds- 1.5969219207763672 \n",
      "flushing count - 280000, time taken in seconds- 1.514404058456421 \n",
      "flushing count - 290000, time taken in seconds- 1.6958599090576172 \n",
      "flushing count - 300000, time taken in seconds- 1.6382546424865723 \n",
      "flushing count - 310000, time taken in seconds- 1.681412696838379 \n",
      "flushing count - 320000, time taken in seconds- 1.5940380096435547 \n",
      "flushing count - 330000, time taken in seconds- 1.7006168365478516 \n",
      "flushing count - 340000, time taken in seconds- 1.6050612926483154 \n",
      "flushing count - 350000, time taken in seconds- 1.6717791557312012 \n",
      "flushing count - 360000, time taken in seconds- 1.6476004123687744 \n",
      "flushing count - 370000, time taken in seconds- 1.5990917682647705 \n",
      "flushing count - 380000, time taken in seconds- 1.6869556903839111 \n",
      "flushing count - 390000, time taken in seconds- 1.5885858535766602 \n",
      "flushing count - 400000, time taken in seconds- 1.7266216278076172 \n",
      "flushing count - 410000, time taken in seconds- 1.7947185039520264 \n",
      "flushing count - 420000, time taken in seconds- 1.7942500114440918 \n",
      "flushing count - 430000, time taken in seconds- 1.666856288909912 \n",
      "flushing count - 440000, time taken in seconds- 1.673177719116211 \n",
      "flushing count - 450000, time taken in seconds- 1.711181640625 \n",
      "flushing count - 460000, time taken in seconds- 1.7694292068481445 \n",
      "flushing count - 470000, time taken in seconds- 1.8668363094329834 \n",
      "flushing count - 480000, time taken in seconds- 1.6753215789794922 \n",
      "flushing count - 490000, time taken in seconds- 1.6495606899261475 \n",
      "flushing count - 500000, time taken in seconds- 1.6070823669433594 \n",
      "flushing count - 510000, time taken in seconds- 1.7644197940826416 \n",
      "flushing count - 520000, time taken in seconds- 1.8090312480926514 \n",
      "flushing count - 530000, time taken in seconds- 1.6706044673919678 \n",
      "flushing count - 540000, time taken in seconds- 1.5939838886260986 \n",
      "flushing count - 550000, time taken in seconds- 1.6255872249603271 \n",
      "flushing count - 560000, time taken in seconds- 1.6922485828399658 \n",
      "flushing count - 570000, time taken in seconds- 1.7752573490142822 \n",
      "flushing count - 580000, time taken in seconds- 1.7831878662109375 \n",
      "flushing count - 590000, time taken in seconds- 1.7818336486816406 \n",
      "flushing count - 600000, time taken in seconds- 1.872422218322754 \n",
      "flushing count - 610000, time taken in seconds- 1.6591017246246338 \n",
      "flushing count - 620000, time taken in seconds- 1.6802916526794434 \n",
      "flushing count - 630000, time taken in seconds- 1.6697361469268799 \n",
      "flushing count - 640000, time taken in seconds- 1.605968952178955 \n",
      "flushing count - 650000, time taken in seconds- 1.657900094985962 \n",
      "flushing count - 660000, time taken in seconds- 1.6531188488006592 \n",
      "flushing count - 670000, time taken in seconds- 1.6103277206420898 \n",
      "flushing count - 680000, time taken in seconds- 1.772132158279419 \n",
      "flushing count - 690000, time taken in seconds- 1.7732601165771484 \n",
      "flushing count - 700000, time taken in seconds- 1.810006856918335 \n",
      "flushing count - 710000, time taken in seconds- 1.7317214012145996 \n",
      "flushing count - 720000, time taken in seconds- 1.661473035812378 \n",
      "flushing count - 730000, time taken in seconds- 1.661876916885376 \n",
      "flushing count - 740000, time taken in seconds- 1.6625466346740723 \n",
      "flushing count - 750000, time taken in seconds- 1.5961360931396484 \n",
      "flushing count - 760000, time taken in seconds- 1.679938793182373 \n",
      "flushing count - 770000, time taken in seconds- 1.8447151184082031 \n",
      "flushing count - 780000, time taken in seconds- 1.6875762939453125 \n",
      "flushing count - 790000, time taken in seconds- 1.6950833797454834 \n",
      "flushing count - 800000, time taken in seconds- 1.6995790004730225 \n",
      "flushing count - 810000, time taken in seconds- 1.6219995021820068 \n",
      "flushing count - 820000, time taken in seconds- 1.7830159664154053 \n",
      "flushing count - 830000, time taken in seconds- 1.8919131755828857 \n",
      "flushing count - 840000, time taken in seconds- 1.7801456451416016 \n",
      "flushing count - 850000, time taken in seconds- 1.7791287899017334 \n",
      "flushing count - 860000, time taken in seconds- 1.795076847076416 \n",
      "flushing count - 870000, time taken in seconds- 1.6542391777038574 \n",
      "flushing count - 880000, time taken in seconds- 1.5959243774414062 \n",
      "flushing count - 890000, time taken in seconds- 1.6951096057891846 \n",
      "flushing count - 900000, time taken in seconds- 1.7457327842712402 \n",
      "flushing count - 910000, time taken in seconds- 1.7882413864135742 \n",
      "flushing count - 920000, time taken in seconds- 1.6760258674621582 \n",
      "flushing count - 930000, time taken in seconds- 1.845207929611206 \n",
      "flushing count - 940000, time taken in seconds- 1.69632887840271 \n",
      "flushing count - 950000, time taken in seconds- 1.654017686843872 \n",
      "flushing count - 960000, time taken in seconds- 1.7716867923736572 \n",
      "flushing count - 970000, time taken in seconds- 1.6971094608306885 \n",
      "flushing count - 980000, time taken in seconds- 1.699669599533081 \n",
      "flushing count - 990000, time taken in seconds- 1.6800508499145508 \n",
      "flushing count - 1000000, time taken in seconds- 1.797905683517456 \n",
      "final flushing count - 1000000, time taken in seconds- 181.54970908164978 \n"
     ]
    }
   ],
   "source": [
    "cnt = 0\n",
    "st = time.time()\n",
    "abs_st = time.time()\n",
    "for f, y in data:\n",
    "    cnt = cnt + 1    \n",
    "    d = {}\n",
    "    d['f']=f\n",
    "    d['y']=str(y).lower()\n",
    "    d['st']=time.time()  \n",
    "            \n",
    "    v= json.dumps(d).encode('utf-8')\n",
    "    try:\n",
    "        producer.produce(topic, value=v, key=str(cnt))\n",
    "    except:\n",
    "      print(f'Queue full, flushing {cnt}')\n",
    "      producer.flush()\n",
    "      producer.produce(topic, value=v, key=str(cnt))\n",
    "    if cnt%10000==0:           \n",
    "        end = time.time()\n",
    "        print(f'flushing count - {cnt}, time taken in seconds- {end-st} ')        \n",
    "        producer.flush()\n",
    "        st = time.time()        \n",
    "producer.flush()\n",
    "end = time.time()\n",
    "print(f'final flushing count - {cnt}, time taken in seconds- {end-abs_st} ')        "
   ]
  },
  {
   "cell_type": "code",
   "execution_count": null,
   "id": "640586a5-a806-4266-be34-479bd254c49a",
   "metadata": {},
   "outputs": [],
   "source": [
    "os.environ['PREDICTION_TOPIC_PREFIX']='malicious_url_predictions'\n",
    "os.environ['PREDICTION_TOPIC_SUFFIX']='_8'\n",
    "prediction_topic_prefix = os.environ['PREDICTION_TOPIC_PREFIX']\n",
    "prediction_topic_suffix=os.environ['PREDICTION_TOPIC_SUFFIX']\n",
    "PREDICTION_TOPIC=f'{prediction_topic_prefix}{prediction_topic_suffix}'"
   ]
  },
  {
   "cell_type": "code",
   "execution_count": null,
   "id": "cce7366f-5d4c-48c4-a0fd-e8358da9cb78",
   "metadata": {},
   "outputs": [],
   "source": [
    "from river import metrics\n",
    "auc = metrics.ROCAUC()\n",
    "f1 = metrics.F1()\n",
    "recall = metrics.MicroRecall()\n",
    "predictions_consumer_conf = {'bootstrap.servers': bsts,\n",
    "                     'sasl.username': user,\n",
    "                     'sasl.password': password,\n",
    "                     'sasl.mechanism': 'PLAIN',\n",
    "                     'security.protocol': 'SASL_SSL',\n",
    "                     'ssl.ca.location': certifi.where(),\n",
    "                     'group.id': 'prediction-grp',\n",
    "                     'enable.auto.commit': True,\n",
    "                     'auto.offset.reset': 'latest'}\n",
    "predictions_consumer = Consumer(predictions_consumer_conf)    \n",
    "predictions_consumer.subscribe([PREDICTION_TOPIC])"
   ]
  },
  {
   "cell_type": "code",
   "execution_count": 15,
   "id": "6444fa65-9fe2-4c14-9134-0974a3c3e1be",
   "metadata": {},
   "outputs": [
    {
     "name": "stdout",
     "output_type": "stream",
     "text": [
      "{'y': True, 'score': True, 'duration': 180.6090109348297, 'mem_usage': 38928296}\n"
     ]
    },
    {
     "ename": "KeyboardInterrupt",
     "evalue": "",
     "output_type": "error",
     "traceback": [
      "\u001b[0;31m---------------------------------------------------------------------------\u001b[0m",
      "\u001b[0;31mKeyboardInterrupt\u001b[0m                         Traceback (most recent call last)",
      "Cell \u001b[0;32mIn [15], line 5\u001b[0m\n\u001b[1;32m      3\u001b[0m cnt \u001b[38;5;241m=\u001b[39m \u001b[38;5;241m0\u001b[39m\n\u001b[1;32m      4\u001b[0m \u001b[38;5;28;01mwhile\u001b[39;00m(cnt\u001b[38;5;241m<\u001b[39m\u001b[38;5;241m1000000\u001b[39m):\n\u001b[0;32m----> 5\u001b[0m     msg \u001b[38;5;241m=\u001b[39m \u001b[43mpredictions_consumer\u001b[49m\u001b[38;5;241;43m.\u001b[39;49m\u001b[43mpoll\u001b[49m\u001b[43m(\u001b[49m\u001b[43mtimeout\u001b[49m\u001b[38;5;241;43m=\u001b[39;49m\u001b[38;5;241;43m0.1\u001b[39;49m\u001b[43m)\u001b[49m\n\u001b[1;32m      7\u001b[0m     \u001b[38;5;28;01mif\u001b[39;00m msg \u001b[38;5;129;01mis\u001b[39;00m \u001b[38;5;28;01mNone\u001b[39;00m: \u001b[38;5;28;01mcontinue\u001b[39;00m\n\u001b[1;32m      8\u001b[0m     \u001b[38;5;28;01mif\u001b[39;00m msg\u001b[38;5;241m.\u001b[39merror():\n",
      "\u001b[0;31mKeyboardInterrupt\u001b[0m: "
     ]
    }
   ],
   "source": [
    "\n",
    "durs = []\n",
    "mem_usage = []\n",
    "cnt = 0\n",
    "while(cnt<10000:\n",
    "    msg = predictions_consumer.poll(timeout=0.1)\n",
    "    \n",
    "    if msg is None: continue\n",
    "    if msg.error():\n",
    "        if msg.error().code() == KafkaError._PARTITION_EOF:\n",
    "                sys.stderr.write('%% %s [%d] reached end at offset %d\\n' %\n",
    "                                         (msg.topic(), msg.partition(), msg.offset()))\n",
    "    else:            \n",
    "        message = json.loads(msg.value().decode(\"utf-8\"))\n",
    "        if(cnt%10000==0):\n",
    "            print(message)\n",
    "            \n",
    "        cnt = cnt + 1\n",
    "        score = message['score']\n",
    "        y = message['y']\n",
    "        durs.append(message['duration'])\n",
    "        mem_usage.append(message['mem_usage'])\n",
    "        auc = auc.update(y, score)\n",
    "        f1 = f1.update(y, score)\n",
    "        recall = recall.update(y, score)\n",
    "            "
   ]
  },
  {
   "cell_type": "code",
   "execution_count": 18,
   "id": "a5be61a1-7435-4767-a9d3-203a1d6ca15c",
   "metadata": {},
   "outputs": [
    {
     "name": "stdout",
     "output_type": "stream",
     "text": [
      "306.9113175868988\n",
      "180.6090109348297\n",
      "180.6090109348297\n",
      "ROCAUC: 86.20%\n",
      "F1: 86.39%\n",
      "MicroRecall: 86.20%\n",
      "48231842.27287319\n"
     ]
    }
   ],
   "source": [
    "import statistics\n",
    "mean = statistics.mean(durs)\n",
    "median = statistics.median(durs)\n",
    "max_dur = max(durs)\n",
    "min_dur = min(durs)\n",
    "avg_dur = min(durs)\n",
    "total_records = len(durs)\n",
    "memory_usage = statistics.mean(mem_usage)\n",
    "print(max_dur)\n",
    "print(min_dur)\n",
    "print(avg_dur)\n",
    "print(auc)\n",
    "print(f1)\n",
    "print(recall)\n",
    "print(memory_usage)"
   ]
  },
  {
   "cell_type": "code",
   "execution_count": null,
   "id": "0ac820c2-3fd3-4e5c-9401-7e3c35223bde",
   "metadata": {},
   "outputs": [],
   "source": []
  }
 ],
 "metadata": {
  "kernelspec": {
   "display_name": "Python 3",
   "language": "python",
   "name": "python3"
  },
  "language_info": {
   "codemirror_mode": {
    "name": "ipython",
    "version": 3
   },
   "file_extension": ".py",
   "mimetype": "text/x-python",
   "name": "python",
   "nbconvert_exporter": "python",
   "pygments_lexer": "ipython3",
   "version": "3.9.15"
  }
 },
 "nbformat": 4,
 "nbformat_minor": 5
}
