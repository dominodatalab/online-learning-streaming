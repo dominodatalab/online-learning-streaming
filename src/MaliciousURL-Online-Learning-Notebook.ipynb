{
 "cells": [
  {
   "cell_type": "code",
   "execution_count": 7,
   "id": "05363ff8-ee11-44e4-9547-93e575345e9e",
   "metadata": {},
   "outputs": [],
   "source": [
    "import os\n",
    "from river import datasets\n",
    "from confluent_kafka import Producer,Consumer\n",
    "import certifi\n",
    "import time\n",
    "import json"
   ]
  },
  {
   "cell_type": "code",
   "execution_count": 8,
   "id": "9c06d881-59ee-432a-a205-72d7f4c064e8",
   "metadata": {},
   "outputs": [],
   "source": [
    "user= os.environ['kafka_username']\n",
    "password= os.environ['kafka_password']\n",
    "bsts= os.environ['kafka_bootstrap_servers']"
   ]
  },
  {
   "cell_type": "code",
   "execution_count": 9,
   "id": "93333d02-5133-43a6-8ef2-17d25f3f0b69",
   "metadata": {},
   "outputs": [],
   "source": [
    "topic = 'malicious_url_events'"
   ]
  },
  {
   "cell_type": "code",
   "execution_count": 10,
   "id": "e4acf09b-509e-4e4c-a348-715e464e3857",
   "metadata": {},
   "outputs": [],
   "source": [
    "conf = {'bootstrap.servers': bsts,\n",
    "            'sasl.mechanism': 'PLAIN',\n",
    "            'security.protocol': 'SASL_SSL',\n",
    "            'ssl.ca.location': certifi.where(),\n",
    "            'sasl.username': user,\n",
    "            'sasl.password': password,\n",
    "            'batch.num.messages': 2048,\n",
    "            #'queue.buffering.max.messages': 100,\n",
    "            'linger.ms': 100,\n",
    "            'client.id': 'producer-icde-2023'}\n",
    "producer = Producer(conf)    "
   ]
  },
  {
   "cell_type": "code",
   "execution_count": 11,
   "id": "6781f351-b857-48e0-9bbb-9b222625d4f9",
   "metadata": {},
   "outputs": [],
   "source": [
    "max_size=1000000\n",
    "dataset = datasets.MaliciousURL()\n",
    "data = dataset.take(max_size)\n"
   ]
  },
  {
   "cell_type": "code",
   "execution_count": 12,
   "id": "1be05c23-1ffc-4b27-b9ad-1be5078d7e4b",
   "metadata": {},
   "outputs": [
    {
     "name": "stdout",
     "output_type": "stream",
     "text": [
      "flushing count - 10000, time taken in seconds- 0.8305668830871582 \n",
      "flushing count - 20000, time taken in seconds- 1.7138102054595947 \n",
      "flushing count - 30000, time taken in seconds- 1.772282361984253 \n",
      "flushing count - 40000, time taken in seconds- 1.7635090351104736 \n",
      "flushing count - 50000, time taken in seconds- 1.581002950668335 \n",
      "flushing count - 60000, time taken in seconds- 1.5673227310180664 \n",
      "flushing count - 70000, time taken in seconds- 1.5779986381530762 \n",
      "flushing count - 80000, time taken in seconds- 1.5749967098236084 \n",
      "flushing count - 90000, time taken in seconds- 1.571986436843872 \n",
      "flushing count - 100000, time taken in seconds- 1.5749766826629639 \n",
      "flushing count - 110000, time taken in seconds- 1.671215534210205 \n",
      "flushing count - 120000, time taken in seconds- 1.7791104316711426 \n",
      "flushing count - 130000, time taken in seconds- 1.6604630947113037 \n",
      "flushing count - 140000, time taken in seconds- 1.593247890472412 \n",
      "flushing count - 150000, time taken in seconds- 1.6844418048858643 \n",
      "flushing count - 160000, time taken in seconds- 1.6306755542755127 \n",
      "flushing count - 170000, time taken in seconds- 1.6081273555755615 \n",
      "flushing count - 180000, time taken in seconds- 1.6194071769714355 \n",
      "flushing count - 190000, time taken in seconds- 1.5863184928894043 \n",
      "flushing count - 200000, time taken in seconds- 1.7499780654907227 \n",
      "flushing count - 210000, time taken in seconds- 1.5990557670593262 \n",
      "flushing count - 220000, time taken in seconds- 1.6456866264343262 \n",
      "flushing count - 230000, time taken in seconds- 1.694772481918335 \n",
      "flushing count - 240000, time taken in seconds- 1.593428611755371 \n",
      "flushing count - 250000, time taken in seconds- 1.6352958679199219 \n",
      "flushing count - 260000, time taken in seconds- 1.6706795692443848 \n",
      "flushing count - 270000, time taken in seconds- 1.7938811779022217 \n",
      "flushing count - 280000, time taken in seconds- 1.5542356967926025 \n",
      "flushing count - 290000, time taken in seconds- 1.5647974014282227 \n",
      "flushing count - 300000, time taken in seconds- 1.5077991485595703 \n",
      "flushing count - 310000, time taken in seconds- 1.646228551864624 \n",
      "flushing count - 320000, time taken in seconds- 1.6468768119812012 \n",
      "flushing count - 330000, time taken in seconds- 1.7477800846099854 \n",
      "flushing count - 340000, time taken in seconds- 1.5541326999664307 \n",
      "flushing count - 350000, time taken in seconds- 1.6635591983795166 \n",
      "flushing count - 360000, time taken in seconds- 1.5928728580474854 \n",
      "flushing count - 370000, time taken in seconds- 1.7658288478851318 \n",
      "flushing count - 380000, time taken in seconds- 1.6028387546539307 \n",
      "flushing count - 390000, time taken in seconds- 1.7951900959014893 \n",
      "flushing count - 400000, time taken in seconds- 1.620664358139038 \n",
      "flushing count - 410000, time taken in seconds- 1.689441204071045 \n",
      "flushing count - 420000, time taken in seconds- 1.6666452884674072 \n",
      "flushing count - 430000, time taken in seconds- 1.6874785423278809 \n",
      "flushing count - 440000, time taken in seconds- 1.6692547798156738 \n",
      "flushing count - 450000, time taken in seconds- 1.765561580657959 \n",
      "flushing count - 460000, time taken in seconds- 1.602832555770874 \n",
      "flushing count - 470000, time taken in seconds- 1.7786307334899902 \n",
      "flushing count - 480000, time taken in seconds- 1.6478290557861328 \n",
      "flushing count - 490000, time taken in seconds- 1.6776633262634277 \n",
      "flushing count - 500000, time taken in seconds- 1.6830501556396484 \n",
      "flushing count - 510000, time taken in seconds- 1.587740182876587 \n",
      "flushing count - 520000, time taken in seconds- 1.6470942497253418 \n",
      "flushing count - 530000, time taken in seconds- 1.572035312652588 \n",
      "flushing count - 540000, time taken in seconds- 1.5009517669677734 \n",
      "flushing count - 550000, time taken in seconds- 1.5519495010375977 \n",
      "flushing count - 560000, time taken in seconds- 1.7368531227111816 \n",
      "flushing count - 570000, time taken in seconds- 1.5725600719451904 \n",
      "flushing count - 580000, time taken in seconds- 1.6525566577911377 \n",
      "flushing count - 590000, time taken in seconds- 1.7967305183410645 \n",
      "flushing count - 600000, time taken in seconds- 1.715108871459961 \n",
      "flushing count - 610000, time taken in seconds- 1.643934726715088 \n",
      "flushing count - 620000, time taken in seconds- 1.6411306858062744 \n",
      "flushing count - 630000, time taken in seconds- 1.699812650680542 \n",
      "flushing count - 640000, time taken in seconds- 1.7114789485931396 \n",
      "flushing count - 650000, time taken in seconds- 1.5833516120910645 \n",
      "flushing count - 660000, time taken in seconds- 1.6944546699523926 \n",
      "flushing count - 670000, time taken in seconds- 1.74314284324646 \n",
      "flushing count - 680000, time taken in seconds- 1.5866987705230713 \n",
      "flushing count - 690000, time taken in seconds- 1.6408472061157227 \n",
      "flushing count - 700000, time taken in seconds- 1.6698353290557861 \n",
      "flushing count - 710000, time taken in seconds- 1.6007652282714844 \n",
      "flushing count - 720000, time taken in seconds- 1.7232236862182617 \n",
      "flushing count - 730000, time taken in seconds- 1.580521583557129 \n",
      "flushing count - 740000, time taken in seconds- 1.783095121383667 \n",
      "flushing count - 750000, time taken in seconds- 1.676999568939209 \n",
      "flushing count - 760000, time taken in seconds- 1.764174461364746 \n",
      "flushing count - 770000, time taken in seconds- 1.6830029487609863 \n",
      "flushing count - 780000, time taken in seconds- 1.791365623474121 \n",
      "flushing count - 790000, time taken in seconds- 1.854182243347168 \n",
      "flushing count - 800000, time taken in seconds- 1.7905199527740479 \n",
      "flushing count - 810000, time taken in seconds- 1.7582623958587646 \n",
      "flushing count - 820000, time taken in seconds- 1.634552001953125 \n",
      "flushing count - 830000, time taken in seconds- 1.6029407978057861 \n",
      "flushing count - 840000, time taken in seconds- 1.8337757587432861 \n",
      "flushing count - 850000, time taken in seconds- 1.593498945236206 \n",
      "flushing count - 860000, time taken in seconds- 1.6728014945983887 \n",
      "flushing count - 870000, time taken in seconds- 1.6255252361297607 \n",
      "flushing count - 880000, time taken in seconds- 1.7698636054992676 \n",
      "flushing count - 890000, time taken in seconds- 1.7743141651153564 \n",
      "flushing count - 900000, time taken in seconds- 1.6802923679351807 \n",
      "flushing count - 910000, time taken in seconds- 1.662348985671997 \n",
      "flushing count - 920000, time taken in seconds- 1.8027410507202148 \n",
      "flushing count - 930000, time taken in seconds- 1.6787505149841309 \n",
      "flushing count - 940000, time taken in seconds- 1.6959521770477295 \n",
      "flushing count - 950000, time taken in seconds- 1.7586374282836914 \n",
      "flushing count - 960000, time taken in seconds- 1.6841576099395752 \n",
      "flushing count - 970000, time taken in seconds- 1.7785394191741943 \n",
      "flushing count - 980000, time taken in seconds- 1.61269211769104 \n",
      "flushing count - 990000, time taken in seconds- 1.7411658763885498 \n",
      "flushing count - 1000000, time taken in seconds- 1.589592695236206 \n",
      "final flushing count - 1000000, time taken in seconds- 179.32847929000854 \n"
     ]
    }
   ],
   "source": [
    "cnt = 0\n",
    "st = time.time()\n",
    "abs_st = time.time()\n",
    "for f, y in data:\n",
    "    cnt = cnt + 1    \n",
    "    d = {}\n",
    "    d['f']=f\n",
    "    d['y']=str(y).lower()\n",
    "    d['st']=time.time()  \n",
    "            \n",
    "    v= json.dumps(d).encode('utf-8')\n",
    "    try:\n",
    "        producer.produce(topic, value=v, key=str(cnt))\n",
    "    except:\n",
    "      print(f'Queue full, flushing {cnt}')\n",
    "      producer.flush()\n",
    "      producer.produce(topic, value=v, key=str(cnt))\n",
    "    if cnt%10000==0:           \n",
    "        end = time.time()\n",
    "        print(f'flushing count - {cnt}, time taken in seconds- {end-st} ')        \n",
    "        producer.flush()\n",
    "        st = time.time()        \n",
    "producer.flush()\n",
    "end = time.time()\n",
    "print(f'final flushing count - {cnt}, time taken in seconds- {end-abs_st} ')        "
   ]
  },
  {
   "cell_type": "code",
   "execution_count": 13,
   "id": "640586a5-a806-4266-be34-479bd254c49a",
   "metadata": {},
   "outputs": [],
   "source": [
    "os.environ['PREDICTION_TOPIC_PREFIX']='malicious_url_predictions'\n",
    "os.environ['PREDICTION_TOPIC_SUFFIX']='_8'\n",
    "prediction_topic_prefix = os.environ['PREDICTION_TOPIC_PREFIX']\n",
    "prediction_topic_suffix=os.environ['PREDICTION_TOPIC_SUFFIX']\n",
    "PREDICTION_TOPIC=f'{prediction_topic_prefix}{prediction_topic_suffix}'"
   ]
  },
  {
   "cell_type": "code",
   "execution_count": 14,
   "id": "cce7366f-5d4c-48c4-a0fd-e8358da9cb78",
   "metadata": {},
   "outputs": [],
   "source": [
    "from river import metrics\n",
    "auc = metrics.ROCAUC()\n",
    "f1 = metrics.F1()\n",
    "recall = metrics.MicroRecall()\n",
    "predictions_consumer_conf = {'bootstrap.servers': bsts,\n",
    "                     'sasl.username': user,\n",
    "                     'sasl.password': password,\n",
    "                     'sasl.mechanism': 'PLAIN',\n",
    "                     'security.protocol': 'SASL_SSL',\n",
    "                     'ssl.ca.location': certifi.where(),\n",
    "                     'group.id': 'prediction-grp',\n",
    "                     'enable.auto.commit': True,\n",
    "                     'auto.offset.reset': 'latest'}\n",
    "predictions_consumer = Consumer(predictions_consumer_conf)    \n",
    "predictions_consumer.subscribe([PREDICTION_TOPIC])"
   ]
  },
  {
   "cell_type": "code",
   "execution_count": 15,
   "id": "6444fa65-9fe2-4c14-9134-0974a3c3e1be",
   "metadata": {},
   "outputs": [
    {
     "name": "stdout",
     "output_type": "stream",
     "text": [
      "{'y': True, 'score': True, 'duration': 180.6090109348297, 'mem_usage': 38928296}\n"
     ]
    },
    {
     "ename": "KeyboardInterrupt",
     "evalue": "",
     "output_type": "error",
     "traceback": [
      "\u001b[0;31m---------------------------------------------------------------------------\u001b[0m",
      "\u001b[0;31mKeyboardInterrupt\u001b[0m                         Traceback (most recent call last)",
      "Cell \u001b[0;32mIn [15], line 5\u001b[0m\n\u001b[1;32m      3\u001b[0m cnt \u001b[38;5;241m=\u001b[39m \u001b[38;5;241m0\u001b[39m\n\u001b[1;32m      4\u001b[0m \u001b[38;5;28;01mwhile\u001b[39;00m(cnt\u001b[38;5;241m<\u001b[39m\u001b[38;5;241m1000000\u001b[39m):\n\u001b[0;32m----> 5\u001b[0m     msg \u001b[38;5;241m=\u001b[39m \u001b[43mpredictions_consumer\u001b[49m\u001b[38;5;241;43m.\u001b[39;49m\u001b[43mpoll\u001b[49m\u001b[43m(\u001b[49m\u001b[43mtimeout\u001b[49m\u001b[38;5;241;43m=\u001b[39;49m\u001b[38;5;241;43m0.1\u001b[39;49m\u001b[43m)\u001b[49m\n\u001b[1;32m      7\u001b[0m     \u001b[38;5;28;01mif\u001b[39;00m msg \u001b[38;5;129;01mis\u001b[39;00m \u001b[38;5;28;01mNone\u001b[39;00m: \u001b[38;5;28;01mcontinue\u001b[39;00m\n\u001b[1;32m      8\u001b[0m     \u001b[38;5;28;01mif\u001b[39;00m msg\u001b[38;5;241m.\u001b[39merror():\n",
      "\u001b[0;31mKeyboardInterrupt\u001b[0m: "
     ]
    }
   ],
   "source": [
    "\n",
    "durs = []\n",
    "mem_usage = []\n",
    "cnt = 0\n",
    "while(cnt<10000:\n",
    "    msg = predictions_consumer.poll(timeout=0.1)\n",
    "    \n",
    "    if msg is None: continue\n",
    "    if msg.error():\n",
    "        if msg.error().code() == KafkaError._PARTITION_EOF:\n",
    "                sys.stderr.write('%% %s [%d] reached end at offset %d\\n' %\n",
    "                                         (msg.topic(), msg.partition(), msg.offset()))\n",
    "    else:            \n",
    "        message = json.loads(msg.value().decode(\"utf-8\"))\n",
    "        if(cnt%10000==0):\n",
    "            print(message)\n",
    "            \n",
    "        cnt = cnt + 1\n",
    "        score = message['score']\n",
    "        y = message['y']\n",
    "        durs.append(message['duration'])\n",
    "        mem_usage.append(message['mem_usage'])\n",
    "        auc = auc.update(y, score)\n",
    "        f1 = f1.update(y, score)\n",
    "        recall = recall.update(y, score)\n",
    "            "
   ]
  },
  {
   "cell_type": "code",
   "execution_count": 18,
   "id": "a5be61a1-7435-4767-a9d3-203a1d6ca15c",
   "metadata": {},
   "outputs": [
    {
     "name": "stdout",
     "output_type": "stream",
     "text": [
      "306.9113175868988\n",
      "180.6090109348297\n",
      "180.6090109348297\n",
      "ROCAUC: 86.20%\n",
      "F1: 86.39%\n",
      "MicroRecall: 86.20%\n",
      "48231842.27287319\n"
     ]
    }
   ],
   "source": [
    "import statistics\n",
    "mean = statistics.mean(durs)\n",
    "median = statistics.median(durs)\n",
    "max_dur = max(durs)\n",
    "min_dur = min(durs)\n",
    "avg_dur = min(durs)\n",
    "total_records = len(durs)\n",
    "memory_usage = statistics.mean(mem_usage)\n",
    "print(max_dur)\n",
    "print(min_dur)\n",
    "print(avg_dur)\n",
    "print(auc)\n",
    "print(f1)\n",
    "print(recall)\n",
    "print(memory_usage)"
   ]
  },
  {
   "cell_type": "code",
   "execution_count": null,
   "id": "0ac820c2-3fd3-4e5c-9401-7e3c35223bde",
   "metadata": {},
   "outputs": [],
   "source": []
  }
 ],
 "metadata": {
  "kernelspec": {
   "display_name": "Python 3",
   "language": "python",
   "name": "python3"
  },
  "language_info": {
   "codemirror_mode": {
    "name": "ipython",
    "version": 3
   },
   "file_extension": ".py",
   "mimetype": "text/x-python",
   "name": "python",
   "nbconvert_exporter": "python",
   "pygments_lexer": "ipython3",
   "version": "3.9.15"
  }
 },
 "nbformat": 4,
 "nbformat_minor": 5
}
