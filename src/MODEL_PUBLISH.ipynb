{
 "cells": [
  {
   "cell_type": "markdown",
   "metadata": {},
   "source": [
    "## Publish a Domino Model Endpoint\n",
    "\n",
    "Prepare for Model Deployment. You can deploy the file `kafka_model.py`. Deploying the model requires the following:-\n",
    "1. Environment Id - You can get a list of environments by invoking `list_envs` function below\n",
    "2. Python file (`kafka_model.py` in our case)\n",
    "3. Function in the Python file  (`predict` in out case)\n",
    "4. Any additional environment variables the model needs to configure itself. We pass the following:\n",
    "   - KAFKA_BOOTSTRAP_SERVERS = 'KAFKA_BOOTSTRAP_SERVERS'\n",
    "   - KAFKA_USER_NAME = 'KAFKA_USERNAME'\n",
    "   - KAFKA_PASSWORD = 'KAFKA_PASSWORD'\n",
    "   - FEATURE_TOPIC = 'FEATURE_TOPIC' \n",
    "   - INFERENCE_GROUP_ID = 'INFERENCE_GROUP_ID' (A model can have many instances to serve, each of them should use the same Consumer Group Id to ensure a Kafka message is usually processed only once)\n",
    "   - PREDICTION_TOPIC = Topic where predictions are written\n",
    "\n",
    "\n"
   ]
  },
  {
   "cell_type": "code",
   "execution_count": 4,
   "metadata": {
    "tags": []
   },
   "outputs": [],
   "source": [
    "from domino import Domino\n",
    "import os\n",
    "import time\n",
    "api_host = os.getenv(\"DOMINO_API_HOST\")\n",
    "project_id=os.environ['DOMINO_PROJECT_ID']\n",
    "dm_api = Domino(\n",
    "        \"{}/{}\".format(\n",
    "            os.getenv(\"DOMINO_PROJECT_OWNER\"), os.getenv(\"DOMINO_PROJECT_NAME\")\n",
    "        )\n",
    "    )\n",
    "\n",
    "def list_envs():\n",
    "    all_available_environments = dm_api.environments_list()\n",
    "    global_environments = list(\n",
    "        filter(\n",
    "            lambda x: x.get(\"visibility\") == \"Global\",\n",
    "            all_available_environments[\"data\"],\n",
    "        )\n",
    "    )\n",
    "    return all_available_environments[\"data\"]\n",
    "\n",
    "# nv_pairs is a dictionary of name/value pairs, {'name': 'value'}\n",
    "def add_env_vars(model_id, nv_pairs):\n",
    "    vars_array = [{\"name\": name, \"value\": value} for (name, value) in nv_pairs.items()]\n",
    "    request = {\"vars\": vars_array}\n",
    "    api_host = os.getenv(\"DOMINO_API_HOST\")\n",
    "    resp = dm_api.request_manager.post(\n",
    "        f\"{api_host}/models/{model_id}/environmentVariables/add\", json=request\n",
    "    )\n"
   ]
  },
  {
   "cell_type": "markdown",
   "metadata": {},
   "source": [
    "Get a list of all environments\n",
    "\n",
    "```\n",
    "[{'id': '63fa71e8e05a501c43a61ac6', 'name': 'KAFKA', 'visibility': 'Private'},\n",
    " {'id': '63f7c9e768e90a0b79d68d16',\n",
    "  'name': '5.5 Snowflake Model Export Environment (Domino Internal)',\n",
    "  'visibility': 'Global'},\n",
    " {'id': '63f7c9e768e90a0b79d68d13',\n",
    "  'name': '5.5 Spark Compute Environment',\n",
    "  'visibility': 'Global'},\n",
    " {'id': '63f7c9e768e90a0b79d68d12',\n",
    "  'name': '5.5 Spark Cluster Environment',\n",
    "  'visibility': 'Global'},\n",
    " {'id': '63f7c9e768e90a0b79d68d11',\n",
    "  'name': 'Domino Standard Environment Py3.9 R4.2',\n",
    "  'visibility': 'Global'}]\n",
    "```"
   ]
  },
  {
   "cell_type": "code",
   "execution_count": 5,
   "metadata": {
    "tags": []
   },
   "outputs": [
    {
     "data": {
      "text/plain": [
       "[{'id': '641915929bc2112a585a2823',\n",
       "  'name': 'icde-23',\n",
       "  'visibility': 'Private'},\n",
       " {'id': '64190b169bc2112a585a27a8',\n",
       "  'name': 'OnlineLearningEnv-v2',\n",
       "  'visibility': 'Private'},\n",
       " {'id': '641747b89bc2112a585a2572',\n",
       "  'name': 'OnlineLearningEnv',\n",
       "  'visibility': 'Private'},\n",
       " {'id': '640fa4b378a49e32198d8f37',\n",
       "  'name': 'WorkspaceSparkEMR-v2',\n",
       "  'visibility': 'Private'},\n",
       " {'id': '640623f113c07a555966e698',\n",
       "  'name': 'spark-template-env',\n",
       "  'visibility': 'Private'},\n",
       " {'id': '63f4e44a62d9464871ffcac6',\n",
       "  'name': 'WorkspaceSparkEMR',\n",
       "  'visibility': 'Private'},\n",
       " {'id': '63e3ba168a2d5a33e515af09',\n",
       "  'name': '5.4 Snowflake Model Export Environment (Domino Internal)',\n",
       "  'visibility': 'Global'},\n",
       " {'id': '63e3ba168a2d5a33e515af08',\n",
       "  'name': '5.4 Spark Compute Environment',\n",
       "  'visibility': 'Global'},\n",
       " {'id': '63e3ba168a2d5a33e515af07',\n",
       "  'name': '5.4 Spark Cluster Environment',\n",
       "  'visibility': 'Global'},\n",
       " {'id': '63e3ba168a2d5a33e515af06',\n",
       "  'name': 'Domino Standard Environment Py3.9 R4.2',\n",
       "  'visibility': 'Global'}]"
      ]
     },
     "execution_count": 5,
     "metadata": {},
     "output_type": "execute_result"
    }
   ],
   "source": [
    "list_envs()"
   ]
  },
  {
   "cell_type": "code",
   "execution_count": 6,
   "metadata": {
    "tags": []
   },
   "outputs": [],
   "source": [
    "\n",
    "import os\n",
    "env_id='641915929bc2112a585a2823'\n",
    "\n",
    "model_file='src/model.py'\n",
    "model_function='predict'\n",
    "\n",
    "\n",
    "KAFKA_BOOTSTRAP_SERVERS = 'kafka_bootstrap_servers'\n",
    "KAFKA_USERNAME = 'kafka_username'\n",
    "KAFKA_PASSWORD = 'kafka_password'\n",
    "FEATURE_TOPIC = 'FEATURE_TOPIC'\n",
    "INFERENCE_GROUP_ID = 'INFERENCE_GROUP_ID'\n",
    "PREDICTION_TOPIC='PREDICTION_TOPIC'\n",
    "\n",
    "#model_name= os.environ['DOMINO_PROJECT_NAME'] \n",
    "model_name= 'icde23'\n",
    "env_variables = {\n",
    "                 KAFKA_BOOTSTRAP_SERVERS:os.environ[KAFKA_BOOTSTRAP_SERVERS],\n",
    "                 KAFKA_USERNAME:os.environ[KAFKA_USERNAME],\n",
    "                 KAFKA_PASSWORD:os.environ[KAFKA_PASSWORD],\n",
    "                 FEATURE_TOPIC: 'features',\n",
    "                 INFERENCE_GROUP_ID: f'{model_name}-03-27-10PM',\n",
    "                 PREDICTION_TOPIC: 'predictions'\n",
    "                }\n",
    " "
   ]
  },
  {
   "cell_type": "markdown",
   "metadata": {},
   "source": [
    "## Publish Model"
   ]
  },
  {
   "cell_type": "code",
   "execution_count": 7,
   "metadata": {
    "tags": []
   },
   "outputs": [
    {
     "name": "stdout",
     "output_type": "stream",
     "text": [
      "Published Model6421a9328f1de74a95244ddf\n",
      "Now add env variables\n",
      "Stopped\n",
      "Sleeping for 30 seconds\n",
      "{'modelId': {'value': '6421a9328f1de74a95244ddf'}, 'modelVersionId': {'value': '6421a9328f1de74a95244de1'}, 'status': 'Ready to run', 'operations': [{'startTime': 1679927602543, 'lastUpdated': 1679927603132, 'sagaDescription': 'Deploy model version', 'shortStateDescription': 'Building', 'longStateDescription': 'Image Building', 'isFailure': False}], 'lastOperation': {'startTime': 1679927602543, 'lastUpdated': 1679927603132, 'sagaDescription': 'Deploy model version', 'shortStateDescription': 'Building', 'longStateDescription': 'Image Building', 'isFailure': False}, 'isPending': True}\n",
      "Sleeping for 30 seconds\n",
      "{'modelId': {'value': '6421a9328f1de74a95244ddf'}, 'modelVersionId': {'value': '6421a9328f1de74a95244de1'}, 'status': 'Ready to run', 'operations': [{'startTime': 1679927602543, 'lastUpdated': 1679927603132, 'sagaDescription': 'Deploy model version', 'shortStateDescription': 'Building', 'longStateDescription': 'Image Building', 'isFailure': False}], 'lastOperation': {'startTime': 1679927602543, 'lastUpdated': 1679927603132, 'sagaDescription': 'Deploy model version', 'shortStateDescription': 'Building', 'longStateDescription': 'Image Building', 'isFailure': False}, 'isPending': True}\n",
      "Sleeping for 30 seconds\n"
     ]
    },
    {
     "name": "stderr",
     "output_type": "stream",
     "text": [
      "ERROR:domino.http_request_manager:{\"message\":\"Model ModelId(6421a9328f1de74a95244ddf) was archived\"}\n"
     ]
    },
    {
     "ename": "HTTPError",
     "evalue": "404 Client Error: Not Found for url: http://localhost:8899/models/6421a9328f1de74a95244ddf/activeStatus",
     "output_type": "error",
     "traceback": [
      "\u001b[0;31m---------------------------------------------------------------------------\u001b[0m",
      "\u001b[0;31mHTTPError\u001b[0m                                 Traceback (most recent call last)",
      "Cell \u001b[0;32mIn [7], line 26\u001b[0m\n\u001b[1;32m     23\u001b[0m     \u001b[38;5;28mprint\u001b[39m(\u001b[38;5;124m'\u001b[39m\u001b[38;5;124mSleeping for 30 seconds\u001b[39m\u001b[38;5;124m'\u001b[39m)\n\u001b[1;32m     24\u001b[0m     time\u001b[38;5;241m.\u001b[39msleep(\u001b[38;5;241m30\u001b[39m)\n\u001b[0;32m---> 26\u001b[0m     resp \u001b[38;5;241m=\u001b[39m \u001b[43mdm_api\u001b[49m\u001b[38;5;241;43m.\u001b[39;49m\u001b[43mrequest_manager\u001b[49m\u001b[38;5;241;43m.\u001b[39;49m\u001b[43mget\u001b[49m\u001b[43m(\u001b[49m\n\u001b[1;32m     27\u001b[0m \u001b[43m        \u001b[49m\u001b[38;5;124;43mf\u001b[39;49m\u001b[38;5;124;43m\"\u001b[39;49m\u001b[38;5;132;43;01m{\u001b[39;49;00m\u001b[43mapi_host\u001b[49m\u001b[38;5;132;43;01m}\u001b[39;49;00m\u001b[38;5;124;43m/models/\u001b[39;49m\u001b[38;5;132;43;01m{\u001b[39;49;00m\u001b[43mpublished_model_id\u001b[49m\u001b[38;5;132;43;01m}\u001b[39;49;00m\u001b[38;5;124;43m/activeStatus\u001b[39;49m\u001b[38;5;124;43m\"\u001b[39;49m\u001b[43m,\u001b[49m\u001b[43m \u001b[49m\u001b[43mjson\u001b[49m\u001b[38;5;241;43m=\u001b[39;49m\u001b[43m{\u001b[49m\u001b[43m}\u001b[49m\n\u001b[1;32m     28\u001b[0m \u001b[43m    \u001b[49m\u001b[43m)\u001b[49m\n\u001b[1;32m     29\u001b[0m     \u001b[38;5;28mprint\u001b[39m(resp\u001b[38;5;241m.\u001b[39mjson())\n\u001b[1;32m     30\u001b[0m status \u001b[38;5;241m=\u001b[39m resp\u001b[38;5;241m.\u001b[39mjson()[\u001b[38;5;124m'\u001b[39m\u001b[38;5;124mstatus\u001b[39m\u001b[38;5;124m'\u001b[39m]\n",
      "File \u001b[0;32m/opt/conda/lib/python3.9/site-packages/domino/http_request_manager.py:53\u001b[0m, in \u001b[0;36m_HttpRequestManager.get\u001b[0;34m(self, url, **kwargs)\u001b[0m\n\u001b[1;32m     52\u001b[0m \u001b[38;5;28;01mdef\u001b[39;00m \u001b[38;5;21mget\u001b[39m(\u001b[38;5;28mself\u001b[39m, url, \u001b[38;5;241m*\u001b[39m\u001b[38;5;241m*\u001b[39mkwargs):\n\u001b[0;32m---> 53\u001b[0m     \u001b[38;5;28;01mreturn\u001b[39;00m \u001b[38;5;28;43mself\u001b[39;49m\u001b[38;5;241;43m.\u001b[39;49m\u001b[43m_raise_for_status\u001b[49m\u001b[43m(\u001b[49m\n\u001b[1;32m     54\u001b[0m \u001b[43m        \u001b[49m\u001b[38;5;28;43mself\u001b[39;49m\u001b[38;5;241;43m.\u001b[39;49m\u001b[43mrequest_session\u001b[49m\u001b[38;5;241;43m.\u001b[39;49m\u001b[43mget\u001b[49m\u001b[43m(\u001b[49m\u001b[43murl\u001b[49m\u001b[43m,\u001b[49m\u001b[43m \u001b[49m\u001b[43mauth\u001b[49m\u001b[38;5;241;43m=\u001b[39;49m\u001b[38;5;28;43mself\u001b[39;49m\u001b[38;5;241;43m.\u001b[39;49m\u001b[43mauth\u001b[49m\u001b[43m,\u001b[49m\u001b[43m \u001b[49m\u001b[38;5;241;43m*\u001b[39;49m\u001b[38;5;241;43m*\u001b[39;49m\u001b[43mkwargs\u001b[49m\u001b[43m)\u001b[49m\n\u001b[1;32m     55\u001b[0m \u001b[43m    \u001b[49m\u001b[43m)\u001b[49m\n",
      "File \u001b[0;32m/opt/conda/lib/python3.9/site-packages/domino/http_request_manager.py:72\u001b[0m, in \u001b[0;36m_HttpRequestManager._raise_for_status\u001b[0;34m(self, response)\u001b[0m\n\u001b[1;32m     70\u001b[0m \u001b[38;5;28;01mdef\u001b[39;00m \u001b[38;5;21m_raise_for_status\u001b[39m(\u001b[38;5;28mself\u001b[39m, response):\n\u001b[1;32m     71\u001b[0m     \u001b[38;5;28;01mtry\u001b[39;00m:\n\u001b[0;32m---> 72\u001b[0m         \u001b[43mresponse\u001b[49m\u001b[38;5;241;43m.\u001b[39;49m\u001b[43mraise_for_status\u001b[49m\u001b[43m(\u001b[49m\u001b[43m)\u001b[49m\n\u001b[1;32m     73\u001b[0m     \u001b[38;5;28;01mexcept\u001b[39;00m requests\u001b[38;5;241m.\u001b[39mexceptions\u001b[38;5;241m.\u001b[39mHTTPError \u001b[38;5;28;01mas\u001b[39;00m e:\n\u001b[1;32m     74\u001b[0m         \u001b[38;5;28;01mif\u001b[39;00m e\u001b[38;5;241m.\u001b[39mresponse\u001b[38;5;241m.\u001b[39mstatus_code \u001b[38;5;241m==\u001b[39m HTTPStatus\u001b[38;5;241m.\u001b[39mCONFLICT:\n",
      "File \u001b[0;32m/opt/conda/lib/python3.9/site-packages/requests/models.py:1021\u001b[0m, in \u001b[0;36mResponse.raise_for_status\u001b[0;34m(self)\u001b[0m\n\u001b[1;32m   1016\u001b[0m     http_error_msg \u001b[38;5;241m=\u001b[39m (\n\u001b[1;32m   1017\u001b[0m         \u001b[38;5;124mf\u001b[39m\u001b[38;5;124m\"\u001b[39m\u001b[38;5;132;01m{\u001b[39;00m\u001b[38;5;28mself\u001b[39m\u001b[38;5;241m.\u001b[39mstatus_code\u001b[38;5;132;01m}\u001b[39;00m\u001b[38;5;124m Server Error: \u001b[39m\u001b[38;5;132;01m{\u001b[39;00mreason\u001b[38;5;132;01m}\u001b[39;00m\u001b[38;5;124m for url: \u001b[39m\u001b[38;5;132;01m{\u001b[39;00m\u001b[38;5;28mself\u001b[39m\u001b[38;5;241m.\u001b[39murl\u001b[38;5;132;01m}\u001b[39;00m\u001b[38;5;124m\"\u001b[39m\n\u001b[1;32m   1018\u001b[0m     )\n\u001b[1;32m   1020\u001b[0m \u001b[38;5;28;01mif\u001b[39;00m http_error_msg:\n\u001b[0;32m-> 1021\u001b[0m     \u001b[38;5;28;01mraise\u001b[39;00m HTTPError(http_error_msg, response\u001b[38;5;241m=\u001b[39m\u001b[38;5;28mself\u001b[39m)\n",
      "\u001b[0;31mHTTPError\u001b[0m: 404 Client Error: Not Found for url: http://localhost:8899/models/6421a9328f1de74a95244ddf/activeStatus"
     ]
    }
   ],
   "source": [
    "published_model = dm_api.model_publish(\n",
    "        file=model_file,\n",
    "        function=model_function,\n",
    "        environment_id=env_id,\n",
    "        name=f'{model_name}-v6',\n",
    "        description=\"Autopublish of MLFLOW model {}\".format(model_name),\n",
    "    )\n",
    "published_model_id = published_model.get(\"data\", {}).get(\"_id\")\n",
    "print(f'Published Model{published_model_id}')\n",
    "print('Now add env variables')\n",
    "\n",
    "add_env_vars(published_model_id,env_variables)\n",
    "resp = dm_api.request_manager.get(f'{api_host}/models/{published_model_id}/activeStatus',json={})\n",
    "\n",
    "status = ''\n",
    "if resp.status_code==200:\n",
    "    status = resp.json()['status']\n",
    "print(status)\n",
    "resp = dm_api.request_manager.get(\n",
    "        f\"{api_host}/models/{published_model_id}/activeStatus\", json={}\n",
    "    )\n",
    "while resp.json()['isPending']:\n",
    "    print('Sleeping for 30 seconds')\n",
    "    time.sleep(30)\n",
    "    \n",
    "    resp = dm_api.request_manager.get(\n",
    "        f\"{api_host}/models/{published_model_id}/activeStatus\", json={}\n",
    "    )\n",
    "    print(resp.json())\n",
    "status = resp.json()['status']\n",
    "print(status)"
   ]
  },
  {
   "cell_type": "code",
   "execution_count": null,
   "metadata": {},
   "outputs": [],
   "source": []
  },
  {
   "cell_type": "code",
   "execution_count": null,
   "metadata": {},
   "outputs": [],
   "source": [
    "import time"
   ]
  },
  {
   "cell_type": "code",
   "execution_count": null,
   "metadata": {},
   "outputs": [],
   "source": [
    "time.sleep(1)"
   ]
  },
  {
   "cell_type": "code",
   "execution_count": null,
   "metadata": {},
   "outputs": [],
   "source": []
  }
 ],
 "metadata": {
  "kernelspec": {
   "display_name": "Python 3",
   "language": "python",
   "name": "python3"
  },
  "language_info": {
   "codemirror_mode": {
    "name": "ipython",
    "version": 3
   },
   "file_extension": ".py",
   "mimetype": "text/x-python",
   "name": "python",
   "nbconvert_exporter": "python",
   "pygments_lexer": "ipython3",
   "version": "3.9.15"
  }
 },
 "nbformat": 4,
 "nbformat_minor": 4
}
