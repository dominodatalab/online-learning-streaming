{
 "cells": [
  {
   "cell_type": "code",
   "execution_count": 1,
   "id": "05363ff8-ee11-44e4-9547-93e575345e9e",
   "metadata": {
    "tags": []
   },
   "outputs": [],
   "source": [
    "import os\n",
    "from river import datasets\n",
    "from river import metrics\n",
    "from river import tree\n",
    "from river import ensemble\n",
    "from river import evaluate\n",
    "from river import compose\n",
    "from river import naive_bayes\n",
    "from river import anomaly\n",
    "from river import compose\n",
    "from river import datasets\n",
    "from river import metrics\n",
    "from river import preprocessing\n",
    "from confluent_kafka import Producer,Consumer\n",
    "import certifi\n",
    "import time\n",
    "import json\n",
    "import pandas"
   ]
  },
  {
   "cell_type": "code",
   "execution_count": 2,
   "id": "e75d7bf0-296f-42f8-8848-f9f438284085",
   "metadata": {
    "tags": []
   },
   "outputs": [],
   "source": [
    "classifiers=[]\n",
    "classifier='HoeffdingAdaptiveTreeClassifier'\n",
    "classifiers.append(classifier)\n",
    "classifier='SRPClassifierHAT'\n",
    "classifiers.append(classifier)\n",
    "classifier='SRPClassifierNaiveBayes'\n",
    "classifiers.append(classifier)\n",
    "classifier='AdaptiveRandomForestClassifier'\n",
    "classifiers.append(classifier)\n",
    "#classifier='HalfSpaceTrees'\n",
    "#classifiers.append(classifier)\n",
    "model_artifact = None"
   ]
  },
  {
   "cell_type": "code",
   "execution_count": 3,
   "id": "e99e5efa-2589-43d1-ab3f-ddfcde4b4925",
   "metadata": {
    "tags": []
   },
   "outputs": [
    {
     "name": "stdout",
     "output_type": "stream",
     "text": [
      "HoeffdingAdaptiveTreeClassifier\n",
      "Downloading http://www.sysnet.ucsd.edu/projects/url/url_svmlight.tar.gz (233.66 MB)\n",
      "Uncompressing into /home/ubuntu/river_data/MaliciousURL\n",
      "SRPClassifier(HoeffdingAdaptiveTreeClassifier)\n",
      "SRPClassifier(BernoulliNB)\n",
      "AdaptiveRandomForestClassifier\n"
     ]
    }
   ],
   "source": [
    "max_size=1000\n",
    "dataset = datasets.MaliciousURL()\n",
    "d_train=[]\n",
    "d_predict=[]\n",
    "d_total=[]\n",
    "for classifier in classifiers:\n",
    "    data = dataset.take(max_size)\n",
    "    if classifier=='HoeffdingAdaptiveTreeClassifier':\n",
    "            model_artifact = tree.HoeffdingAdaptiveTreeClassifier(grace_period=100,  delta=1e-5, leaf_prediction='nb', nb_threshold=10,seed=0)\n",
    "    elif classifier=='SRPClassifierHAT':\n",
    "            model_artifact =  ensemble.SRPClassifier(\n",
    "                                                   model=tree.HoeffdingAdaptiveTreeClassifier(grace_period=100,  delta=1e-5, leaf_prediction='nb', nb_threshold=10, seed=0), seed=42,\n",
    "                                                )\n",
    "    elif classifier=='SRPClassifierNaiveBayes':\n",
    "            model_artifact = ensemble.SRPClassifier(\n",
    "                                                 model=naive_bayes.BernoulliNB(alpha=1), seed=42,\n",
    "                                              )\n",
    "    elif classifier=='AdaptiveRandomForestClassifier':\n",
    "            model_artifact = ensemble.AdaptiveRandomForestClassifier(leaf_prediction=\"mc\")\n",
    "\n",
    "#    elif classifier=='HalfSpaceTrees':\n",
    "#            model_artifact = compose.Pipeline(preprocessing.MinMaxScaler(),anomaly.HalfSpaceTrees(seed=42))\n",
    "    print(model_artifact)\n",
    "    cnt = 0\n",
    "    training_st_ts = time.time()\n",
    "    for f, y in data:\n",
    "        cnt = cnt + 1\n",
    "        model_artifact = model_artifact.learn_one(f,y)\n",
    "    training_end_ts = time.time()\n",
    "    total_training_duration = training_end_ts-training_st_ts\n",
    "    avg_duration = (total_training_duration/max_size)     \n",
    "    d_train.append({'Classifier':classifier,\n",
    "              'Expected Time(ms) Per Record': avg_duration * 1000,\n",
    "              'Expected Time Million Records (s)':avg_duration * 1000000,\n",
    "              'Expected Time Million Records (mins)': avg_duration * (1000000/60),\n",
    "              'Max Training Throughput (sub-second-response) ': round(1/avg_duration)})\n",
    "    \n",
    "    data = dataset.take(max_size)\n",
    "    prediction_st_ts = time.time()\n",
    "    for f, y in data:\n",
    "        cnt = cnt + 1\n",
    "        if classifier=='HalfSpaceTrees':\n",
    "            model_artifact.learn_one(f)\n",
    "        else:\n",
    "            model_artifact.predict_one(f)\n",
    "    prediction_end_ts = time.time()\n",
    "    total_prediction_duration = prediction_end_ts-prediction_st_ts\n",
    "    avg_duration = (total_prediction_duration/max_size)     \n",
    "    d_predict.append({'Classifier':classifier,\n",
    "              'Expected Time(ms) Per Record': avg_duration * 1000,\n",
    "              'Expected Time Million Records (s)':avg_duration * 1000000,\n",
    "              'Expected Time Million Records (mins)': avg_duration * (1000000/60),\n",
    "              'Max Prediction Throughput (sub-second-response) ': round(1/avg_duration)})\n",
    "\n",
    "    total_duration = total_training_duration + total_prediction_duration\n",
    "    avg_duration = (total_duration/max_size)     \n",
    "    d_total.append({'Classifier':classifier,\n",
    "              'Expected Time(ms) Per Record': avg_duration * 1000,\n",
    "              'Expected Time Million Records (s)':avg_duration * 1000000,\n",
    "              'Expected Time Million Records (mins)': avg_duration * (1000000/60),\n",
    "              'Max (Training+Prediction) Throughput (sub-second-response) ': round(1/avg_duration)})\n",
    "\n"
   ]
  },
  {
   "cell_type": "code",
   "execution_count": 5,
   "id": "de8650b9-8a9b-44f5-8e9a-86c14034f1cb",
   "metadata": {
    "tags": []
   },
   "outputs": [
    {
     "name": "stdout",
     "output_type": "stream",
     "text": [
      "Training\n"
     ]
    },
    {
     "data": {
      "text/html": [
       "<div>\n",
       "<style scoped>\n",
       "    .dataframe tbody tr th:only-of-type {\n",
       "        vertical-align: middle;\n",
       "    }\n",
       "\n",
       "    .dataframe tbody tr th {\n",
       "        vertical-align: top;\n",
       "    }\n",
       "\n",
       "    .dataframe thead th {\n",
       "        text-align: right;\n",
       "    }\n",
       "</style>\n",
       "<table border=\"1\" class=\"dataframe\">\n",
       "  <thead>\n",
       "    <tr style=\"text-align: right;\">\n",
       "      <th></th>\n",
       "      <th>Classifier</th>\n",
       "      <th>Expected Time(ms) Per Record</th>\n",
       "      <th>Expected Time Million Records (s)</th>\n",
       "      <th>Expected Time Million Records (mins)</th>\n",
       "      <th>Max Training Throughput (sub-second-response)</th>\n",
       "    </tr>\n",
       "  </thead>\n",
       "  <tbody>\n",
       "    <tr>\n",
       "      <th>0</th>\n",
       "      <td>HoeffdingAdaptiveTreeClassifier</td>\n",
       "      <td>14.173166</td>\n",
       "      <td>14173.165560</td>\n",
       "      <td>236.219426</td>\n",
       "      <td>71</td>\n",
       "    </tr>\n",
       "    <tr>\n",
       "      <th>1</th>\n",
       "      <td>SRPClassifierHAT</td>\n",
       "      <td>37.544309</td>\n",
       "      <td>37544.309378</td>\n",
       "      <td>625.738490</td>\n",
       "      <td>27</td>\n",
       "    </tr>\n",
       "    <tr>\n",
       "      <th>2</th>\n",
       "      <td>SRPClassifierNaiveBayes</td>\n",
       "      <td>6.400703</td>\n",
       "      <td>6400.702715</td>\n",
       "      <td>106.678379</td>\n",
       "      <td>156</td>\n",
       "    </tr>\n",
       "    <tr>\n",
       "      <th>3</th>\n",
       "      <td>AdaptiveRandomForestClassifier</td>\n",
       "      <td>1.328327</td>\n",
       "      <td>1328.326941</td>\n",
       "      <td>22.138782</td>\n",
       "      <td>753</td>\n",
       "    </tr>\n",
       "  </tbody>\n",
       "</table>\n",
       "</div>"
      ],
      "text/plain": [
       "                        Classifier  Expected Time(ms) Per Record  \\\n",
       "0  HoeffdingAdaptiveTreeClassifier                     14.173166   \n",
       "1                 SRPClassifierHAT                     37.544309   \n",
       "2          SRPClassifierNaiveBayes                      6.400703   \n",
       "3   AdaptiveRandomForestClassifier                      1.328327   \n",
       "\n",
       "   Expected Time Million Records (s)  Expected Time Million Records (mins)  \\\n",
       "0                       14173.165560                            236.219426   \n",
       "1                       37544.309378                            625.738490   \n",
       "2                        6400.702715                            106.678379   \n",
       "3                        1328.326941                             22.138782   \n",
       "\n",
       "   Max Training Throughput (sub-second-response)   \n",
       "0                                              71  \n",
       "1                                              27  \n",
       "2                                             156  \n",
       "3                                             753  "
      ]
     },
     "metadata": {},
     "output_type": "display_data"
    },
    {
     "name": "stdout",
     "output_type": "stream",
     "text": [
      "Prediction\n"
     ]
    },
    {
     "data": {
      "text/html": [
       "<div>\n",
       "<style scoped>\n",
       "    .dataframe tbody tr th:only-of-type {\n",
       "        vertical-align: middle;\n",
       "    }\n",
       "\n",
       "    .dataframe tbody tr th {\n",
       "        vertical-align: top;\n",
       "    }\n",
       "\n",
       "    .dataframe thead th {\n",
       "        text-align: right;\n",
       "    }\n",
       "</style>\n",
       "<table border=\"1\" class=\"dataframe\">\n",
       "  <thead>\n",
       "    <tr style=\"text-align: right;\">\n",
       "      <th></th>\n",
       "      <th>Classifier</th>\n",
       "      <th>Expected Time(ms) Per Record</th>\n",
       "      <th>Expected Time Million Records (s)</th>\n",
       "      <th>Expected Time Million Records (mins)</th>\n",
       "      <th>Max Prediction Throughput (sub-second-response)</th>\n",
       "    </tr>\n",
       "  </thead>\n",
       "  <tbody>\n",
       "    <tr>\n",
       "      <th>0</th>\n",
       "      <td>HoeffdingAdaptiveTreeClassifier</td>\n",
       "      <td>0.747721</td>\n",
       "      <td>747.721195</td>\n",
       "      <td>12.462020</td>\n",
       "      <td>1337</td>\n",
       "    </tr>\n",
       "    <tr>\n",
       "      <th>1</th>\n",
       "      <td>SRPClassifierHAT</td>\n",
       "      <td>1.592231</td>\n",
       "      <td>1592.231274</td>\n",
       "      <td>26.537188</td>\n",
       "      <td>628</td>\n",
       "    </tr>\n",
       "    <tr>\n",
       "      <th>2</th>\n",
       "      <td>SRPClassifierNaiveBayes</td>\n",
       "      <td>1.681467</td>\n",
       "      <td>1681.467295</td>\n",
       "      <td>28.024455</td>\n",
       "      <td>595</td>\n",
       "    </tr>\n",
       "    <tr>\n",
       "      <th>3</th>\n",
       "      <td>AdaptiveRandomForestClassifier</td>\n",
       "      <td>0.246020</td>\n",
       "      <td>246.019840</td>\n",
       "      <td>4.100331</td>\n",
       "      <td>4065</td>\n",
       "    </tr>\n",
       "  </tbody>\n",
       "</table>\n",
       "</div>"
      ],
      "text/plain": [
       "                        Classifier  Expected Time(ms) Per Record  \\\n",
       "0  HoeffdingAdaptiveTreeClassifier                      0.747721   \n",
       "1                 SRPClassifierHAT                      1.592231   \n",
       "2          SRPClassifierNaiveBayes                      1.681467   \n",
       "3   AdaptiveRandomForestClassifier                      0.246020   \n",
       "\n",
       "   Expected Time Million Records (s)  Expected Time Million Records (mins)  \\\n",
       "0                         747.721195                             12.462020   \n",
       "1                        1592.231274                             26.537188   \n",
       "2                        1681.467295                             28.024455   \n",
       "3                         246.019840                              4.100331   \n",
       "\n",
       "   Max Prediction Throughput (sub-second-response)   \n",
       "0                                              1337  \n",
       "1                                               628  \n",
       "2                                               595  \n",
       "3                                              4065  "
      ]
     },
     "metadata": {},
     "output_type": "display_data"
    },
    {
     "name": "stdout",
     "output_type": "stream",
     "text": [
      "Total\n"
     ]
    },
    {
     "data": {
      "text/html": [
       "<div>\n",
       "<style scoped>\n",
       "    .dataframe tbody tr th:only-of-type {\n",
       "        vertical-align: middle;\n",
       "    }\n",
       "\n",
       "    .dataframe tbody tr th {\n",
       "        vertical-align: top;\n",
       "    }\n",
       "\n",
       "    .dataframe thead th {\n",
       "        text-align: right;\n",
       "    }\n",
       "</style>\n",
       "<table border=\"1\" class=\"dataframe\">\n",
       "  <thead>\n",
       "    <tr style=\"text-align: right;\">\n",
       "      <th></th>\n",
       "      <th>Classifier</th>\n",
       "      <th>Expected Time(ms) Per Record</th>\n",
       "      <th>Expected Time Million Records (s)</th>\n",
       "      <th>Expected Time Million Records (mins)</th>\n",
       "      <th>Max (Training+Prediction) Throughput (sub-second-response)</th>\n",
       "    </tr>\n",
       "  </thead>\n",
       "  <tbody>\n",
       "    <tr>\n",
       "      <th>0</th>\n",
       "      <td>HoeffdingAdaptiveTreeClassifier</td>\n",
       "      <td>14.920887</td>\n",
       "      <td>14920.886755</td>\n",
       "      <td>248.681446</td>\n",
       "      <td>67</td>\n",
       "    </tr>\n",
       "    <tr>\n",
       "      <th>1</th>\n",
       "      <td>SRPClassifierHAT</td>\n",
       "      <td>39.136541</td>\n",
       "      <td>39136.540651</td>\n",
       "      <td>652.275678</td>\n",
       "      <td>26</td>\n",
       "    </tr>\n",
       "    <tr>\n",
       "      <th>2</th>\n",
       "      <td>SRPClassifierNaiveBayes</td>\n",
       "      <td>8.082170</td>\n",
       "      <td>8082.170010</td>\n",
       "      <td>134.702833</td>\n",
       "      <td>124</td>\n",
       "    </tr>\n",
       "    <tr>\n",
       "      <th>3</th>\n",
       "      <td>AdaptiveRandomForestClassifier</td>\n",
       "      <td>1.574347</td>\n",
       "      <td>1574.346781</td>\n",
       "      <td>26.239113</td>\n",
       "      <td>635</td>\n",
       "    </tr>\n",
       "  </tbody>\n",
       "</table>\n",
       "</div>"
      ],
      "text/plain": [
       "                        Classifier  Expected Time(ms) Per Record  \\\n",
       "0  HoeffdingAdaptiveTreeClassifier                     14.920887   \n",
       "1                 SRPClassifierHAT                     39.136541   \n",
       "2          SRPClassifierNaiveBayes                      8.082170   \n",
       "3   AdaptiveRandomForestClassifier                      1.574347   \n",
       "\n",
       "   Expected Time Million Records (s)  Expected Time Million Records (mins)  \\\n",
       "0                       14920.886755                            248.681446   \n",
       "1                       39136.540651                            652.275678   \n",
       "2                        8082.170010                            134.702833   \n",
       "3                        1574.346781                             26.239113   \n",
       "\n",
       "   Max (Training+Prediction) Throughput (sub-second-response)   \n",
       "0                                                 67            \n",
       "1                                                 26            \n",
       "2                                                124            \n",
       "3                                                635            "
      ]
     },
     "metadata": {},
     "output_type": "display_data"
    }
   ],
   "source": [
    "print('Training')\n",
    "df_train = pandas.DataFrame(data=d_train)\n",
    "display(df_train)\n",
    "\n",
    "print('Prediction')\n",
    "df_predict = pandas.DataFrame(data=d_predict)\n",
    "display(df_predict)\n",
    "\n",
    "print('Total')\n",
    "df_total = pandas.DataFrame(data=d_total)\n",
    "display(df_total)"
   ]
  },
  {
   "cell_type": "code",
   "execution_count": 7,
   "id": "7a96e9da-01f6-457b-a7e8-339fac1be802",
   "metadata": {
    "tags": []
   },
   "outputs": [
    {
     "data": {
      "text/plain": [
       "<AxesSubplot: >"
      ]
     },
     "execution_count": 7,
     "metadata": {},
     "output_type": "execute_result"
    },
    {
     "data": {
      "image/png": "[encoded data removed]",
      "text/plain": [
       "<Figure size 640x480 with 1 Axes>"
      ]
     },
     "metadata": {},
     "output_type": "display_data"
    }
   ],
   "source": [
    "df_total.plot()"
   ]
  },
  {
   "cell_type": "code",
   "execution_count": null,
   "id": "74b3497e-6a0f-4e24-ad16-3c8f825e8279",
   "metadata": {},
   "outputs": [],
   "source": []
  }
 ],
 "metadata": {
  "kernelspec": {
   "display_name": "Python 3 (ipykernel)",
   "language": "python",
   "name": "python3"
  },
  "language_info": {
   "codemirror_mode": {
    "name": "ipython",
    "version": 3
   },
   "file_extension": ".py",
   "mimetype": "text/x-python",
   "name": "python",
   "nbconvert_exporter": "python",
   "pygments_lexer": "ipython3",
   "version": "3.9.16"
  }
 },
 "nbformat": 4,
 "nbformat_minor": 5
}
