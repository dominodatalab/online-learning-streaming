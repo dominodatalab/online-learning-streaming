{
 "cells": [
  {
   "cell_type": "code",
   "execution_count": 1,
   "id": "2e38a0b2-13d7-4ee0-b56c-537e5ea77851",
   "metadata": {
    "tags": []
   },
   "outputs": [],
   "source": [
    "import os\n",
    "from river import datasets\n",
    "from river import metrics\n",
    "from river import tree\n",
    "from river import ensemble\n",
    "from river import evaluate\n",
    "from river import compose\n",
    "from river import naive_bayes\n",
    "from river import anomaly\n",
    "from river import compose\n",
    "from river import datasets\n",
    "from river import metrics\n",
    "from river import preprocessing\n",
    "from confluent_kafka import Producer,Consumer\n",
    "import certifi\n",
    "import time\n",
    "import json\n",
    "import pandas\n",
    "import mlflow"
   ]
  },
  {
   "cell_type": "code",
   "execution_count": 2,
   "id": "4c014e38-54bf-4a01-a8af-ba9d08a44f67",
   "metadata": {
    "tags": []
   },
   "outputs": [
    {
     "ename": "KeyError",
     "evalue": "'kafka_username'",
     "output_type": "error",
     "traceback": [
      "\u001b[0;31m---------------------------------------------------------------------------\u001b[0m",
      "\u001b[0;31mKeyError\u001b[0m                                  Traceback (most recent call last)",
      "Cell \u001b[0;32mIn[2], line 1\u001b[0m\n\u001b[0;32m----> 1\u001b[0m user \u001b[38;5;241m=\u001b[39m \u001b[43mos\u001b[49m\u001b[38;5;241;43m.\u001b[39;49m\u001b[43menviron\u001b[49m\u001b[43m[\u001b[49m\u001b[38;5;124;43m'\u001b[39;49m\u001b[38;5;124;43mkafka_username\u001b[39;49m\u001b[38;5;124;43m'\u001b[39;49m\u001b[43m]\u001b[49m\n\u001b[1;32m      2\u001b[0m password \u001b[38;5;241m=\u001b[39m os\u001b[38;5;241m.\u001b[39menviron[\u001b[38;5;124m'\u001b[39m\u001b[38;5;124mkafka_password\u001b[39m\u001b[38;5;124m'\u001b[39m]\n\u001b[1;32m      3\u001b[0m bsts \u001b[38;5;241m=\u001b[39m os\u001b[38;5;241m.\u001b[39menviron[\u001b[38;5;124m'\u001b[39m\u001b[38;5;124mkafka_bootstrap_servers\u001b[39m\u001b[38;5;124m'\u001b[39m]\n",
      "File \u001b[0;32m/opt/conda/lib/python3.9/os.py:679\u001b[0m, in \u001b[0;36m_Environ.__getitem__\u001b[0;34m(self, key)\u001b[0m\n\u001b[1;32m    676\u001b[0m     value \u001b[38;5;241m=\u001b[39m \u001b[38;5;28mself\u001b[39m\u001b[38;5;241m.\u001b[39m_data[\u001b[38;5;28mself\u001b[39m\u001b[38;5;241m.\u001b[39mencodekey(key)]\n\u001b[1;32m    677\u001b[0m \u001b[38;5;28;01mexcept\u001b[39;00m \u001b[38;5;167;01mKeyError\u001b[39;00m:\n\u001b[1;32m    678\u001b[0m     \u001b[38;5;66;03m# raise KeyError with the original key value\u001b[39;00m\n\u001b[0;32m--> 679\u001b[0m     \u001b[38;5;28;01mraise\u001b[39;00m \u001b[38;5;167;01mKeyError\u001b[39;00m(key) \u001b[38;5;28;01mfrom\u001b[39;00m \u001b[38;5;28mNone\u001b[39m\n\u001b[1;32m    680\u001b[0m \u001b[38;5;28;01mreturn\u001b[39;00m \u001b[38;5;28mself\u001b[39m\u001b[38;5;241m.\u001b[39mdecodevalue(value)\n",
      "\u001b[0;31mKeyError\u001b[0m: 'kafka_username'"
     ]
    }
   ],
   "source": [
    "user= os.environ['KAFKA_USER_NAME']\n",
    "password= os.environ['KAFKA_PASSWORD']\n",
    "bsts= os.environ['KAFKA_BOOTSTRAP_SERVERS']\n",
    "topic = 'model_updates'\n",
    "conf = {'bootstrap.servers': bsts,\n",
    "            'sasl.mechanism': 'PLAIN',\n",
    "            'security.protocol': 'SASL_SSL',\n",
    "            'ssl.ca.location': certifi.where(),\n",
    "            'sasl.username': user,\n",
    "            'sasl.password': password,            \n",
    "            'message.max.bytes': 8000000,\n",
    "            'linger.ms': 100,\n",
    "            'client.id': 'model-icde-2023'}\n",
    "producer = Producer(conf) "
   ]
  },
  {
   "cell_type": "code",
   "execution_count": null,
   "id": "e097d6e9-9261-42c2-ba6f-e163cee6e68e",
   "metadata": {
    "tags": []
   },
   "outputs": [],
   "source": [
    "import codecs\n",
    "import pickle\n",
    "import sys\n",
    "\n",
    "def get_model_artifact(run_id):\n",
    "    local_path = client.download_artifacts(run_id, \"models/model.pkl\", '/tmp/')\n",
    "    with open(local_path, 'rb') as f:\n",
    "        m_a = pickle.load(f)\n",
    "        return m_a\n",
    "\n",
    "def publish_model_update_to_model_endpoint(run_id,model_version):\n",
    "    m_a = get_model_artifact(run_id)\n",
    "\n",
    "    pkd = pickle.dumps(m_a)\n",
    "    pickled = codecs.encode(pkd, \"base64\").decode()\n",
    "    v=model_version\n",
    "    model_json={'m':pickled,'v':v}\n",
    "    \n",
    "    msg = json.dumps(model_json)\n",
    "    print(sys.getsizeof(msg))\n",
    "    producer.produce(topic, value=msg, key=str(v))\n",
    "    producer.flush()\n"
   ]
  },
  {
   "cell_type": "code",
   "execution_count": null,
   "id": "73b5f6ee-d397-42c5-8572-da4b1496ec8f",
   "metadata": {
    "tags": []
   },
   "outputs": [],
   "source": [
    "auc = metrics.ROCAUC()\n",
    "f1 = metrics.F1()\n",
    "recall = metrics.MicroRecall()\n"
   ]
  },
  {
   "cell_type": "code",
   "execution_count": null,
   "id": "1bbfd2dd-da5d-47de-8c70-f6ae62b95a22",
   "metadata": {
    "tags": []
   },
   "outputs": [],
   "source": [
    "\n",
    "def generate_run(exp_id,index,model_artifact):\n",
    "    global auc\n",
    "    global f1\n",
    "    global recall\n",
    "    idx=0\n",
    "    run_name = f'run{index}'\n",
    "    \n",
    "    with mlflow.start_run(experiment_id=exp_id, run_name=run_name) as run:\n",
    "        # Retrieve run id\n",
    "        RUN_ID = run.info.run_id\n",
    "        size=100 * (index+1)\n",
    "        max_size=100\n",
    "        skip_size = size - max_size\n",
    "        dataset = datasets.MaliciousURL()\n",
    "        data = dataset.take(size)\n",
    "        cnt = 0\n",
    "        if skip_size == 0:\n",
    "            print(f'First Time Building Model')\n",
    "            for f, y in data:\n",
    "                model_artifact = model_artifact.learn_one(f,y)\n",
    "                cnt = cnt + 1\n",
    "        else:\n",
    "            for f, y in data:\n",
    "                cnt = cnt + 1\n",
    "                if(cnt==skip_size):\n",
    "                    break\n",
    "            print(f'Skipped{skip_size}')\n",
    "            for f, y in data:\n",
    "                model_artifact = model_artifact.learn_one(f,y)\n",
    "                cnt = cnt + 1\n",
    "\n",
    "            \n",
    "        # Track parameters\n",
    "        mlflow.log_param(\"leaf_prediction\", \"mc\")\n",
    "        mlflow.log_metric(\"ROCAUC\", auc.get())\n",
    "        mlflow.log_metric(\"f1\", auc.get())\n",
    "        mlflow.log_metric(\"recall\", auc.get())\n",
    "        \n",
    "        with open('/tmp/model.pkl', 'wb') as handle:\n",
    "            pickle.dump(model_artifact, handle, protocol=pickle.HIGHEST_PROTOCOL)\n",
    "        mlflow.log_artifact('/tmp/model.pkl','models')\n",
    "        return run.info"
   ]
  },
  {
   "cell_type": "code",
   "execution_count": null,
   "id": "b98f1720-6e07-4c8b-9754-735d4ff8acf4",
   "metadata": {
    "tags": []
   },
   "outputs": [],
   "source": [
    "def get_latest_model_version_from_model_registry(registered_model):\n",
    "    versions = registered_model.latest_versions\n",
    "    current_version = None\n",
    "    if(len(versions)>1):\n",
    "        current_version = versions[1]\n",
    "    else:\n",
    "        current_version = versions[0]\n",
    "\n",
    "    return current_version\n",
    "\n",
    "#model_name = current_version.name\n",
    "#model_version = current_version.version\n",
    "#reg_model_run_id = current_version.run_id\n"
   ]
  },
  {
   "cell_type": "code",
   "execution_count": null,
   "id": "129cc0e4-4c0f-496c-90b6-5e29cbd5b110",
   "metadata": {
    "tags": []
   },
   "outputs": [],
   "source": [
    "from mlflow import MlflowClient\n",
    "from mlflow.store.artifact.runs_artifact_repo import RunsArtifactRepository\n",
    "client = MlflowClient()\n",
    "EXPERIMENT_NAME = 'AdaptiveRandomForestExperiment-03-27-v3'\n",
    "model_name = EXPERIMENT_NAME\n",
    "exp = mlflow.get_experiment_by_name(EXPERIMENT_NAME)\n",
    "model_artifact = None\n",
    "if not exp:\n",
    "    EXPERIMENT_ID = mlflow.create_experiment(EXPERIMENT_NAME)\n",
    "    model_artifact = ensemble.AdaptiveRandomForestClassifier(leaf_prediction=\"mc\")\n",
    "else:\n",
    "    EXPERIMENT_ID = exp.experiment_id\n"
   ]
  },
  {
   "cell_type": "code",
   "execution_count": null,
   "id": "4ba950d3-39af-4647-9787-e03ff7d125f9",
   "metadata": {},
   "outputs": [],
   "source": [
    "index=0\n",
    "#First time creating model\n",
    "model_artifact = ensemble.AdaptiveRandomForestClassifier(leaf_prediction=\"mc\")\n",
    "run = generate_run(EXPERIMENT_ID,index,model_artifact)\n",
    "\n",
    "registered_model = None\n",
    "try:\n",
    "    registered_model = client.get_registered_model(model_name)\n",
    "except:\n",
    "     client.create_registered_model(model_name)\n",
    "registered_model = client.get_registered_model(model_name)\n",
    "result = client.create_model_version(\n",
    "    name=model_name,\n",
    "    source='/tmp/model.pkl',\n",
    "    run_id=run.run_id,\n",
    ") \n",
    "registered_model = client.get_registered_model(model_name)\n",
    "current_model_version = get_latest_model_version_from_model_registry(registered_model)\n",
    "publish_model_update_to_model_endpoint(run.run_id,current_model_version.version)"
   ]
  },
  {
   "cell_type": "code",
   "execution_count": null,
   "id": "33d2bcd7-71b4-4ae4-9179-efd598586538",
   "metadata": {
    "tags": []
   },
   "outputs": [],
   "source": [
    "for index in range(1,5):\n",
    "    print(f'Currently on iteration {index}')\n",
    "    current_model_version = get_latest_model_version_from_model_registry(registered_model)\n",
    "    model_artifact = get_model_artifact(current_model_version.run_id)\n",
    "    run = generate_run(EXPERIMENT_ID,index,model_artifact)\n",
    "    registered_model = None\n",
    "    try:\n",
    "        registered_model = client.get_registered_model(model_name)\n",
    "    except:\n",
    "         client.create_registered_model(model_name)\n",
    "\n",
    "    result = client.create_model_version(\n",
    "        name=model_name,\n",
    "        source='/tmp/model.pkl',\n",
    "        run_id=run.run_id,\n",
    "    ) \n",
    "    registered_model = client.get_registered_model(model_name)\n",
    "    current_model_version = get_latest_model_version_from_model_registry(registered_model)\n",
    "    publish_model_update_to_model_endpoint(run.run_id,current_model_version.version)\n"
   ]
  },
  {
   "cell_type": "code",
   "execution_count": null,
   "id": "0e0bb0e0-2252-4dd5-852b-5a6b871fce0c",
   "metadata": {},
   "outputs": [],
   "source": [
    "import codecs\n",
    "import pickle\n",
    "import sys\n",
    "\n",
    "pkd = pickle.dumps(model_artifact)\n",
    "pickled = codecs.encode(pkd, \"base64\").decode()\n",
    "model_instance = pickle.loads(codecs.decode(pickled.encode(), \"base64\"))\n",
    "print(model_instance)\n"
   ]
  },
  {
   "cell_type": "code",
   "execution_count": null,
   "id": "1efb1bfb-e05d-4aee-b28c-05691079557f",
   "metadata": {
    "tags": []
   },
   "outputs": [],
   "source": [
    "v=1\n",
    "model_json={'m':pickled,'v':v}\n",
    "\n",
    "msg = json.dumps(model_json)\n",
    "sys.getsizeof(msg)\n",
    "producer.produce(topic, value=msg, key=str(v))\n",
    "producer.flush()\n"
   ]
  },
  {
   "cell_type": "code",
   "execution_count": null,
   "id": "098b38c1-2148-4277-8276-0feed3f722fd",
   "metadata": {
    "tags": []
   },
   "outputs": [],
   "source": [
    "v=2\n",
    "model_json={'m':pickled,'v':v}\n",
    "producer.produce(topic, value=json.dumps(model_json), key=str(v))\n",
    "producer.flush()\n"
   ]
  },
  {
   "cell_type": "code",
   "execution_count": null,
   "id": "5b5d3b5f-03fd-4691-a9b5-182424de2433",
   "metadata": {
    "tags": []
   },
   "outputs": [],
   "source": [
    "v=3\n",
    "model_json={'m':pickled,'v':v}\n",
    "producer.produce(topic, value=json.dumps(model_json), key=str(v))\n",
    "producer.flush()"
   ]
  },
  {
   "cell_type": "code",
   "execution_count": null,
   "id": "4912cc49-f0c6-4bca-8f8f-11e8bca5635f",
   "metadata": {
    "tags": []
   },
   "outputs": [],
   "source": [
    "v=4\n",
    "model_json={'m':pickled,'v':v}\n",
    "producer.produce(topic, value=json.dumps(model_json), key=str(v))\n",
    "producer.flush()"
   ]
  },
  {
   "cell_type": "markdown",
   "id": "002a30b5-22f0-4a76-a191-608193485013",
   "metadata": {
    "tags": []
   },
   "source": [
    "## Test the model init and predict function"
   ]
  },
  {
   "cell_type": "markdown",
   "id": "3655141e-d97c-4e33-9e9b-1bfd3976cd5b",
   "metadata": {
    "tags": []
   },
   "source": [
    "```\n",
    "import os\n",
    "import model\n",
    "model.init()\n",
    "#model_test.init_get_latest_model()\n",
    "x = {\"2\": 1.0, \"4\": 0.0788382, \"5\": 0.131034, \"6\": 0.117647, \"10\": 1.0, \"11\": 0.142857, \"16\": 0.4, \"17\": 0.830283, \"18\": 0.83965, \"19\": 0.583194, \"20\": 1.0, \"21\": 0.285713, \"22\": 0.00595238, \"23\": 0.00595238, \"36\": 1.0, \"37\": 1.0, \"44\": 1.0, \"45\": 1.0, \"54\": 1.0, \"56\": 1.0, \"62\": 1.0, \"64\": 1.0, \"66\": 1.0, \"68\": 1.0, \"70\": 1.0, \"72\": 1.0, \"74\": 1.0, \"75\": 0.25, \"76\": 1.0, \"77\": 0.166667, \"79\": 0.0769231, \"81\": 0.05, \"82\": 1.0, \"84\": 1.0, \"86\": 1.0, \"88\": 1.0, \"90\": 1.0, \"92\": 1.0, \"94\": 1.0, \"96\": 1.0, \"102\": 1.0, \"104\": 1.0, \"106\": 1.0, \"108\": 1.0, \"110\": 1.0, \"112\": 1.0, \"131\": 1.0, \"133\": 1.0, \"139\": 1.0, \"141\": 1.0, \"143\": 1.0, \"145\": 1.0, \"147\": 1.0, \"149\": 1.0, \"253\": 1.0, \"260\": 1.0, \"277\": 1.0, \"304\": 1.0, \"305\": 1.0, \"425\": 1.0, \"521\": 1.0, \"673\": 1.0, \"674\": 1.0, \"675\": 1.0, \"676\": 1.0, \"731\": 1.0, \"732\": 1.0, \"733\": 1.0, \"1365\": 1.0, \"1488\": 1.0, \"2098\": 1.0, \"6027\": 1.0, \"6028\": 1.0, \"6029\": 1.0, \"6030\": 1.0, \"6031\": 1.0, \"9989\": 1.0, \"18073\": 1.0, \"18074\": 1.0, \"18077\": 1.0, \"18078\": 1.0, \"18079\": 1.0, \"18080\": 1.0, \"155153\": 1.0, \"155154\": 1.0, \"155155\": 1.0, \"155156\": 1.0, \"155157\": 1.0, \"155158\": 1.0, \"155159\": 1.0, \"155160\": 1.0, \"155161\": 1.0, \"155163\": 1.0, \"155164\": 1.0, \"155165\": 1.0, \"155166\": 1.0, \"155167\": 1.0, \"155168\": 1.0, \"155169\": 1.0, \"155170\": 1.0, \"155171\": 1.0, \"155172\": 1.0, \"155173\": 1.0, \"155174\": 1.0, \"155175\": 1.0, \"155176\": 1.0, \"155177\": 1.0, \"155178\": 1.0, \"155179\": 1.0, \"155180\": 1.0, \"155181\": 1.0, \"155182\": 1.0, \"155183\": 1.0, \"155184\": 1.0, \"155185\": 1.0, \"155186\": 1.0, \"155187\": 1.0, \"155188\": 1.0, \"155189\": 1.0, \"155190\": 1.0, \"155191\": 1.0, \"155192\": 1.0, \"155193\": 1.0, \"155194\": 1.0, \"155195\": 1.0, \"155196\": 1.0, \"155197\": 1.0, \"155198\": 1.0, \"155199\": 1.0, \"155200\": 1.0, \"155201\": 1.0, \"155202\": 1.0, \"155203\": 1.0, \"155204\": 1.0, \"155205\": 1.0, \"155206\": 1.0, \"155207\": 1.0, \"155208\": 1.0, \"155209\": 1.0, \"155210\": 1.0, \"155211\": 1.0, \"155212\": 1.0, \"155213\": 1.0, \"500481\": 1.0}\n",
    "model.predict(x)\n",
    "```"
   ]
  },
  {
   "cell_type": "code",
   "execution_count": null,
   "id": "dd2d6aff-d716-4867-a037-5b43a5584441",
   "metadata": {},
   "outputs": [],
   "source": []
  }
 ],
 "metadata": {
  "kernelspec": {
   "display_name": "Python 3 (ipykernel)",
   "language": "python",
   "name": "python3"
  },
  "language_info": {
   "codemirror_mode": {
    "name": "ipython",
    "version": 3
   },
   "file_extension": ".py",
   "mimetype": "text/x-python",
   "name": "python",
   "nbconvert_exporter": "python",
   "pygments_lexer": "ipython3",
   "version": "3.9.16"
  }
 },
 "nbformat": 4,
 "nbformat_minor": 5
}
