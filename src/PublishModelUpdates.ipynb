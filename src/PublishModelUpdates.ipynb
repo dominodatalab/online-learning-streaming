{
 "cells": [
  {
   "cell_type": "code",
   "execution_count": 6,
   "id": "2e38a0b2-13d7-4ee0-b56c-537e5ea77851",
   "metadata": {},
   "outputs": [],
   "source": [
    "import os\n",
    "from river import datasets\n",
    "from river import metrics\n",
    "from river import tree\n",
    "from river import ensemble\n",
    "from river import evaluate\n",
    "from river import compose\n",
    "from river import naive_bayes\n",
    "from river import anomaly\n",
    "from river import compose\n",
    "from river import datasets\n",
    "from river import metrics\n",
    "from river import preprocessing\n",
    "from confluent_kafka import Producer,Consumer\n",
    "import certifi\n",
    "import time\n",
    "import json\n",
    "import pandas\n",
    "import mlflow"
   ]
  },
  {
   "cell_type": "code",
   "execution_count": 7,
   "id": "01ff2e19-8652-4743-b55b-e4de0c9419fe",
   "metadata": {
    "tags": []
   },
   "outputs": [],
   "source": [
    "from itertools import islice\n",
    "dataset = datasets.MaliciousURL()\n",
    "data = dataset.take(10)\n",
    "\n"
   ]
  },
  {
   "cell_type": "code",
   "execution_count": 7,
   "id": "4c014e38-54bf-4a01-a8af-ba9d08a44f67",
   "metadata": {
    "tags": []
   },
   "outputs": [],
   "source": [
    "user = os.environ['kafka_username']\n",
    "password = os.environ['kafka_password']\n",
    "bsts = os.environ['kafka_bootstrap_servers']\n",
    "topic = 'model_updates'\n",
    "conf = {'bootstrap.servers': bsts,\n",
    "            'sasl.mechanism': 'PLAIN',\n",
    "            'security.protocol': 'SASL_SSL',\n",
    "            'ssl.ca.location': certifi.where(),\n",
    "            'sasl.username': user,\n",
    "            'sasl.password': password,            \n",
    "            'message.max.bytes': 8000000,\n",
    "            'linger.ms': 100,\n",
    "            'client.id': 'model-icde-2023'}\n",
    "producer = Producer(conf) "
   ]
  },
  {
   "cell_type": "code",
   "execution_count": 9,
   "id": "73b5f6ee-d397-42c5-8572-da4b1496ec8f",
   "metadata": {
    "tags": []
   },
   "outputs": [],
   "source": [
    "auc = metrics.ROCAUC()\n",
    "f1 = metrics.F1()\n",
    "recall = metrics.MicroRecall()\n"
   ]
  },
  {
   "cell_type": "code",
   "execution_count": 10,
   "id": "1bbfd2dd-da5d-47de-8c70-f6ae62b95a22",
   "metadata": {
    "tags": []
   },
   "outputs": [],
   "source": [
    "import codecs\n",
    "import pickle\n",
    "import sys\n",
    "def generate_run(exp_id,run_name,model_artifact):\n",
    "    global auc\n",
    "    global f1\n",
    "    global recall\n",
    "    idx=0\n",
    "    run_name\n",
    "    \n",
    "    with mlflow.start_run(experiment_id=exp_id, run_name=run_name) as run:\n",
    "        # Retrieve run id\n",
    "        RUN_ID = run.info.run_id\n",
    "        max_size=2000\n",
    "        \n",
    "        dataset = datasets.MaliciousURL()\n",
    "        data = dataset.take(max_size)\n",
    "        cnt = 0\n",
    "        for f, y in data:\n",
    "            model_artifact = model_artifact.learn_one(f,y)\n",
    "            cnt = cnt + 1\n",
    "            if(cnt==1000):\n",
    "                break\n",
    "        for f, y in data:\n",
    "            model_artifact = model_artifact.learn_one(f,y)\n",
    "            cnt = cnt + 1\n",
    "            \n",
    "        # Track parameters\n",
    "        mlflow.log_param(\"leaf_prediction\", \"mc\")\n",
    "        mlflow.log_metric(\"ROCAUC\", auc.get())\n",
    "        mlflow.log_metric(\"f1\", auc.get())\n",
    "        mlflow.log_metric(\"recall\", auc.get())\n",
    "        \n",
    "        with open('model.pkl', 'wb') as handle:\n",
    "            pickle.dump(model_artifact, handle, protocol=pickle.HIGHEST_PROTOCOL)\n",
    "        mlflow.log_artifact('model.pkl')\n",
    "        return model_artifact"
   ]
  },
  {
   "cell_type": "code",
   "execution_count": 11,
   "id": "41a4ad6c-7eae-4bea-86be-2350372bcf08",
   "metadata": {
    "tags": []
   },
   "outputs": [],
   "source": [
    "EXPERIMENT_NAME = 'AdaptiveRandomForestExperiment'\n",
    "exp = mlflow.get_experiment_by_name(EXPERIMENT_NAME)\n",
    "if not exp:\n",
    "    EXPERIMENT_ID = mlflow.create_experiment(EXPERIMENT_NAME)\n",
    "else:\n",
    "    EXPERIMENT_ID = exp.experiment_id"
   ]
  },
  {
   "cell_type": "code",
   "execution_count": null,
   "id": "cbb8ae9b-8fb1-48cc-bad5-110fde5b105d",
   "metadata": {},
   "outputs": [],
   "source": [
    "model_artifact = ensemble.AdaptiveRandomForestClassifier(leaf_prediction=\"mc\")\n",
    "out = generate_run(EXPERIMENT_ID,'03-27-wadkars-1',model_artifact)\n",
    "print(out)"
   ]
  },
  {
   "cell_type": "code",
   "execution_count": 4,
   "id": "3459db5d-6cbb-4072-a369-9a172198d1c6",
   "metadata": {
    "tags": []
   },
   "outputs": [
    {
     "name": "stdout",
     "output_type": "stream",
     "text": [
      "<RegisteredModel: creation_timestamp=1679948352237, description='', last_updated_timestamp=1679948352237, latest_versions=[], name='online-learning-adaptive-random-forest', tags={'mlflow.domino.project_id': 'icde23',\n",
      " 'mlflow.domino.run_id': '6421bafc3cd3e2523924abd0',\n",
      " 'mlflow.domino.user': 'integration-test',\n",
      " 'mlflow.source.type': 'NOTEBOOK',\n",
      " 'mlflow.user': 'integration-test'}>\n"
     ]
    }
   ],
   "source": [
    "from mlflow import MlflowClient\n",
    "client = MlflowClient()\n",
    "my_model = client.get_registered_model(\"online-learning-adaptive-random-forest\")\n",
    "if not my_model:\n",
    "    client.create_registered_model(\"online-learning-adaptive-random-forest\")\n",
    "    my_model = client.get_registered_model(\"online-learning-adaptive-random-forest\")\n",
    "print(my_model)"
   ]
  },
  {
   "cell_type": "code",
   "execution_count": 8,
   "id": "0e0bb0e0-2252-4dd5-852b-5a6b871fce0c",
   "metadata": {},
   "outputs": [],
   "source": [
    "import codecs\n",
    "import pickle\n",
    "import sys\n",
    "\n",
    "pkd = pickle.dumps(model_artifact)\n",
    "pickled = codecs.encode(pkd, \"base64\").decode()\n",
    "model_instance = pickle.loads(codecs.decode(pickled.encode(), \"base64\"))\n",
    "print(model_instance)\n"
   ]
  },
  {
   "cell_type": "code",
   "execution_count": null,
   "id": "1efb1bfb-e05d-4aee-b28c-05691079557f",
   "metadata": {
    "tags": []
   },
   "outputs": [],
   "source": [
    "v=1\n",
    "model_json={'m':pickled,'v':v}\n",
    "\n",
    "msg = json.dumps(model_json)\n",
    "sys.getsizeof(msg)\n",
    "producer.produce(topic, value=msg, key=str(v))\n",
    "producer.flush()\n"
   ]
  },
  {
   "cell_type": "code",
   "execution_count": null,
   "id": "098b38c1-2148-4277-8276-0feed3f722fd",
   "metadata": {
    "tags": []
   },
   "outputs": [],
   "source": [
    "v=2\n",
    "model_json={'m':pickled,'v':v}\n",
    "producer.produce(topic, value=json.dumps(model_json), key=str(v))\n",
    "producer.flush()\n"
   ]
  },
  {
   "cell_type": "code",
   "execution_count": null,
   "id": "5b5d3b5f-03fd-4691-a9b5-182424de2433",
   "metadata": {
    "tags": []
   },
   "outputs": [],
   "source": [
    "v=3\n",
    "model_json={'m':pickled,'v':v}\n",
    "producer.produce(topic, value=json.dumps(model_json), key=str(v))\n",
    "producer.flush()"
   ]
  },
  {
   "cell_type": "code",
   "execution_count": 9,
   "id": "4912cc49-f0c6-4bca-8f8f-11e8bca5635f",
   "metadata": {
    "tags": []
   },
   "outputs": [],
   "source": [
    "v=4\n",
    "model_json={'m':pickled,'v':v}\n",
    "producer.produce(topic, value=json.dumps(model_json), key=str(v))\n",
    "producer.flush()"
   ]
  },
  {
   "cell_type": "markdown",
   "id": "002a30b5-22f0-4a76-a191-608193485013",
   "metadata": {
    "tags": []
   },
   "source": [
    "## Test the model init and predict function"
   ]
  },
  {
   "cell_type": "markdown",
   "id": "3655141e-d97c-4e33-9e9b-1bfd3976cd5b",
   "metadata": {
    "tags": []
   },
   "source": [
    "```\n",
    "import os\n",
    "import model\n",
    "model.init()\n",
    "#model_test.init_get_latest_model()\n",
    "x = {\"2\": 1.0, \"4\": 0.0788382, \"5\": 0.131034, \"6\": 0.117647, \"10\": 1.0, \"11\": 0.142857, \"16\": 0.4, \"17\": 0.830283, \"18\": 0.83965, \"19\": 0.583194, \"20\": 1.0, \"21\": 0.285713, \"22\": 0.00595238, \"23\": 0.00595238, \"36\": 1.0, \"37\": 1.0, \"44\": 1.0, \"45\": 1.0, \"54\": 1.0, \"56\": 1.0, \"62\": 1.0, \"64\": 1.0, \"66\": 1.0, \"68\": 1.0, \"70\": 1.0, \"72\": 1.0, \"74\": 1.0, \"75\": 0.25, \"76\": 1.0, \"77\": 0.166667, \"79\": 0.0769231, \"81\": 0.05, \"82\": 1.0, \"84\": 1.0, \"86\": 1.0, \"88\": 1.0, \"90\": 1.0, \"92\": 1.0, \"94\": 1.0, \"96\": 1.0, \"102\": 1.0, \"104\": 1.0, \"106\": 1.0, \"108\": 1.0, \"110\": 1.0, \"112\": 1.0, \"131\": 1.0, \"133\": 1.0, \"139\": 1.0, \"141\": 1.0, \"143\": 1.0, \"145\": 1.0, \"147\": 1.0, \"149\": 1.0, \"253\": 1.0, \"260\": 1.0, \"277\": 1.0, \"304\": 1.0, \"305\": 1.0, \"425\": 1.0, \"521\": 1.0, \"673\": 1.0, \"674\": 1.0, \"675\": 1.0, \"676\": 1.0, \"731\": 1.0, \"732\": 1.0, \"733\": 1.0, \"1365\": 1.0, \"1488\": 1.0, \"2098\": 1.0, \"6027\": 1.0, \"6028\": 1.0, \"6029\": 1.0, \"6030\": 1.0, \"6031\": 1.0, \"9989\": 1.0, \"18073\": 1.0, \"18074\": 1.0, \"18077\": 1.0, \"18078\": 1.0, \"18079\": 1.0, \"18080\": 1.0, \"155153\": 1.0, \"155154\": 1.0, \"155155\": 1.0, \"155156\": 1.0, \"155157\": 1.0, \"155158\": 1.0, \"155159\": 1.0, \"155160\": 1.0, \"155161\": 1.0, \"155163\": 1.0, \"155164\": 1.0, \"155165\": 1.0, \"155166\": 1.0, \"155167\": 1.0, \"155168\": 1.0, \"155169\": 1.0, \"155170\": 1.0, \"155171\": 1.0, \"155172\": 1.0, \"155173\": 1.0, \"155174\": 1.0, \"155175\": 1.0, \"155176\": 1.0, \"155177\": 1.0, \"155178\": 1.0, \"155179\": 1.0, \"155180\": 1.0, \"155181\": 1.0, \"155182\": 1.0, \"155183\": 1.0, \"155184\": 1.0, \"155185\": 1.0, \"155186\": 1.0, \"155187\": 1.0, \"155188\": 1.0, \"155189\": 1.0, \"155190\": 1.0, \"155191\": 1.0, \"155192\": 1.0, \"155193\": 1.0, \"155194\": 1.0, \"155195\": 1.0, \"155196\": 1.0, \"155197\": 1.0, \"155198\": 1.0, \"155199\": 1.0, \"155200\": 1.0, \"155201\": 1.0, \"155202\": 1.0, \"155203\": 1.0, \"155204\": 1.0, \"155205\": 1.0, \"155206\": 1.0, \"155207\": 1.0, \"155208\": 1.0, \"155209\": 1.0, \"155210\": 1.0, \"155211\": 1.0, \"155212\": 1.0, \"155213\": 1.0, \"500481\": 1.0}\n",
    "model.predict(x)\n",
    "```"
   ]
  },
  {
   "cell_type": "code",
   "execution_count": null,
   "id": "dd2d6aff-d716-4867-a037-5b43a5584441",
   "metadata": {},
   "outputs": [],
   "source": []
  }
 ],
 "metadata": {
  "kernelspec": {
   "display_name": "Python 3 (ipykernel)",
   "language": "python",
   "name": "python3"
  },
  "language_info": {
   "codemirror_mode": {
    "name": "ipython",
    "version": 3
   },
   "file_extension": ".py",
   "mimetype": "text/x-python",
   "name": "python",
   "nbconvert_exporter": "python",
   "pygments_lexer": "ipython3",
   "version": "3.9.16"
  }
 },
 "nbformat": 4,
 "nbformat_minor": 5
}
