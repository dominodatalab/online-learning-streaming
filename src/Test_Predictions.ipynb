{
 "cells": [
  {
   "cell_type": "code",
   "execution_count": 1,
   "id": "1112046d-b2ea-4210-ac4b-f8a0d994de88",
   "metadata": {},
   "outputs": [],
   "source": [
    "import os\n",
    "import certifi\n",
    "from river import datasets\n",
    "from confluent_kafka import Producer,Consumer\n",
    "import certifi\n",
    "import time\n",
    "import json"
   ]
  },
  {
   "cell_type": "code",
   "execution_count": 2,
   "id": "1232aade-e8e6-4dd5-977c-b7a77416cee5",
   "metadata": {},
   "outputs": [],
   "source": [
    "os.environ['FEATURE_TOPIC_NAME']='malicious_url_events'\n",
    "os.environ['INFERENCE_GROUP_ID']='test-grp-100'\n",
    "os.environ['PREDICTION_TOPIC_PREFIX']='malicious_url_predictions'\n",
    "os.environ['PREDICTION_TOPIC_SUFFIX']='_8'\n",
    "prediction_topic_prefix = os.environ['PREDICTION_TOPIC_PREFIX']\n",
    "prediction_topic_suffix=os.environ['PREDICTION_TOPIC_SUFFIX']\n",
    "PREDICTION_TOPIC=f'{prediction_topic_prefix}{prediction_topic_suffix}'\n",
    "\n",
    "KAFKA_BOOTSTRAP_SERVERS = os.environ.get('kafka_bootstrap_servers')\n",
    "KAFKA_USER_NAME = os.environ.get('kafka_username')\n",
    "KAFKA_PASSWORD = os.environ.get('kafka_password')"
   ]
  },
  {
   "cell_type": "code",
   "execution_count": 3,
   "id": "60008824-4d94-4ab2-9b73-40e1816713b9",
   "metadata": {},
   "outputs": [],
   "source": [
    "#import src.online_learning_model"
   ]
  },
  {
   "cell_type": "code",
   "execution_count": 4,
   "id": "6928430c-dbcc-4a8f-acd3-f9b0462919f5",
   "metadata": {},
   "outputs": [],
   "source": [
    "from river import metrics\n",
    "auc = metrics.ROCAUC()\n",
    "f1 = metrics.F1()\n",
    "recall = metrics.MicroRecall()\n",
    "predictions_consumer_conf = {'bootstrap.servers': KAFKA_BOOTSTRAP_SERVERS,\n",
    "                     'sasl.username': KAFKA_USER_NAME,\n",
    "                     'sasl.password': KAFKA_PASSWORD,\n",
    "                     'sasl.mechanism': 'PLAIN',\n",
    "                     'security.protocol': 'SASL_SSL',\n",
    "                     'ssl.ca.location': certifi.where(),\n",
    "                     'group.id': 'prediction-grp-2',\n",
    "                     'enable.auto.commit': True,\n",
    "                     'auto.offset.reset': 'earliest'}\n",
    "predictions_consumer = Consumer(predictions_consumer_conf)    \n",
    "predictions_consumer.subscribe([PREDICTION_TOPIC])"
   ]
  },
  {
   "cell_type": "code",
   "execution_count": null,
   "id": "e85670d5-d841-4f05-8c1c-d2333efe7b5d",
   "metadata": {},
   "outputs": [
    {
     "name": "stdout",
     "output_type": "stream",
     "text": [
      "{'y': False, 'score': False, 'duration': 9823.633985042572, 'mem_usage': 233479167}\n",
      "Processed0\n",
      "{'y': True, 'score': True, 'duration': 9831.623094558716, 'mem_usage': 233784225}\n",
      "{'y': True, 'score': True, 'duration': 9839.522679805756, 'mem_usage': 233792369}\n",
      "{'y': True, 'score': False, 'duration': 9847.38647532463, 'mem_usage': 233844005}\n",
      "{'y': False, 'score': False, 'duration': 9855.312207698822, 'mem_usage': 234089077}\n",
      "{'y': True, 'score': True, 'duration': 9861.02959561348, 'mem_usage': 234479215}\n",
      "{'y': True, 'score': True, 'duration': 9836.151253700256, 'mem_usage': 233792369}\n",
      "{'y': True, 'score': True, 'duration': 9842.886917114258, 'mem_usage': 233804704}\n",
      "{'y': True, 'score': True, 'duration': 9850.772818803787, 'mem_usage': 233950256}\n",
      "{'y': True, 'score': True, 'duration': 9859.891321182251, 'mem_usage': 234347083}\n",
      "{'y': False, 'score': False, 'duration': 9821.35885977745, 'mem_usage': 233368886}\n",
      "{'y': False, 'score': False, 'duration': 9827.055046081543, 'mem_usage': 233628365}\n",
      "{'y': True, 'score': True, 'duration': 9833.890007257462, 'mem_usage': 233784225}\n",
      "{'y': True, 'score': True, 'duration': 9840.635916233063, 'mem_usage': 233792369}\n",
      "{'y': True, 'score': True, 'duration': 9857.627575397491, 'mem_usage': 234241228}\n",
      "{'y': True, 'score': True, 'duration': 9864.415802001953, 'mem_usage': 234606394}\n",
      "{'y': False, 'score': False, 'duration': 9822.500100851059, 'mem_usage': 233442162}\n",
      "{'y': True, 'score': False, 'duration': 9832.769389867783, 'mem_usage': 233784225}\n",
      "{'y': True, 'score': True, 'duration': 9838.398727416992, 'mem_usage': 233792369}\n",
      "{'y': False, 'score': False, 'duration': 9848.501595258713, 'mem_usage': 233856340}\n",
      "{'y': False, 'score': False, 'duration': 9854.167298555374, 'mem_usage': 234064646}\n",
      "{'y': True, 'score': True, 'duration': 9862.152794361115, 'mem_usage': 234479215}\n",
      "{'y': True, 'score': True, 'duration': 9828.177873849869, 'mem_usage': 233628365}\n",
      "{'y': True, 'score': True, 'duration': 9835.011048793793, 'mem_usage': 233784225}\n",
      "{'y': True, 'score': True, 'duration': 9841.75343990326, 'mem_usage': 233804704}\n",
      "{'y': True, 'score': True, 'duration': 9856.49989271164, 'mem_usage': 234142577}\n",
      "{'y': False, 'score': False, 'duration': 9863.30740404129, 'mem_usage': 234528306}\n",
      "{'y': True, 'score': True, 'duration': 9837.264291524887, 'mem_usage': 233792369}\n",
      "{'y': True, 'score': True, 'duration': 9844.00512266159, 'mem_usage': 233804704}\n",
      "{'y': True, 'score': True, 'duration': 9849.651495218277, 'mem_usage': 233921479}\n",
      "{'y': False, 'score': False, 'duration': 9858.769419908524, 'mem_usage': 234347083}\n",
      "{'y': False, 'score': False, 'duration': 9865.648659944534, 'mem_usage': 234655249}\n",
      "{'y': False, 'score': False, 'duration': 9825.906037330627, 'mem_usage': 233550889}\n",
      "{'y': True, 'score': False, 'duration': 9829.339610338211, 'mem_usage': 233716190}\n",
      "{'y': True, 'score': True, 'duration': 9845.132354021072, 'mem_usage': 233804704}\n",
      "{'y': False, 'score': False, 'duration': 9853.062161684036, 'mem_usage': 234040220}\n",
      "{'y': False, 'score': True, 'duration': 9824.787088632584, 'mem_usage': 233538554}\n",
      "{'y': True, 'score': True, 'duration': 9830.493512392044, 'mem_usage': 233784225}\n",
      "{'y': True, 'score': True, 'duration': 9846.273734807968, 'mem_usage': 233804704}\n",
      "{'y': False, 'score': True, 'duration': 9851.918656110764, 'mem_usage': 233999113}\n",
      "{'y': False, 'score': False, 'duration': 9866.790581941605, 'mem_usage': 234687821}\n",
      "{'y': False, 'score': False, 'duration': 9867.915128707886, 'mem_usage': 234855019}\n",
      "{'y': False, 'score': False, 'duration': 9869.06531882286, 'mem_usage': 234952723}\n",
      "{'y': False, 'score': False, 'duration': 9870.267124891281, 'mem_usage': 175754885}\n"
     ]
    }
   ],
   "source": [
    "\n",
    "durs = []\n",
    "mem_usage = []\n",
    "cnt = 0\n",
    "while(cnt<10000):\n",
    "    msg = predictions_consumer.poll(timeout=0.1)\n",
    "    \n",
    "    if msg is None: continue\n",
    "    if msg.error():\n",
    "        if msg.error().code() == KafkaError._PARTITION_EOF:\n",
    "                sys.stderr.write('%% %s [%d] reached end at offset %d\\n' %\n",
    "                                         (msg.topic(), msg.partition(), msg.offset()))\n",
    "    else:            \n",
    "        message = json.loads(msg.value().decode(\"utf-8\"))\n",
    "        print(message)\n",
    "        if(cnt%1000==0):\n",
    "            print(f'Processed{cnt}')\n",
    "            \n",
    "        cnt = cnt + 1\n",
    "        score = message['score']\n",
    "        y = message['y']\n",
    "        durs.append(message['duration'])\n",
    "        mem_usage.append(message['mem_usage'])\n",
    "        auc = auc.update(y, score)\n",
    "        f1 = f1.update(y, score)\n",
    "        recall = recall.update(y, score)"
   ]
  },
  {
   "cell_type": "code",
   "execution_count": null,
   "id": "1e7d30fe-dafe-4322-80fb-d990482fb518",
   "metadata": {},
   "outputs": [],
   "source": [
    "import statistics\n",
    "mean = statistics.mean(durs)\n",
    "median = statistics.median(durs)\n",
    "max_dur = max(durs)\n",
    "min_dur = min(durs)\n",
    "avg_dur = min(durs)\n",
    "total_records = len(durs)\n",
    "memory_usage = statistics.mean(mem_usage)\n",
    "print(max_dur)\n",
    "print(min_dur)\n",
    "print(avg_dur)\n",
    "print(auc)\n",
    "print(f1)\n",
    "print(recall)\n",
    "print(memory_usage)"
   ]
  },
  {
   "cell_type": "code",
   "execution_count": null,
   "id": "a2d7ff9b-5d59-4d35-be58-2fc0db89d06c",
   "metadata": {},
   "outputs": [],
   "source": [
    "print(len(durs))"
   ]
  },
  {
   "cell_type": "code",
   "execution_count": null,
   "id": "2512d706-e9d5-49f7-b112-08e9665c6375",
   "metadata": {},
   "outputs": [],
   "source": []
  }
 ],
 "metadata": {
  "kernelspec": {
   "display_name": "Python 3",
   "language": "python",
   "name": "python3"
  },
  "language_info": {
   "codemirror_mode": {
    "name": "ipython",
    "version": 3
   },
   "file_extension": ".py",
   "mimetype": "text/x-python",
   "name": "python",
   "nbconvert_exporter": "python",
   "pygments_lexer": "ipython3",
   "version": "3.9.15"
  }
 },
 "nbformat": 4,
 "nbformat_minor": 5
}
