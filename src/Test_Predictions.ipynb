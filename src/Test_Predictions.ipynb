{
 "cells": [
  {
   "cell_type": "code",
   "execution_count": 1,
   "id": "1112046d-b2ea-4210-ac4b-f8a0d994de88",
   "metadata": {},
   "outputs": [],
   "source": [
    "import os\n",
    "import certifi\n",
    "from river import datasets\n",
    "from confluent_kafka import Producer,Consumer\n",
    "from confluent_kafka import KafkaError\n",
    "import certifi\n",
    "import time\n",
    "import json"
   ]
  },
  {
   "cell_type": "code",
   "execution_count": 2,
   "id": "1232aade-e8e6-4dd5-977c-b7a77416cee5",
   "metadata": {},
   "outputs": [],
   "source": [
    "os.environ['FEATURE_TOPIC_NAME']='malicious_url_events'\n",
    "os.environ['INFERENCE_GROUP_ID']='test-grp-100'\n",
    "os.environ['PREDICTION_TOPIC_PREFIX']='malicious_url_predictions'\n",
    "os.environ['PREDICTION_TOPIC_SUFFIX']='_16'\n",
    "prediction_topic_prefix = os.environ['PREDICTION_TOPIC_PREFIX']\n",
    "prediction_topic_suffix=os.environ['PREDICTION_TOPIC_SUFFIX']\n",
    "PREDICTION_TOPIC=f'{prediction_topic_prefix}{prediction_topic_suffix}'\n",
    "\n",
    "KAFKA_BOOTSTRAP_SERVERS = os.environ.get('kafka_bootstrap_servers')\n",
    "KAFKA_USER_NAME = os.environ.get('kafka_username')\n",
    "KAFKA_PASSWORD = os.environ.get('kafka_password')"
   ]
  },
  {
   "cell_type": "code",
   "execution_count": 3,
   "id": "60008824-4d94-4ab2-9b73-40e1816713b9",
   "metadata": {},
   "outputs": [
    {
     "name": "stdout",
     "output_type": "stream",
     "text": [
      "Sleeping for 10 seconds\n",
      "Initialized \n",
      "started\n",
      "\n",
      "Now subscribing to features topic malicious_url_events\n"
     ]
    }
   ],
   "source": [
    "import online_learning_model"
   ]
  },
  {
   "cell_type": "code",
   "execution_count": 4,
   "id": "6928430c-dbcc-4a8f-acd3-f9b0462919f5",
   "metadata": {},
   "outputs": [],
   "source": [
    "from river import metrics\n",
    "auc = metrics.ROCAUC()\n",
    "f1 = metrics.F1()\n",
    "recall = metrics.MicroRecall()\n",
    "predictions_consumer_conf = {'bootstrap.servers': KAFKA_BOOTSTRAP_SERVERS,\n",
    "                     'sasl.username': KAFKA_USER_NAME,\n",
    "                     'sasl.password': KAFKA_PASSWORD,\n",
    "                     'sasl.mechanism': 'PLAIN',\n",
    "                     'security.protocol': 'SASL_SSL',\n",
    "                     'ssl.ca.location': certifi.where(),\n",
    "                     'group.id': 'prediction-grp-2',\n",
    "                     'enable.auto.commit': True,\n",
    "                     'auto.offset.reset': 'earliest'}\n",
    "predictions_consumer = Consumer(predictions_consumer_conf)    \n",
    "predictions_consumer.subscribe([PREDICTION_TOPIC])"
   ]
  },
  {
   "cell_type": "code",
   "execution_count": null,
   "id": "e85670d5-d841-4f05-8c1c-d2333efe7b5d",
   "metadata": {},
   "outputs": [],
   "source": [
    "\n",
    "durs = []\n",
    "mem_usage = []\n",
    "cnt = 0\n",
    "while(cnt<10000):\n",
    "    msg = predictions_consumer.poll(timeout=0.1)\n",
    "    \n",
    "    if msg is None: continue\n",
    "    if msg.error():\n",
    "        if msg.error().code() == KafkaError._PARTITION_EOF:\n",
    "                sys.stderr.write('%% %s [%d] reached end at offset %d\\n' %\n",
    "                                         (msg.topic(), msg.partition(), msg.offset()))\n",
    "    else:            \n",
    "        message = json.loads(msg.value().decode(\"utf-8\"))\n",
    "        print(message)\n",
    "        if(cnt%1000==0):\n",
    "            print(f'Processed{cnt}')\n",
    "            print(message)\n",
    "        cnt = cnt + 1\n",
    "        score = message['score']\n",
    "        y = message['y']\n",
    "        durs.append(message['duration'])\n",
    "        mem_usage.append(message['mem_usage'])\n",
    "        auc = auc.update(y, score)\n",
    "        f1 = f1.update(y, score)\n",
    "        recall = recall.update(y, score)"
   ]
  },
  {
   "cell_type": "code",
   "execution_count": null,
   "id": "1e7d30fe-dafe-4322-80fb-d990482fb518",
   "metadata": {},
   "outputs": [],
   "source": [
    "import statistics\n",
    "mean = statistics.mean(durs)\n",
    "median = statistics.median(durs)\n",
    "max_dur = max(durs)\n",
    "min_dur = min(durs)\n",
    "avg_dur = min(durs)\n",
    "total_records = len(durs)\n",
    "memory_usage = statistics.mean(mem_usage)\n",
    "print(max_dur)\n",
    "print(min_dur)\n",
    "print(avg_dur)\n",
    "print(auc)\n",
    "print(f1)\n",
    "print(recall)\n",
    "print(memory_usage)"
   ]
  },
  {
   "cell_type": "code",
   "execution_count": null,
   "id": "a2d7ff9b-5d59-4d35-be58-2fc0db89d06c",
   "metadata": {},
   "outputs": [],
   "source": [
    "print(len(durs))"
   ]
  },
  {
   "cell_type": "code",
   "execution_count": null,
   "id": "2512d706-e9d5-49f7-b112-08e9665c6375",
   "metadata": {},
   "outputs": [],
   "source": []
  }
 ],
 "metadata": {
  "kernelspec": {
   "display_name": "Python 3",
   "language": "python",
   "name": "python3"
  },
  "language_info": {
   "codemirror_mode": {
    "name": "ipython",
    "version": 3
   },
   "file_extension": ".py",
   "mimetype": "text/x-python",
   "name": "python",
   "nbconvert_exporter": "python",
   "pygments_lexer": "ipython3",
   "version": "3.9.15"
  }
 },
 "nbformat": 4,
 "nbformat_minor": 5
}
