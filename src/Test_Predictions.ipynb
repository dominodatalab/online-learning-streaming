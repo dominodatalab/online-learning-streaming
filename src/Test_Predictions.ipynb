{
 "cells": [
  {
   "cell_type": "code",
   "execution_count": 1,
   "id": "1112046d-b2ea-4210-ac4b-f8a0d994de88",
   "metadata": {},
   "outputs": [],
   "source": [
    "import os"
   ]
  },
  {
   "cell_type": "code",
   "execution_count": 2,
   "id": "1232aade-e8e6-4dd5-977c-b7a77416cee5",
   "metadata": {},
   "outputs": [],
   "source": [
    "os.environ['FEATURE_TOPIC_NAME']='malicious_url_events'\n",
    "os.environ['INFERENCE_GROUP_ID']='test-grp-6'\n",
    "os.environ['PREDICTION_TOPIC_PREFIX']='malicious_url_predictions'\n",
    "os.environ['PREDICTION_TOPIC_SUFFIX']='_8'\n",
    "prediction_topic_prefix = os.environ['PREDICTION_TOPIC_PREFIX']\n",
    "prediction_topic_suffix=os.environ['PREDICTION_TOPIC_SUFFIX']\n",
    "PREDICTION_TOPIC=f'{prediction_topic_prefix}{prediction_topic_suffix}'\n",
    "\n",
    "KAFKA_BOOTSTRAP_SERVERS = os.environ.get('kafka_bootstrap_servers')\n",
    "KAFKA_USER_NAME = os.environ.get('kafka_username')\n",
    "KAFKA_PASSWORD = os.environ.get('kafka_password')"
   ]
  },
  {
   "cell_type": "code",
   "execution_count": 5,
   "id": "60008824-4d94-4ab2-9b73-40e1816713b9",
   "metadata": {},
   "outputs": [
    {
     "name": "stdout",
     "output_type": "stream",
     "text": [
      "about to start\n",
      "Initialized \n",
      "Feature Consumption Thread Started\n",
      "\n",
      "Now subscribing to features topic malicious_url_events\n"
     ]
    }
   ],
   "source": [
    "import src.online_learning_model"
   ]
  },
  {
   "cell_type": "code",
   "execution_count": null,
   "id": "6928430c-dbcc-4a8f-acd3-f9b0462919f5",
   "metadata": {},
   "outputs": [],
   "source": []
  },
  {
   "cell_type": "code",
   "execution_count": null,
   "id": "e85670d5-d841-4f05-8c1c-d2333efe7b5d",
   "metadata": {},
   "outputs": [],
   "source": []
  },
  {
   "cell_type": "code",
   "execution_count": null,
   "id": "1e7d30fe-dafe-4322-80fb-d990482fb518",
   "metadata": {},
   "outputs": [],
   "source": []
  }
 ],
 "metadata": {
  "kernelspec": {
   "display_name": "Python 3",
   "language": "python",
   "name": "python3"
  },
  "language_info": {
   "codemirror_mode": {
    "name": "ipython",
    "version": 3
   },
   "file_extension": ".py",
   "mimetype": "text/x-python",
   "name": "python",
   "nbconvert_exporter": "python",
   "pygments_lexer": "ipython3",
   "version": "3.9.15"
  }
 },
 "nbformat": 4,
 "nbformat_minor": 5
}
