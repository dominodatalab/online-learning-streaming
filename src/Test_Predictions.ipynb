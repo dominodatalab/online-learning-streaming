{
 "cells": [
  {
   "cell_type": "code",
   "execution_count": 1,
   "id": "1112046d-b2ea-4210-ac4b-f8a0d994de88",
   "metadata": {},
   "outputs": [],
   "source": [
    "import os"
   ]
  },
  {
   "cell_type": "code",
   "execution_count": 2,
   "id": "1232aade-e8e6-4dd5-977c-b7a77416cee5",
   "metadata": {},
   "outputs": [],
   "source": [
    "os.environ['FEATURE_TOPIC_NAME']='malicious_url_events'\n",
    "os.environ['INFERENCE_GROUP_ID']='test-grp-6'\n",
    "os.environ['PREDICTION_TOPIC_PREFIX']='malicious_url_predictions'\n",
    "os.environ['PREDICTION_TOPIC_SUFFIX']='_8'\n",
    "prediction_topic_prefix = os.environ['PREDICTION_TOPIC_PREFIX']\n",
    "prediction_topic_suffix=os.environ['PREDICTION_TOPIC_SUFFIX']\n",
    "PREDICTION_TOPIC=f'{prediction_topic_prefix}{prediction_topic_suffix}'\n",
    "\n",
    "KAFKA_BOOTSTRAP_SERVERS = os.environ.get('kafka_bootstrap_servers')\n",
    "KAFKA_USER_NAME = os.environ.get('kafka_username')\n",
    "KAFKA_PASSWORD = os.environ.get('kafka_password')"
   ]
  },
  {
   "cell_type": "code",
   "execution_count": 3,
   "id": "60008824-4d94-4ab2-9b73-40e1816713b9",
   "metadata": {},
   "outputs": [
    {
     "name": "stdout",
     "output_type": "stream",
     "text": [
      "Sleeping for 10 seconds\n",
      "Initialized \n",
      "Initialized \n",
      "Now subscribing to features topic malicious_url_events\n",
      "\n",
      "\n",
      "Now subscribing to features topic malicious_url_events\n",
      "{'f': {'2': 1.0, '4': 0.0580913, '5': 0.0896552, '6': 0.117647, '10': 1.0, '11': 0.142857, '17': 0.786039, '18': 0.823446, '19': 0.158534, '21': 0.142856, '22': 1.65344e-06, '24': 1.0, '25': 1.0, '28': 1.0, '33': 0.0555556, '54': 1.0, '56': 1.0, '62': 1.0, '64': 1.0, '66': 1.0, '68': 1.0, '70': 1.0, '72': 1.0, '74': 1.0, '76': 1.0, '82': 1.0, '84': 1.0, '86': 1.0, '88': 1.0, '90': 1.0, '92': 1.0, '94': 1.0, '96': 1.0, '102': 1.0, '104': 1.0, '106': 1.0, '108': 1.0, '110': 1.0, '112': 1.0, '155': 1.0, '194': 1.65344e-06, '277': 1.0, '701': 1.0, '2655': 1.0, '2656': 1.0, '2657': 1.0, '2658': 1.0, '2659': 1.0, '2660': 1.0, '2661': 1.0, '2662': 1.0, '2663': 1.0, '3766': 1.0, '5739': 1.0, '5741': 1.0, '155153': 1.0, '155154': 1.0, '155155': 1.0, '155156': 1.0, '155157': 1.0, '155158': 1.0, '155159': 1.0, '155160': 1.0, '155162': 1.0, '155163': 1.0, '155164': 1.0, '155166': 1.0, '155168': 1.0, '155169': 1.0, '155170': 1.0, '155172': 1.0, '155173': 1.0, '155174': 1.0, '155175': 1.0, '155176': 1.0, '155177': 1.0, '155178': 1.0, '155179': 1.0, '155180': 1.0, '155181': 1.0, '155182': 1.0, '155183': 1.0, '155194': 1.0, '155195': 1.0, '155196': 1.0, '155197': 1.0, '155198': 1.0, '155199': 1.0, '155200': 1.0, '155201': 1.0, '155202': 1.0, '155203': 1.0, '155204': 1.0, '155205': 1.0, '155206': 1.0, '155207': 1.0, '155208': 1.0, '155209': 1.0, '155210': 1.0, '155211': 1.0, '155212': 1.0, '155213': 1.0, '263369': 1.0, '1382747': 1.0, '2346809': 1.0}, 'y': 'false', 'st': 1679331436.4252279}\n",
      "ignored\n"
     ]
    },
    {
     "ename": "UnboundLocalError",
     "evalue": "local variable 'ignored' referenced before assignment",
     "output_type": "error",
     "traceback": [
      "\u001b[0;31m---------------------------------------------------------------------------\u001b[0m",
      "\u001b[0;31mRuntimeError\u001b[0m                              Traceback (most recent call last)",
      "File \u001b[0;32m/mnt/code/src/online_learning_model.py:116\u001b[0m, in \u001b[0;36mconsume_features\u001b[0;34m(group_id)\u001b[0m\n\u001b[1;32m    115\u001b[0m score \u001b[38;5;241m=\u001b[39m model\u001b[38;5;241m.\u001b[39mpredict_one(data)\n\u001b[0;32m--> 116\u001b[0m model \u001b[38;5;241m=\u001b[39m \u001b[43mmodel\u001b[49m\u001b[38;5;241;43m.\u001b[39;49m\u001b[43mlearn_one\u001b[49m\u001b[43m(\u001b[49m\u001b[43mdata\u001b[49m\u001b[43m,\u001b[49m\u001b[43my\u001b[49m\u001b[43m)\u001b[49m                    \n\u001b[1;32m    117\u001b[0m end \u001b[38;5;241m=\u001b[39m time()\n",
      "File \u001b[0;32m/opt/conda/lib/python3.9/site-packages/river/tree/hoeffding_adaptive_tree_classifier.py:217\u001b[0m, in \u001b[0;36mHoeffdingAdaptiveTreeClassifier.learn_one\u001b[0;34m(self, x, y, sample_weight)\u001b[0m\n\u001b[1;32m    215\u001b[0m     \u001b[38;5;28mself\u001b[39m\u001b[38;5;241m.\u001b[39m_n_active_leaves \u001b[38;5;241m=\u001b[39m \u001b[38;5;241m1\u001b[39m\n\u001b[0;32m--> 217\u001b[0m \u001b[38;5;28;43mself\u001b[39;49m\u001b[38;5;241;43m.\u001b[39;49m\u001b[43m_root\u001b[49m\u001b[38;5;241;43m.\u001b[39;49m\u001b[43mlearn_one\u001b[49m\u001b[43m(\u001b[49m\u001b[43mx\u001b[49m\u001b[43m,\u001b[49m\u001b[43m \u001b[49m\u001b[43my\u001b[49m\u001b[43m,\u001b[49m\u001b[43m \u001b[49m\u001b[43msample_weight\u001b[49m\u001b[38;5;241;43m=\u001b[39;49m\u001b[43msample_weight\u001b[49m\u001b[43m,\u001b[49m\u001b[43m \u001b[49m\u001b[43mtree\u001b[49m\u001b[38;5;241;43m=\u001b[39;49m\u001b[38;5;28;43mself\u001b[39;49m\u001b[43m)\u001b[49m\n\u001b[1;32m    219\u001b[0m \u001b[38;5;28;01mif\u001b[39;00m \u001b[38;5;28mself\u001b[39m\u001b[38;5;241m.\u001b[39m_train_weight_seen_by_model \u001b[38;5;241m%\u001b[39m \u001b[38;5;28mself\u001b[39m\u001b[38;5;241m.\u001b[39mmemory_estimate_period \u001b[38;5;241m==\u001b[39m \u001b[38;5;241m0\u001b[39m:\n",
      "File \u001b[0;32m/opt/conda/lib/python3.9/site-packages/river/tree/nodes/hatc_nodes.py:84\u001b[0m, in \u001b[0;36mAdaLeafClassifier.learn_one\u001b[0;34m(self, x, y, sample_weight, tree, parent, parent_branch)\u001b[0m\n\u001b[1;32m     83\u001b[0m \u001b[38;5;28;01melif\u001b[39;00m \u001b[38;5;28mself\u001b[39m\u001b[38;5;241m.\u001b[39mis_active():\n\u001b[0;32m---> 84\u001b[0m     \u001b[43mtree\u001b[49m\u001b[38;5;241;43m.\u001b[39;49m\u001b[43m_attempt_to_split\u001b[49m\u001b[43m(\u001b[49m\n\u001b[1;32m     85\u001b[0m \u001b[43m        \u001b[49m\u001b[38;5;28;43mself\u001b[39;49m\u001b[43m,\u001b[49m\n\u001b[1;32m     86\u001b[0m \u001b[43m        \u001b[49m\u001b[43mparent\u001b[49m\u001b[43m,\u001b[49m\n\u001b[1;32m     87\u001b[0m \u001b[43m        \u001b[49m\u001b[43mparent_branch\u001b[49m\u001b[43m,\u001b[49m\n\u001b[1;32m     88\u001b[0m \u001b[43m        \u001b[49m\u001b[43mdrift_detector\u001b[49m\u001b[38;5;241;43m=\u001b[39;49m\u001b[43mtree\u001b[49m\u001b[38;5;241;43m.\u001b[39;49m\u001b[43mdrift_detector\u001b[49m\u001b[38;5;241;43m.\u001b[39;49m\u001b[43mclone\u001b[49m\u001b[43m(\u001b[49m\u001b[43m)\u001b[49m\u001b[43m,\u001b[49m\n\u001b[1;32m     89\u001b[0m \u001b[43m    \u001b[49m\u001b[43m)\u001b[49m\n\u001b[1;32m     90\u001b[0m     \u001b[38;5;28mself\u001b[39m\u001b[38;5;241m.\u001b[39mlast_split_attempt_at \u001b[38;5;241m=\u001b[39m weight_seen\n",
      "File \u001b[0;32m/opt/conda/lib/python3.9/site-packages/river/tree/hoeffding_tree_classifier.py:247\u001b[0m, in \u001b[0;36mHoeffdingTreeClassifier._attempt_to_split\u001b[0;34m(self, leaf, parent, parent_branch, **kwargs)\u001b[0m\n\u001b[1;32m    245\u001b[0m split_criterion \u001b[38;5;241m=\u001b[39m \u001b[38;5;28mself\u001b[39m\u001b[38;5;241m.\u001b[39m_new_split_criterion()\n\u001b[0;32m--> 247\u001b[0m best_split_suggestions \u001b[38;5;241m=\u001b[39m \u001b[43mleaf\u001b[49m\u001b[38;5;241;43m.\u001b[39;49m\u001b[43mbest_split_suggestions\u001b[49m\u001b[43m(\u001b[49m\u001b[43msplit_criterion\u001b[49m\u001b[43m,\u001b[49m\u001b[43m \u001b[49m\u001b[38;5;28;43mself\u001b[39;49m\u001b[43m)\u001b[49m\n\u001b[1;32m    248\u001b[0m best_split_suggestions\u001b[38;5;241m.\u001b[39msort()\n",
      "File \u001b[0;32m/opt/conda/lib/python3.9/site-packages/river/tree/nodes/leaf.py:129\u001b[0m, in \u001b[0;36mHTLeaf.best_split_suggestions\u001b[0;34m(self, criterion, tree)\u001b[0m\n\u001b[1;32m    128\u001b[0m     best_suggestions\u001b[38;5;241m.\u001b[39mappend(null_split)\n\u001b[0;32m--> 129\u001b[0m \u001b[38;5;28;01mfor\u001b[39;00m att_id, splitter \u001b[38;5;129;01min\u001b[39;00m \u001b[38;5;28mself\u001b[39m\u001b[38;5;241m.\u001b[39msplitters\u001b[38;5;241m.\u001b[39mitems():\n\u001b[1;32m    130\u001b[0m     best_suggestion \u001b[38;5;241m=\u001b[39m splitter\u001b[38;5;241m.\u001b[39mbest_evaluated_split_suggestion(\n\u001b[1;32m    131\u001b[0m         criterion, pre_split_dist, att_id, tree\u001b[38;5;241m.\u001b[39mbinary_split\n\u001b[1;32m    132\u001b[0m     )\n",
      "\u001b[0;31mRuntimeError\u001b[0m: dictionary changed size during iteration",
      "\nDuring handling of the above exception, another exception occurred:\n",
      "\u001b[0;31mUnboundLocalError\u001b[0m                         Traceback (most recent call last)",
      "Cell \u001b[0;32mIn [3], line 1\u001b[0m\n\u001b[0;32m----> 1\u001b[0m \u001b[38;5;28;01mimport\u001b[39;00m \u001b[38;5;21;01msrc\u001b[39;00m\u001b[38;5;21;01m.\u001b[39;00m\u001b[38;5;21;01monline_learning_model\u001b[39;00m\n",
      "File \u001b[0;32m/mnt/code/src/online_learning_model.py:156\u001b[0m\n\u001b[1;32m    151\u001b[0m     \u001b[38;5;66;03m#consume_features(inference_group_id)\u001b[39;00m\n\u001b[1;32m    153\u001b[0m \u001b[38;5;28mprint\u001b[39m(\u001b[38;5;124m'\u001b[39m\u001b[38;5;124mSleeping for 10 seconds\u001b[39m\u001b[38;5;124m'\u001b[39m)\n\u001b[0;32m--> 156\u001b[0m \u001b[43minit\u001b[49m\u001b[43m(\u001b[49m\u001b[43m)\u001b[49m\n\u001b[1;32m    157\u001b[0m \u001b[38;5;28mprint\u001b[39m(\u001b[38;5;124m'\u001b[39m\u001b[38;5;124mstarted\u001b[39m\u001b[38;5;124m'\u001b[39m)\n",
      "File \u001b[0;32m/mnt/code/src/online_learning_model.py:149\u001b[0m, in \u001b[0;36minit\u001b[0;34m()\u001b[0m\n\u001b[1;32m    147\u001b[0m cf \u001b[38;5;241m=\u001b[39m threading\u001b[38;5;241m.\u001b[39mThread(target\u001b[38;5;241m=\u001b[39mconsume_features, args\u001b[38;5;241m=\u001b[39m(inference_group_id,))\n\u001b[1;32m    148\u001b[0m cf\u001b[38;5;241m.\u001b[39mstart()\n\u001b[0;32m--> 149\u001b[0m \u001b[43mconsume_features\u001b[49m\u001b[43m(\u001b[49m\u001b[43minference_group_id\u001b[49m\u001b[43m)\u001b[49m\n\u001b[1;32m    150\u001b[0m \u001b[38;5;28mprint\u001b[39m(\u001b[38;5;124m'\u001b[39m\u001b[38;5;124mFeature Consumption Thread Started\u001b[39m\u001b[38;5;124m'\u001b[39m)\n",
      "File \u001b[0;32m/mnt/code/src/online_learning_model.py:133\u001b[0m, in \u001b[0;36mconsume_features\u001b[0;34m(group_id)\u001b[0m\n\u001b[1;32m    131\u001b[0m         \u001b[38;5;28;01mexcept\u001b[39;00m:\n\u001b[1;32m    132\u001b[0m             \u001b[38;5;28mprint\u001b[39m(\u001b[38;5;124m'\u001b[39m\u001b[38;5;124mignored\u001b[39m\u001b[38;5;124m'\u001b[39m)\n\u001b[0;32m--> 133\u001b[0m             ignored \u001b[38;5;241m=\u001b[39m \u001b[43mignored\u001b[49m \u001b[38;5;241m+\u001b[39m \u001b[38;5;241m1\u001b[39m\n\u001b[1;32m    134\u001b[0m \u001b[38;5;28mprint\u001b[39m(\u001b[38;5;124m'\u001b[39m\u001b[38;5;124mCLOSING\u001b[39m\u001b[38;5;124m'\u001b[39m)\n\u001b[1;32m    135\u001b[0m consumer\u001b[38;5;241m.\u001b[39mclose()\n",
      "\u001b[0;31mUnboundLocalError\u001b[0m: local variable 'ignored' referenced before assignment"
     ]
    }
   ],
   "source": [
    "import src.online_learning_model"
   ]
  },
  {
   "cell_type": "code",
   "execution_count": null,
   "id": "6928430c-dbcc-4a8f-acd3-f9b0462919f5",
   "metadata": {},
   "outputs": [],
   "source": []
  },
  {
   "cell_type": "code",
   "execution_count": null,
   "id": "e85670d5-d841-4f05-8c1c-d2333efe7b5d",
   "metadata": {},
   "outputs": [],
   "source": []
  },
  {
   "cell_type": "code",
   "execution_count": null,
   "id": "1e7d30fe-dafe-4322-80fb-d990482fb518",
   "metadata": {},
   "outputs": [],
   "source": []
  }
 ],
 "metadata": {
  "kernelspec": {
   "display_name": "Python 3",
   "language": "python",
   "name": "python3"
  },
  "language_info": {
   "codemirror_mode": {
    "name": "ipython",
    "version": 3
   },
   "file_extension": ".py",
   "mimetype": "text/x-python",
   "name": "python",
   "nbconvert_exporter": "python",
   "pygments_lexer": "ipython3",
   "version": "3.9.15"
  }
 },
 "nbformat": 4,
 "nbformat_minor": 5
}
