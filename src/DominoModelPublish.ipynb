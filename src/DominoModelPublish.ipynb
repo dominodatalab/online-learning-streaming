{
 "cells": [
  {
   "cell_type": "markdown",
   "metadata": {},
   "source": [
    "## Publish a Domino Model Endpoint\n",
    "\n",
    "Prepare for Model Deployment. You can deploy the file `kafka_model.py`. Deploying the model requires the following:-\n",
    "1. Environment Id - You can get a list of environments by invoking `list_envs` function below\n",
    "2. Python file (`kafka_model.py` in our case)\n",
    "3. Function in the Python file  (`predict` in out case)\n",
    "4. Any additional environment variables the model needs to configure itself. We pass the following:\n",
    "   - KAFKA_BOOTSTRAP_SERVERS = 'KAFKA_BOOTSTRAP_SERVERS'\n",
    "   - KAFKA_USER_NAME = 'KAFKA_USERNAME'\n",
    "   - KAFKA_PASSWORD = 'KAFKA_PASSWORD'\n",
    "   - FEATURE_TOPIC = 'FEATURE_TOPIC' \n",
    "   - INFERENCE_GROUP_ID = 'INFERENCE_GROUP_ID' (A model can have many instances to serve, each of them should use the same Consumer Group Id to ensure a Kafka message is usually processed only once)\n",
    "   - PREDICTION_TOPIC = Topic where predictions are written\n",
    "\n",
    "\n"
   ]
  },
  {
   "cell_type": "code",
   "execution_count": 1,
   "metadata": {
    "tags": []
   },
   "outputs": [],
   "source": [
    "from domino import Domino\n",
    "import os\n",
    "import time\n",
    "api_host = os.getenv(\"DOMINO_API_HOST\")\n",
    "project_id=os.environ['DOMINO_PROJECT_ID']\n",
    "dm_api = Domino(\n",
    "        \"{}/{}\".format(\n",
    "            os.getenv(\"DOMINO_PROJECT_OWNER\"), os.getenv(\"DOMINO_PROJECT_NAME\")\n",
    "        )\n",
    "    )\n",
    "\n",
    "def list_envs():\n",
    "    all_available_environments = dm_api.environments_list()\n",
    "    global_environments = list(\n",
    "        filter(\n",
    "            lambda x: x.get(\"visibility\") == \"Global\",\n",
    "            all_available_environments[\"data\"],\n",
    "        )\n",
    "    )\n",
    "    return all_available_environments[\"data\"]\n",
    "\n",
    "# nv_pairs is a dictionary of name/value pairs, {'name': 'value'}\n",
    "def add_env_vars(model_id, nv_pairs):\n",
    "    vars_array = [{\"name\": name, \"value\": value} for (name, value) in nv_pairs.items()]\n",
    "    request = {\"vars\": vars_array}\n",
    "    api_host = os.getenv(\"DOMINO_API_HOST\")\n",
    "    resp = dm_api.request_manager.post(\n",
    "        f\"{api_host}/models/{model_id}/environmentVariables/add\", json=request\n",
    "    )\n"
   ]
  },
  {
   "cell_type": "markdown",
   "metadata": {},
   "source": [
    "Get a list of all environments\n",
    "\n",
    "```\n",
    "[{'id': '63fa71e8e05a501c43a61ac6', 'name': 'KAFKA', 'visibility': 'Private'},\n",
    " {'id': '63f7c9e768e90a0b79d68d16',\n",
    "  'name': '5.5 Snowflake Model Export Environment (Domino Internal)',\n",
    "  'visibility': 'Global'},\n",
    " {'id': '63f7c9e768e90a0b79d68d13',\n",
    "  'name': '5.5 Spark Compute Environment',\n",
    "  'visibility': 'Global'},\n",
    " {'id': '63f7c9e768e90a0b79d68d12',\n",
    "  'name': '5.5 Spark Cluster Environment',\n",
    "  'visibility': 'Global'},\n",
    " {'id': '63f7c9e768e90a0b79d68d11',\n",
    "  'name': 'Domino Standard Environment Py3.9 R4.2',\n",
    "  'visibility': 'Global'}]\n",
    "```"
   ]
  },
  {
   "cell_type": "code",
   "execution_count": 2,
   "metadata": {
    "tags": []
   },
   "outputs": [
    {
     "data": {
      "text/plain": [
       "[{'id': '64231086f4ae3e505ae9f76e',\n",
       "  'name': 'online-learning',\n",
       "  'visibility': 'Private'},\n",
       " {'id': '64230b0df9b0ca482d83a6fd',\n",
       "  'name': '5.5 Snowflake Model Export Environment (Domino Internal)',\n",
       "  'visibility': 'Global'},\n",
       " {'id': '64230b0df9b0ca482d83a6fa',\n",
       "  'name': '5.5 Spark Compute Environment',\n",
       "  'visibility': 'Global'},\n",
       " {'id': '64230b0df9b0ca482d83a6f9',\n",
       "  'name': '5.5 Spark Cluster Environment',\n",
       "  'visibility': 'Global'},\n",
       " {'id': '64230b0df9b0ca482d83a6f8',\n",
       "  'name': 'Domino Standard Environment Py3.9 R4.2',\n",
       "  'visibility': 'Global'}]"
      ]
     },
     "execution_count": 2,
     "metadata": {},
     "output_type": "execute_result"
    }
   ],
   "source": [
    "list_envs()"
   ]
  },
  {
   "cell_type": "code",
   "execution_count": 3,
   "metadata": {
    "tags": []
   },
   "outputs": [
    {
     "ename": "KeyError",
     "evalue": "'kafka_bootstrap_servers'",
     "output_type": "error",
     "traceback": [
      "\u001b[0;31m---------------------------------------------------------------------------\u001b[0m",
      "\u001b[0;31mKeyError\u001b[0m                                  Traceback (most recent call last)",
      "Cell \u001b[0;32mIn[3], line 19\u001b[0m\n\u001b[1;32m     16\u001b[0m \u001b[38;5;66;03m#model_name= os.environ['DOMINO_PROJECT_NAME'] \u001b[39;00m\n\u001b[1;32m     17\u001b[0m model_name\u001b[38;5;241m=\u001b[39m \u001b[38;5;124m'\u001b[39m\u001b[38;5;124micde23\u001b[39m\u001b[38;5;124m'\u001b[39m\n\u001b[1;32m     18\u001b[0m env_variables \u001b[38;5;241m=\u001b[39m {\n\u001b[0;32m---> 19\u001b[0m                  KAFKA_BOOTSTRAP_SERVERS:\u001b[43mos\u001b[49m\u001b[38;5;241;43m.\u001b[39;49m\u001b[43menviron\u001b[49m\u001b[43m[\u001b[49m\u001b[43mKAFKA_BOOTSTRAP_SERVERS\u001b[49m\u001b[43m]\u001b[49m,\n\u001b[1;32m     20\u001b[0m                  KAFKA_USERNAME:os\u001b[38;5;241m.\u001b[39menviron[KAFKA_USERNAME],\n\u001b[1;32m     21\u001b[0m                  KAFKA_PASSWORD:os\u001b[38;5;241m.\u001b[39menviron[KAFKA_PASSWORD],\n\u001b[1;32m     22\u001b[0m                  FEATURE_TOPIC: \u001b[38;5;124m'\u001b[39m\u001b[38;5;124mfeatures\u001b[39m\u001b[38;5;124m'\u001b[39m,\n\u001b[1;32m     23\u001b[0m                  INFERENCE_GROUP_ID: \u001b[38;5;124mf\u001b[39m\u001b[38;5;124m'\u001b[39m\u001b[38;5;132;01m{\u001b[39;00mmodel_name\u001b[38;5;132;01m}\u001b[39;00m\u001b[38;5;124m-03-27-10PM\u001b[39m\u001b[38;5;124m'\u001b[39m,\n\u001b[1;32m     24\u001b[0m                  PREDICTION_TOPIC: \u001b[38;5;124m'\u001b[39m\u001b[38;5;124mpredictions\u001b[39m\u001b[38;5;124m'\u001b[39m,\n\u001b[1;32m     25\u001b[0m                  MODEL_UPDATE_TOPIC: \u001b[38;5;124m'\u001b[39m\u001b[38;5;124mmodel_updates\u001b[39m\u001b[38;5;124m'\u001b[39m\n\u001b[1;32m     26\u001b[0m                 }\n",
      "File \u001b[0;32m/opt/conda/lib/python3.9/os.py:679\u001b[0m, in \u001b[0;36m_Environ.__getitem__\u001b[0;34m(self, key)\u001b[0m\n\u001b[1;32m    676\u001b[0m     value \u001b[38;5;241m=\u001b[39m \u001b[38;5;28mself\u001b[39m\u001b[38;5;241m.\u001b[39m_data[\u001b[38;5;28mself\u001b[39m\u001b[38;5;241m.\u001b[39mencodekey(key)]\n\u001b[1;32m    677\u001b[0m \u001b[38;5;28;01mexcept\u001b[39;00m \u001b[38;5;167;01mKeyError\u001b[39;00m:\n\u001b[1;32m    678\u001b[0m     \u001b[38;5;66;03m# raise KeyError with the original key value\u001b[39;00m\n\u001b[0;32m--> 679\u001b[0m     \u001b[38;5;28;01mraise\u001b[39;00m \u001b[38;5;167;01mKeyError\u001b[39;00m(key) \u001b[38;5;28;01mfrom\u001b[39;00m \u001b[38;5;28mNone\u001b[39m\n\u001b[1;32m    680\u001b[0m \u001b[38;5;28;01mreturn\u001b[39;00m \u001b[38;5;28mself\u001b[39m\u001b[38;5;241m.\u001b[39mdecodevalue(value)\n",
      "\u001b[0;31mKeyError\u001b[0m: 'kafka_bootstrap_servers'"
     ]
    }
   ],
   "source": [
    "\n",
    "import os\n",
    "env_id='64231086f4ae3e505ae9f76e'\n",
    "\n",
    "model_file='src/model.py'\n",
    "model_function='predict'\n",
    "\n",
    "\n",
    "KAFKA_BOOTSTRAP_SERVERS = 'KAFKA_BOOTSTRAP_SERVERS'\n",
    "KAFKA_USERNAME = 'KAFKA_USERNAME'\n",
    "KAFKA_PASSWORD = 'KAFKA_USERNAME'\n",
    "FEATURE_TOPIC = 'FEATURE_TOPIC'\n",
    "INFERENCE_GROUP_ID = 'INFERENCE_GROUP_ID'\n",
    "PREDICTION_TOPIC='PREDICTION_TOPIC'\n",
    "PREDICTION_TOPIC='PREDICTION_TOPIC'\n",
    "MODEL_UPDATE_TOPIC='MODEL_UPDATE_TOPIC'\n",
    "#model_name= os.environ['DOMINO_PROJECT_NAME'] \n",
    "model_name= 'icde23'\n",
    "env_variables = {\n",
    "                 KAFKA_BOOTSTRAP_SERVERS:os.environ[KAFKA_BOOTSTRAP_SERVERS],\n",
    "                 KAFKA_USERNAME:os.environ[KAFKA_USERNAME],\n",
    "                 KAFKA_PASSWORD:os.environ[KAFKA_PASSWORD],\n",
    "                 FEATURE_TOPIC: 'features',\n",
    "                 INFERENCE_GROUP_ID: f'{model_name}-03-27-10PM',\n",
    "                 PREDICTION_TOPIC: 'predictions',\n",
    "                 MODEL_UPDATE_TOPIC: 'model_updates'\n",
    "                }\n",
    " "
   ]
  },
  {
   "cell_type": "markdown",
   "metadata": {},
   "source": [
    "## Publish Model"
   ]
  },
  {
   "cell_type": "code",
   "execution_count": 15,
   "metadata": {
    "tags": []
   },
   "outputs": [
    {
     "name": "stdout",
     "output_type": "stream",
     "text": [
      "Published Model6421f5023cd3e2523924ac6d\n",
      "Now add env variables\n",
      "Stopped\n",
      "Sleeping for 30 seconds\n",
      "{'modelId': {'value': '6421f5023cd3e2523924ac6d'}, 'modelVersionId': {'value': '6421f5023cd3e2523924ac6f'}, 'status': 'Ready to run', 'operations': [{'startTime': 1679947010161, 'lastUpdated': 1679947010890, 'sagaDescription': 'Deploy model version', 'shortStateDescription': 'Building', 'longStateDescription': 'Image Building', 'isFailure': False}], 'lastOperation': {'startTime': 1679947010161, 'lastUpdated': 1679947010890, 'sagaDescription': 'Deploy model version', 'shortStateDescription': 'Building', 'longStateDescription': 'Image Building', 'isFailure': False}, 'isPending': True}\n",
      "Sleeping for 30 seconds\n",
      "{'modelId': {'value': '6421f5023cd3e2523924ac6d'}, 'modelVersionId': {'value': '6421f5023cd3e2523924ac6f'}, 'status': 'Running', 'operations': [{'startTime': 1679947010161, 'endTime': 1679947052673, 'lastUpdated': 1679947052673, 'sagaDescription': 'Deploy model version', 'shortStateDescription': 'Build completed', 'longStateDescription': 'Image build completed', 'isFailure': False}, {'startTime': 1679947052679, 'endTime': 1679947057868, 'lastUpdated': 1679947057868, 'sagaDescription': 'Starting model version', 'shortStateDescription': 'Deployed', 'longStateDescription': 'Deploy succeeded', 'isFailure': False}], 'isPending': False}\n",
      "Running\n"
     ]
    }
   ],
   "source": [
    "published_model = dm_api.model_publish(\n",
    "        file=model_file,\n",
    "        function=model_function,\n",
    "        environment_id=env_id,\n",
    "        name=f'{model_name}-v5',\n",
    "        description=\"Autopublish of MLFLOW model {}\".format(model_name),\n",
    "    )\n",
    "published_model_id = published_model.get(\"data\", {}).get(\"_id\")\n",
    "print(f'Published Model{published_model_id}')\n",
    "print('Now add env variables')\n",
    "\n",
    "add_env_vars(published_model_id,env_variables)\n",
    "resp = dm_api.request_manager.get(f'{api_host}/models/{published_model_id}/activeStatus',json={})\n",
    "\n",
    "status = ''\n",
    "if resp.status_code==200:\n",
    "    status = resp.json()['status']\n",
    "print(status)\n",
    "resp = dm_api.request_manager.get(\n",
    "        f\"{api_host}/models/{published_model_id}/activeStatus\", json={}\n",
    "    )\n",
    "while resp.json()['isPending']:\n",
    "    print('Sleeping for 30 seconds')\n",
    "    time.sleep(30)\n",
    "    \n",
    "    resp = dm_api.request_manager.get(\n",
    "        f\"{api_host}/models/{published_model_id}/activeStatus\", json={}\n",
    "    )\n",
    "    print(resp.json())\n",
    "status = resp.json()['status']\n",
    "print(status)"
   ]
  },
  {
   "cell_type": "code",
   "execution_count": null,
   "metadata": {},
   "outputs": [],
   "source": []
  }
 ],
 "metadata": {
  "kernelspec": {
   "display_name": "Python 3 (ipykernel)",
   "language": "python",
   "name": "python3"
  },
  "language_info": {
   "codemirror_mode": {
    "name": "ipython",
    "version": 3
   },
   "file_extension": ".py",
   "mimetype": "text/x-python",
   "name": "python",
   "nbconvert_exporter": "python",
   "pygments_lexer": "ipython3",
   "version": "3.9.16"
  }
 },
 "nbformat": 4,
 "nbformat_minor": 4
}
