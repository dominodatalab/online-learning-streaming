{
 "cells": [
  {
   "cell_type": "code",
   "execution_count": 1,
   "id": "5a4b5f12-4808-4846-b573-21490fe9e36a",
   "metadata": {},
   "outputs": [],
   "source": [
    "import os\n",
    "os.environ['FEATURE_TOPIC']='features'\n",
    "os.environ['INFERENCE_GROUP_ID']='model_test'\n",
    "os.environ['PREDICTION_TOPIC']='predictions'\n"
   ]
  },
  {
   "cell_type": "code",
   "execution_count": 2,
   "id": "2e38a0b2-13d7-4ee0-b56c-537e5ea77851",
   "metadata": {},
   "outputs": [
    {
     "name": "stdout",
     "output_type": "stream",
     "text": [
      "Sleeping for 1 seconds\n",
      "Initialized started\n",
      "\n",
      "\n",
      "Now subscribing to features topic:features\n",
      "Processed 1000\n",
      "Processed 2000\n",
      "Processed 3000\n",
      "Processed 4000\n",
      "Processed 5000\n"
     ]
    }
   ],
   "source": [
    "import model"
   ]
  },
  {
   "cell_type": "code",
   "execution_count": null,
   "id": "9c44ba51-f375-4d36-a8ca-19cc4e883778",
   "metadata": {},
   "outputs": [],
   "source": []
  }
 ],
 "metadata": {
  "kernelspec": {
   "display_name": "Python 3",
   "language": "python",
   "name": "python3"
  },
  "language_info": {
   "codemirror_mode": {
    "name": "ipython",
    "version": 3
   },
   "file_extension": ".py",
   "mimetype": "text/x-python",
   "name": "python",
   "nbconvert_exporter": "python",
   "pygments_lexer": "ipython3",
   "version": "3.9.15"
  }
 },
 "nbformat": 4,
 "nbformat_minor": 5
}
