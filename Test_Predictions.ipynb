{
 "cells": [
  {
   "cell_type": "code",
   "execution_count": 1,
   "id": "1112046d-b2ea-4210-ac4b-f8a0d994de88",
   "metadata": {},
   "outputs": [],
   "source": [
    "import os"
   ]
  },
  {
   "cell_type": "code",
   "execution_count": 2,
   "id": "1232aade-e8e6-4dd5-977c-b7a77416cee5",
   "metadata": {},
   "outputs": [],
   "source": [
    "os.environ['FEATURE_TOPIC_NAME']='malicious_url_events'\n",
    "os.environ['INFERENCE_GROUP_ID']='test-grp-5'\n",
    "os.environ['PREDICTION_TOPIC_PREFIX']='malicious_url_predictions'\n",
    "os.environ['PREDICTION_TOPIC_SUFFIX']='_8'\n",
    "prediction_topic_prefix = os.environ['PREDICTION_TOPIC_PREFIX']\n",
    "prediction_topic_suffix=os.environ['PREDICTION_TOPIC_SUFFIX']\n",
    "PREDICTION_TOPIC=f'{prediction_topic_prefix}{prediction_topic_suffix}'\n",
    "\n",
    "KAFKA_BOOTSTRAP_SERVERS = os.environ.get('kafka_bootstrap_servers')\n",
    "KAFKA_USER_NAME = os.environ.get('kafka_username')\n",
    "KAFKA_PASSWORD = os.environ.get('kafka_password')"
   ]
  },
  {
   "cell_type": "code",
   "execution_count": 3,
   "id": "60008824-4d94-4ab2-9b73-40e1816713b9",
   "metadata": {},
   "outputs": [
    {
     "name": "stdout",
     "output_type": "stream",
     "text": [
      "Initialized\n",
      "Feature Consumption Thread Started\n",
      "\n",
      "Now subscribing to features topic malicious_url_events\n",
      "{'f': {'2': 1.0, '4': 0.0788382, '5': 0.131034, '6': 0.117647, '10': 1.0, '11': 0.142857, '16': 0.4, '17': 0.830283, '18': 0.83965, '19': 0.583194, '20': 1.0, '21': 0.285713, '22': 0.00595238, '23': 0.00595238, '36': 1.0, '37': 1.0, '44': 1.0, '45': 1.0, '54': 1.0, '56': 1.0, '62': 1.0, '64': 1.0, '66': 1.0, '68': 1.0, '70': 1.0, '72': 1.0, '74': 1.0, '75': 0.25, '76': 1.0, '77': 0.166667, '79': 0.0769231, '81': 0.05, '82': 1.0, '84': 1.0, '86': 1.0, '88': 1.0, '90': 1.0, '92': 1.0, '94': 1.0, '96': 1.0, '102': 1.0, '104': 1.0, '106': 1.0, '108': 1.0, '110': 1.0, '112': 1.0, '131': 1.0, '133': 1.0, '139': 1.0, '141': 1.0, '143': 1.0, '145': 1.0, '147': 1.0, '149': 1.0, '253': 1.0, '260': 1.0, '277': 1.0, '304': 1.0, '305': 1.0, '425': 1.0, '521': 1.0, '673': 1.0, '674': 1.0, '675': 1.0, '676': 1.0, '731': 1.0, '732': 1.0, '733': 1.0, '1365': 1.0, '1488': 1.0, '2098': 1.0, '6027': 1.0, '6028': 1.0, '6029': 1.0, '6030': 1.0, '6031': 1.0, '9989': 1.0, '18073': 1.0, '18074': 1.0, '18077': 1.0, '18078': 1.0, '18079': 1.0, '18080': 1.0, '155153': 1.0, '155154': 1.0, '155155': 1.0, '155156': 1.0, '155157': 1.0, '155158': 1.0, '155159': 1.0, '155160': 1.0, '155161': 1.0, '155163': 1.0, '155164': 1.0, '155165': 1.0, '155166': 1.0, '155167': 1.0, '155168': 1.0, '155169': 1.0, '155170': 1.0, '155171': 1.0, '155172': 1.0, '155173': 1.0, '155174': 1.0, '155175': 1.0, '155176': 1.0, '155177': 1.0, '155178': 1.0, '155179': 1.0, '155180': 1.0, '155181': 1.0, '155182': 1.0, '155183': 1.0, '155184': 1.0, '155185': 1.0, '155186': 1.0, '155187': 1.0, '155188': 1.0, '155189': 1.0, '155190': 1.0, '155191': 1.0, '155192': 1.0, '155193': 1.0, '155194': 1.0, '155195': 1.0, '155196': 1.0, '155197': 1.0, '155198': 1.0, '155199': 1.0, '155200': 1.0, '155201': 1.0, '155202': 1.0, '155203': 1.0, '155204': 1.0, '155205': 1.0, '155206': 1.0, '155207': 1.0, '155208': 1.0, '155209': 1.0, '155210': 1.0, '155211': 1.0, '155212': 1.0, '155213': 1.0, '500481': 1.0}, 'y': 'true', 'st': 1679323695.8423874}\n"
     ]
    }
   ],
   "source": [
    "import online_learning_model"
   ]
  },
  {
   "cell_type": "code",
   "execution_count": null,
   "id": "6928430c-dbcc-4a8f-acd3-f9b0462919f5",
   "metadata": {},
   "outputs": [],
   "source": []
  },
  {
   "cell_type": "code",
   "execution_count": null,
   "id": "e85670d5-d841-4f05-8c1c-d2333efe7b5d",
   "metadata": {},
   "outputs": [],
   "source": []
  },
  {
   "cell_type": "code",
   "execution_count": null,
   "id": "1e7d30fe-dafe-4322-80fb-d990482fb518",
   "metadata": {},
   "outputs": [],
   "source": []
  }
 ],
 "metadata": {
  "kernelspec": {
   "display_name": "Python 3",
   "language": "python",
   "name": "python3"
  },
  "language_info": {
   "codemirror_mode": {
    "name": "ipython",
    "version": 3
   },
   "file_extension": ".py",
   "mimetype": "text/x-python",
   "name": "python",
   "nbconvert_exporter": "python",
   "pygments_lexer": "ipython3",
   "version": "3.9.15"
  }
 },
 "nbformat": 4,
 "nbformat_minor": 5
}
