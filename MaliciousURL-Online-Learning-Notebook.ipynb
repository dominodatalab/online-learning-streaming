{
 "cells": [
  {
   "cell_type": "code",
   "execution_count": null,
   "id": "05363ff8-ee11-44e4-9547-93e575345e9e",
   "metadata": {},
   "outputs": [],
   "source": [
    "import os\n",
    "from river import datasets\n",
    "from confluent_kafka import Producer,Consumer\n",
    "import certifi\n",
    "import time\n",
    "import json"
   ]
  },
  {
   "cell_type": "code",
   "execution_count": null,
   "id": "9c06d881-59ee-432a-a205-72d7f4c064e8",
   "metadata": {},
   "outputs": [],
   "source": [
    "user= os.environ['kafka_username']\n",
    "password= os.environ['kafka_password']\n",
    "bsts= os.environ['kafka_bootstrap_servers']"
   ]
  },
  {
   "cell_type": "code",
   "execution_count": null,
   "id": "93333d02-5133-43a6-8ef2-17d25f3f0b69",
   "metadata": {},
   "outputs": [],
   "source": [
    "topic = 'malicious_url_events'"
   ]
  },
  {
   "cell_type": "code",
   "execution_count": null,
   "id": "e4acf09b-509e-4e4c-a348-715e464e3857",
   "metadata": {},
   "outputs": [],
   "source": [
    "conf = {'bootstrap.servers': bsts,\n",
    "            'sasl.mechanism': 'PLAIN',\n",
    "            'security.protocol': 'SASL_SSL',\n",
    "            'ssl.ca.location': certifi.where(),\n",
    "            'sasl.username': user,\n",
    "            'sasl.password': password,\n",
    "            'batch.num.messages': 2048,\n",
    "            #'queue.buffering.max.messages': 100,\n",
    "            'linger.ms': 100,\n",
    "            'client.id': 'producer-icde-2023'}\n",
    "producer = Producer(conf)    "
   ]
  },
  {
   "cell_type": "code",
   "execution_count": null,
   "id": "6781f351-b857-48e0-9bbb-9b222625d4f9",
   "metadata": {},
   "outputs": [],
   "source": [
    "max_size=1000000\n",
    "dataset = datasets.MaliciousURL()\n",
    "data = dataset.take(max_size)\n"
   ]
  },
  {
   "cell_type": "code",
   "execution_count": null,
   "id": "1be05c23-1ffc-4b27-b9ad-1be5078d7e4b",
   "metadata": {},
   "outputs": [],
   "source": [
    "cnt = 0\n",
    "st = time.time()\n",
    "abs_st = time.time()\n",
    "for f, y in data:\n",
    "    cnt = cnt + 1    \n",
    "    d = {}\n",
    "    d['f']=f\n",
    "    d['y']=str(y).lower()\n",
    "    d['st']=time.time()  \n",
    "            \n",
    "    v= json.dumps(d).encode('utf-8')\n",
    "    try:\n",
    "        producer.produce(topic, value=v, key=str(cnt))\n",
    "    except:\n",
    "      print(f'Queue full, flushing {cnt}')\n",
    "      producer.flush()\n",
    "      producer.produce(topic, value=v, key=str(cnt))\n",
    "    if cnt%10000==0:           \n",
    "        end = time.time()\n",
    "        print(f'flushing count - {cnt}, time taken in seconds- {end-st} ')        \n",
    "        producer.flush()\n",
    "        st = time.time()        \n",
    "producer.flush()\n",
    "end = time.time()\n",
    "print(f'final flushing count - {cnt}, time taken in seconds- {end-abs_st} ')        "
   ]
  },
  {
   "cell_type": "code",
   "execution_count": null,
   "id": "640586a5-a806-4266-be34-479bd254c49a",
   "metadata": {},
   "outputs": [],
   "source": []
  },
  {
   "cell_type": "code",
   "execution_count": null,
   "id": "cce7366f-5d4c-48c4-a0fd-e8358da9cb78",
   "metadata": {},
   "outputs": [],
   "source": [
    "from river import metrics\n",
    "auc = metrics.ROCAUC()\n",
    "f1 = metrics.F1()\n",
    "recall = metrics.MicroRecall()\n",
    "features_consumer_conf = {'bootstrap.servers': KAFKA_BOOTSTRAP_SERVERS,\n",
    "                     'sasl.username': KAFKA_USER_NAME,\n",
    "                     'sasl.password': KAFKA_PASSWORD,\n",
    "                     'sasl.mechanism': 'PLAIN',\n",
    "                     'security.protocol': 'SASL_SSL',\n",
    "                     'ssl.ca.location': certifi.where(),\n",
    "                     'group.id': 'prediction-grp',\n",
    "                     'enable.auto.commit': True,\n",
    "                     'auto.offset.reset': 'latest'}\n",
    "features_consumer = Consumer(features_consumer_conf)    \n"
   ]
  },
  {
   "cell_type": "code",
   "execution_count": null,
   "id": "6444fa65-9fe2-4c14-9134-0974a3c3e1be",
   "metadata": {},
   "outputs": [],
   "source": [
    "import statistics\n",
    "durs = []\n",
    "mem_usage = []\n",
    "cnt = 0\n",
    "while(cnt<1000000):\n",
    "    msg = consumer.poll(timeout=0.1)\n",
    "    if msg is None: continue\n",
    "    if msg.error():\n",
    "        if msg.error().code() == KafkaError._PARTITION_EOF:\n",
    "                sys.stderr.write('%% %s [%d] reached end at offset %d\\n' %\n",
    "                                         (msg.topic(), msg.partition(), msg.offset()))\n",
    "        else:            \n",
    "            cnt = cnt + 1\n",
    "            message = loads(msg.value().decode(\"utf-8\"))\n",
    "                                new_message['y']=(message['y']=='true')     \n",
    "            score = message['score']\n",
    "            y = message['y']\n",
    "            durs.append(message['duration'])\n",
    "            mem_usage.append(message['mem_usage'])\n",
    "            auc = auc.update(y, score)\n",
    "            f1 = f1.update(y, score)\n",
    "            recall = recall.update(y, score)\n",
    "            "
   ]
  },
  {
   "cell_type": "code",
   "execution_count": null,
   "id": "a5be61a1-7435-4767-a9d3-203a1d6ca15c",
   "metadata": {},
   "outputs": [],
   "source": [
    "mean = statistics.mean(durs)\n",
    "median = statistics.median(durs)\n",
    "max1 = max(durs)\n",
    "min2 = min(durs)\n",
    "total_records = len(durs)\n",
    "memory_usage = statistics.mean(mem)\n",
    "print(auc)\n",
    "print(f1)\n",
    "print(recall)"
   ]
  }
 ],
 "metadata": {
  "kernelspec": {
   "display_name": "Python 3",
   "language": "python",
   "name": "python3"
  },
  "language_info": {
   "codemirror_mode": {
    "name": "ipython",
    "version": 3
   },
   "file_extension": ".py",
   "mimetype": "text/x-python",
   "name": "python",
   "nbconvert_exporter": "python",
   "pygments_lexer": "ipython3",
   "version": "3.9.15"
  }
 },
 "nbformat": 4,
 "nbformat_minor": 5
}
